{
 "metadata": {
  "name": "",
  "signature": "sha256:593353ba3a76b7c16c12b022f4f5226e0aceaabcec893dc5383785c3e585f0e3"
 },
 "nbformat": 3,
 "nbformat_minor": 0,
 "worksheets": [
  {
   "cells": [
    {
     "cell_type": "code",
     "collapsed": false,
     "input": [
      "import pandas as pd\n",
      "import matplotlib.pyplot as plt\n",
      "from datetime import datetime\n",
      "import numpy as np"
     ],
     "language": "python",
     "metadata": {},
     "outputs": [],
     "prompt_number": 77
    },
    {
     "cell_type": "code",
     "collapsed": false,
     "input": [
      "excratedf = pd.read_csv('excrate.csv')\n",
      "borrowersdf = pd.read_csv('borrowers.csv')\n",
      "groupexcratedf = excratedf.groupby('currency')\n",
      "excratedf['currency'].unique()"
     ],
     "language": "python",
     "metadata": {},
     "outputs": [
      {
       "metadata": {},
       "output_type": "pyout",
       "prompt_number": 199,
       "text": [
        "array([  0,  24,  35,  81,  91,  94, 101, 135, 160, 193, 243])"
       ]
      }
     ],
     "prompt_number": 199
    },
    {
     "cell_type": "code",
     "collapsed": false,
     "input": [
      "countrycurrency = excratedf[excratedf['currency']==24]"
     ],
     "language": "python",
     "metadata": {},
     "outputs": [],
     "prompt_number": 223
    },
    {
     "cell_type": "code",
     "collapsed": false,
     "input": [
      "sortcc = countrycurrency.sort('start').reset_index()\n"
     ],
     "language": "python",
     "metadata": {},
     "outputs": [],
     "prompt_number": 228
    },
    {
     "cell_type": "code",
     "collapsed": false,
     "input": [
      "sortcc"
     ],
     "language": "python",
     "metadata": {},
     "outputs": [
      {
       "html": [
        "<div style=\"max-height:1000px;max-width:1500px;overflow:auto;\">\n",
        "<table border=\"1\" class=\"dataframe\">\n",
        "  <thead>\n",
        "    <tr style=\"text-align: right;\">\n",
        "      <th></th>\n",
        "      <th>index</th>\n",
        "      <th>rate</th>\n",
        "      <th>start</th>\n",
        "      <th>stop</th>\n",
        "      <th>id</th>\n",
        "      <th>currency</th>\n",
        "    </tr>\n",
        "  </thead>\n",
        "  <tbody>\n",
        "    <tr>\n",
        "      <th>0 </th>\n",
        "      <td> 66</td>\n",
        "      <td> 524.029</td>\n",
        "      <td> 1345835755</td>\n",
        "      <td> 1346498354</td>\n",
        "      <td> 101</td>\n",
        "      <td> 24</td>\n",
        "    </tr>\n",
        "    <tr>\n",
        "      <th>1 </th>\n",
        "      <td> 87</td>\n",
        "      <td> 512.640</td>\n",
        "      <td> 1346498354</td>\n",
        "      <td> 1349088270</td>\n",
        "      <td> 105</td>\n",
        "      <td> 24</td>\n",
        "    </tr>\n",
        "    <tr>\n",
        "      <th>2 </th>\n",
        "      <td> 70</td>\n",
        "      <td> 500.010</td>\n",
        "      <td> 1349088270</td>\n",
        "      <td> 1351821198</td>\n",
        "      <td> 113</td>\n",
        "      <td> 24</td>\n",
        "    </tr>\n",
        "    <tr>\n",
        "      <th>3 </th>\n",
        "      <td> 79</td>\n",
        "      <td> 505.409</td>\n",
        "      <td> 1351821198</td>\n",
        "      <td> 1354363314</td>\n",
        "      <td> 122</td>\n",
        "      <td> 24</td>\n",
        "    </tr>\n",
        "    <tr>\n",
        "      <th>4 </th>\n",
        "      <td> 83</td>\n",
        "      <td> 505.788</td>\n",
        "      <td> 1354363314</td>\n",
        "      <td> 1357060624</td>\n",
        "      <td> 131</td>\n",
        "      <td> 24</td>\n",
        "    </tr>\n",
        "    <tr>\n",
        "      <th>5 </th>\n",
        "      <td> 68</td>\n",
        "      <td> 496.803</td>\n",
        "      <td> 1357060624</td>\n",
        "      <td> 1359717664</td>\n",
        "      <td> 140</td>\n",
        "      <td> 24</td>\n",
        "    </tr>\n",
        "    <tr>\n",
        "      <th>6 </th>\n",
        "      <td> 64</td>\n",
        "      <td> 483.672</td>\n",
        "      <td> 1359717664</td>\n",
        "      <td> 1362146210</td>\n",
        "      <td> 149</td>\n",
        "      <td> 24</td>\n",
        "    </tr>\n",
        "    <tr>\n",
        "      <th>7 </th>\n",
        "      <td> 72</td>\n",
        "      <td> 499.855</td>\n",
        "      <td> 1362146210</td>\n",
        "      <td> 1364811329</td>\n",
        "      <td> 158</td>\n",
        "      <td> 24</td>\n",
        "    </tr>\n",
        "    <tr>\n",
        "      <th>8 </th>\n",
        "      <td> 73</td>\n",
        "      <td> 511.570</td>\n",
        "      <td> 1364811329</td>\n",
        "      <td> 1367405639</td>\n",
        "      <td> 167</td>\n",
        "      <td> 24</td>\n",
        "    </tr>\n",
        "    <tr>\n",
        "      <th>9 </th>\n",
        "      <td> 69</td>\n",
        "      <td> 501.249</td>\n",
        "      <td> 1367405639</td>\n",
        "      <td> 1370094884</td>\n",
        "      <td> 176</td>\n",
        "      <td> 24</td>\n",
        "    </tr>\n",
        "    <tr>\n",
        "      <th>10</th>\n",
        "      <td> 67</td>\n",
        "      <td> 503.676</td>\n",
        "      <td> 1370094884</td>\n",
        "      <td> 1372679067</td>\n",
        "      <td> 187</td>\n",
        "      <td> 24</td>\n",
        "    </tr>\n",
        "    <tr>\n",
        "      <th>11</th>\n",
        "      <td> 65</td>\n",
        "      <td> 501.450</td>\n",
        "      <td> 1372679067</td>\n",
        "      <td> 1375346882</td>\n",
        "      <td> 194</td>\n",
        "      <td> 24</td>\n",
        "    </tr>\n",
        "    <tr>\n",
        "      <th>12</th>\n",
        "      <td> 85</td>\n",
        "      <td> 494.751</td>\n",
        "      <td> 1375346882</td>\n",
        "      <td> 1378077347</td>\n",
        "      <td> 203</td>\n",
        "      <td> 24</td>\n",
        "    </tr>\n",
        "    <tr>\n",
        "      <th>13</th>\n",
        "      <td> 88</td>\n",
        "      <td> 496.150</td>\n",
        "      <td> 1378077347</td>\n",
        "      <td> 1380626724</td>\n",
        "      <td> 214</td>\n",
        "      <td> 24</td>\n",
        "    </tr>\n",
        "    <tr>\n",
        "      <th>14</th>\n",
        "      <td> 84</td>\n",
        "      <td> 486.037</td>\n",
        "      <td> 1380626724</td>\n",
        "      <td> 1383307288</td>\n",
        "      <td> 226</td>\n",
        "      <td> 24</td>\n",
        "    </tr>\n",
        "    <tr>\n",
        "      <th>15</th>\n",
        "      <td> 82</td>\n",
        "      <td> 478.948</td>\n",
        "      <td> 1383307288</td>\n",
        "      <td> 1385904890</td>\n",
        "      <td> 235</td>\n",
        "      <td> 24</td>\n",
        "    </tr>\n",
        "    <tr>\n",
        "      <th>16</th>\n",
        "      <td> 81</td>\n",
        "      <td> 482.570</td>\n",
        "      <td> 1385904890</td>\n",
        "      <td> 1388585789</td>\n",
        "      <td> 244</td>\n",
        "      <td> 24</td>\n",
        "    </tr>\n",
        "    <tr>\n",
        "      <th>17</th>\n",
        "      <td> 78</td>\n",
        "      <td> 475.695</td>\n",
        "      <td> 1388585789</td>\n",
        "      <td> 1391262412</td>\n",
        "      <td> 254</td>\n",
        "      <td> 24</td>\n",
        "    </tr>\n",
        "    <tr>\n",
        "      <th>18</th>\n",
        "      <td> 77</td>\n",
        "      <td> 484.852</td>\n",
        "      <td> 1391262412</td>\n",
        "      <td> 1393688110</td>\n",
        "      <td> 265</td>\n",
        "      <td> 24</td>\n",
        "    </tr>\n",
        "    <tr>\n",
        "      <th>19</th>\n",
        "      <td> 75</td>\n",
        "      <td> 476.992</td>\n",
        "      <td> 1393688110</td>\n",
        "      <td> 1396366717</td>\n",
        "      <td> 275</td>\n",
        "      <td> 24</td>\n",
        "    </tr>\n",
        "    <tr>\n",
        "      <th>20</th>\n",
        "      <td> 74</td>\n",
        "      <td> 476.193</td>\n",
        "      <td> 1396366717</td>\n",
        "      <td> 1398943798</td>\n",
        "      <td> 284</td>\n",
        "      <td> 24</td>\n",
        "    </tr>\n",
        "    <tr>\n",
        "      <th>21</th>\n",
        "      <td> 76</td>\n",
        "      <td> 474.644</td>\n",
        "      <td> 1398943798</td>\n",
        "      <td> 1401738872</td>\n",
        "      <td> 295</td>\n",
        "      <td> 24</td>\n",
        "    </tr>\n",
        "    <tr>\n",
        "      <th>22</th>\n",
        "      <td> 80</td>\n",
        "      <td> 482.121</td>\n",
        "      <td> 1401738872</td>\n",
        "      <td> 1404210948</td>\n",
        "      <td> 304</td>\n",
        "      <td> 24</td>\n",
        "    </tr>\n",
        "    <tr>\n",
        "      <th>23</th>\n",
        "      <td> 86</td>\n",
        "      <td> 480.645</td>\n",
        "      <td> 1404210948</td>\n",
        "      <td> 1406886214</td>\n",
        "      <td> 313</td>\n",
        "      <td> 24</td>\n",
        "    </tr>\n",
        "    <tr>\n",
        "      <th>24</th>\n",
        "      <td> 63</td>\n",
        "      <td> 489.866</td>\n",
        "      <td> 1406886214</td>\n",
        "      <td> 1409575435</td>\n",
        "      <td> 322</td>\n",
        "      <td> 24</td>\n",
        "    </tr>\n",
        "    <tr>\n",
        "      <th>25</th>\n",
        "      <td> 71</td>\n",
        "      <td> 499.440</td>\n",
        "      <td> 1409575435</td>\n",
        "      <td>        NaN</td>\n",
        "      <td> 331</td>\n",
        "      <td> 24</td>\n",
        "    </tr>\n",
        "  </tbody>\n",
        "</table>\n",
        "<p>26 rows \u00d7 6 columns</p>\n",
        "</div>"
       ],
       "metadata": {},
       "output_type": "pyout",
       "prompt_number": 229,
       "text": [
        "    index     rate       start        stop   id  currency\n",
        "0      66  524.029  1345835755  1346498354  101        24\n",
        "1      87  512.640  1346498354  1349088270  105        24\n",
        "2      70  500.010  1349088270  1351821198  113        24\n",
        "3      79  505.409  1351821198  1354363314  122        24\n",
        "4      83  505.788  1354363314  1357060624  131        24\n",
        "5      68  496.803  1357060624  1359717664  140        24\n",
        "6      64  483.672  1359717664  1362146210  149        24\n",
        "7      72  499.855  1362146210  1364811329  158        24\n",
        "8      73  511.570  1364811329  1367405639  167        24\n",
        "9      69  501.249  1367405639  1370094884  176        24\n",
        "10     67  503.676  1370094884  1372679067  187        24\n",
        "11     65  501.450  1372679067  1375346882  194        24\n",
        "12     85  494.751  1375346882  1378077347  203        24\n",
        "13     88  496.150  1378077347  1380626724  214        24\n",
        "14     84  486.037  1380626724  1383307288  226        24\n",
        "15     82  478.948  1383307288  1385904890  235        24\n",
        "16     81  482.570  1385904890  1388585789  244        24\n",
        "17     78  475.695  1388585789  1391262412  254        24\n",
        "18     77  484.852  1391262412  1393688110  265        24\n",
        "19     75  476.992  1393688110  1396366717  275        24\n",
        "20     74  476.193  1396366717  1398943798  284        24\n",
        "21     76  474.644  1398943798  1401738872  295        24\n",
        "22     80  482.121  1401738872  1404210948  304        24\n",
        "23     86  480.645  1404210948  1406886214  313        24\n",
        "24     63  489.866  1406886214  1409575435  322        24\n",
        "25     71  499.440  1409575435         NaN  331        24\n",
        "\n",
        "[26 rows x 6 columns]"
       ]
      }
     ],
     "prompt_number": 229
    },
    {
     "cell_type": "code",
     "collapsed": false,
     "input": [
      "relexcrate = []\n",
      "i = 0\n",
      "for date in sortcc['start']:\n",
      "    enddate = date + 6*30*24*3600\n",
      "    if enddate <= np.max(sortcc['stop']):\n",
      "        beginrate = sortcc.ix[(sortcc.start-date).abs().argsort()[:1]]\n",
      "        endrate = sortcc.ix[(sortcc.stop-enddate).abs().argsort()[:1]]\n",
      "    \n",
      "    relexcrate.append(endrate.iloc[0]['rate']/beginrate.iloc[0]['rate'])\n",
      "\n",
      "        \n",
      "        \n",
      "        \n",
      "    "
     ],
     "language": "python",
     "metadata": {},
     "outputs": [],
     "prompt_number": 234
    },
    {
     "cell_type": "code",
     "collapsed": false,
     "input": [
      "date = 1345835755\n",
      "date"
     ],
     "language": "python",
     "metadata": {},
     "outputs": [
      {
       "metadata": {},
       "output_type": "pyout",
       "prompt_number": 235,
       "text": [
        "1345835755"
       ]
      }
     ],
     "prompt_number": 235
    },
    {
     "cell_type": "code",
     "collapsed": false,
     "input": [
      "enddate = date + 6*30*24*3600\n",
      "enddate"
     ],
     "language": "python",
     "metadata": {},
     "outputs": [
      {
       "metadata": {},
       "output_type": "pyout",
       "prompt_number": 236,
       "text": [
        "1361387755"
       ]
      }
     ],
     "prompt_number": 236
    },
    {
     "cell_type": "code",
     "collapsed": false,
     "input": [
      "endrate = sortcc.ix[(sortcc.stop-enddate).abs().argsort()[:1]]\n",
      "endrate"
     ],
     "language": "python",
     "metadata": {},
     "outputs": [
      {
       "html": [
        "<div style=\"max-height:1000px;max-width:1500px;overflow:auto;\">\n",
        "<table border=\"1\" class=\"dataframe\">\n",
        "  <thead>\n",
        "    <tr style=\"text-align: right;\">\n",
        "      <th></th>\n",
        "      <th>index</th>\n",
        "      <th>rate</th>\n",
        "      <th>start</th>\n",
        "      <th>stop</th>\n",
        "      <th>id</th>\n",
        "      <th>currency</th>\n",
        "    </tr>\n",
        "  </thead>\n",
        "  <tbody>\n",
        "    <tr>\n",
        "      <th>6</th>\n",
        "      <td> 64</td>\n",
        "      <td> 483.672</td>\n",
        "      <td> 1359717664</td>\n",
        "      <td> 1362146210</td>\n",
        "      <td> 149</td>\n",
        "      <td> 24</td>\n",
        "    </tr>\n",
        "  </tbody>\n",
        "</table>\n",
        "<p>1 rows \u00d7 6 columns</p>\n",
        "</div>"
       ],
       "metadata": {},
       "output_type": "pyout",
       "prompt_number": 237,
       "text": [
        "   index     rate       start        stop   id  currency\n",
        "6     64  483.672  1359717664  1362146210  149        24\n",
        "\n",
        "[1 rows x 6 columns]"
       ]
      }
     ],
     "prompt_number": 237
    },
    {
     "cell_type": "code",
     "collapsed": false,
     "input": [
      "relexcrate"
     ],
     "language": "python",
     "metadata": {},
     "outputs": [
      {
       "metadata": {},
       "output_type": "pyout",
       "prompt_number": 239,
       "text": [
        "[0.92298708659253581,\n",
        " 0.94349250936329587,\n",
        " 0.99969000619987602,\n",
        " 1.0121901272039082,\n",
        " 0.9910258843626184,\n",
        " 1.0138344575213916,\n",
        " 1.0367563141963976,\n",
        " 0.98978903882125813,\n",
        " 0.96985749750767247,\n",
        " 0.96965180977917154,\n",
        " 0.95090494683089932,\n",
        " 0.96234918735666564,\n",
        " 0.96148365541454184,\n",
        " 0.97722866068729219,\n",
        " 0.9813903056763168,\n",
        " 0.99424780978310801,\n",
        " 0.98357543983256313,\n",
        " 1.0135086557563144,\n",
        " 0.9913231254073408,\n",
        " 1.0269899704816854,\n",
        " 1.0269899704816854,\n",
        " 1.0269899704816854,\n",
        " 1.0269899704816854,\n",
        " 1.0269899704816854,\n",
        " 1.0269899704816854,\n",
        " 1.0269899704816854]"
       ]
      }
     ],
     "prompt_number": 239
    },
    {
     "cell_type": "code",
     "collapsed": false,
     "input": [
      "np.mean(relexcrate)"
     ],
     "language": "python",
     "metadata": {},
     "outputs": [
      {
       "metadata": {},
       "output_type": "pyout",
       "prompt_number": 238,
       "text": [
        "0.99439293506403736"
       ]
      }
     ],
     "prompt_number": 238
    },
    {
     "cell_type": "code",
     "collapsed": false,
     "input": [],
     "language": "python",
     "metadata": {},
     "outputs": []
    },
    {
     "cell_type": "code",
     "collapsed": false,
     "input": [
      "np.var(relexcrate)"
     ],
     "language": "python",
     "metadata": {},
     "outputs": [
      {
       "metadata": {},
       "output_type": "pyout",
       "prompt_number": 240,
       "text": [
        "0.0009172411214496591"
       ]
      }
     ],
     "prompt_number": 240
    },
    {
     "cell_type": "code",
     "collapsed": false,
     "input": [
      "datetime.fromtimestamp(3600)"
     ],
     "language": "python",
     "metadata": {},
     "outputs": [
      {
       "metadata": {},
       "output_type": "pyout",
       "prompt_number": 109,
       "text": [
        "datetime.datetime(1969, 12, 31, 17, 0)"
       ]
      }
     ],
     "prompt_number": 109
    },
    {
     "cell_type": "code",
     "collapsed": false,
     "input": [
      "3600*24"
     ],
     "language": "python",
     "metadata": {},
     "outputs": [
      {
       "metadata": {},
       "output_type": "pyout",
       "prompt_number": 110,
       "text": [
        "86400"
       ]
      }
     ],
     "prompt_number": 110
    },
    {
     "cell_type": "code",
     "collapsed": false,
     "input": [],
     "language": "python",
     "metadata": {},
     "outputs": []
    }
   ],
   "metadata": {}
  }
 ]
}