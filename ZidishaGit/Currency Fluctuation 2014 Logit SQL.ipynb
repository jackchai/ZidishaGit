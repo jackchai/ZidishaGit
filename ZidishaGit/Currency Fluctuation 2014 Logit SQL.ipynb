{
 "metadata": {
  "name": "",
  "signature": "sha256:d45ae13b922daecc602260d66e7ab365dcf22b4e1fec3cb9b29696bf640d25a9"
 },
 "nbformat": 3,
 "nbformat_minor": 0,
 "worksheets": [
  {
   "cells": [
    {
     "cell_type": "code",
     "collapsed": false,
     "input": [
      "import pandas as pd\n",
      "import pandas.io.sql as psql\n",
      "import matplotlib.pyplot as plt\n",
      "import matplotlib.dates as mdates\n",
      "from datetime import datetime\n",
      "import numpy as np\n",
      "import MySQLdb as mdb \n",
      "import time\n",
      "import statsmodels.api as sm\n",
      "from sklearn import svm\n",
      "from patsy import dmatrices"
     ],
     "language": "python",
     "metadata": {},
     "outputs": [],
     "prompt_number": 1
    },
    {
     "cell_type": "code",
     "collapsed": false,
     "input": [
      "#excratedf = pd.read_csv('excrate.csv')\n",
      "#borrowersdf = pd.read_csv('borrowers.csv')\n",
      "#groupexcratedf = excratedf.groupby('currency')\n",
      "#excratedf['currency'].unique()\n",
      "#rsh = pd.read_csv('repaymentschedule.csv')\n",
      "#rsa = pd.read_csv('repaymentschedule_actual.csv')\n",
      "#rsh = pd.read_csv('repaymentschedule_history.csv')\n",
      "#loanapplic = pd.read_csv('loanapplic.csv')\n",
      "#borrowers = pd.read_csv('borrowers.csv')\n",
      "#transactions = pd.read_csv('transactions.csv')"
     ],
     "language": "python",
     "metadata": {},
     "outputs": [],
     "prompt_number": 2
    },
    {
     "cell_type": "code",
     "collapsed": false,
     "input": [
      "con = mdb.connect(host = 'localhost', user = 'root', passwd = 'pptz/90275', db = 'zidisha')"
     ],
     "language": "python",
     "metadata": {},
     "outputs": [],
     "prompt_number": 3
    },
    {
     "cell_type": "code",
     "collapsed": false,
     "input": [
      "with con:\n",
      "    cur = con.cursor()\n",
      "    sql = \"SELECT * FROM excrate\"\n",
      "    excratedf = psql.frame_query(sql, con)\n",
      "\n",
      "    sql = \"SELECT * FROM borrowers\"\n",
      "    borrowers = psql.frame_query(sql, con)\n",
      "    \n",
      "    sql = \"SELECT * FROM repaymentschedule\"\n",
      "    rsh = psql.frame_query(sql, con)\n",
      "    \n",
      "    sql = \"SELECT * FROM loanapplic\"\n",
      "    loanapplic = psql.frame_query(sql, con)\n",
      "    \n",
      "    cur.execute('DROP TABLE IF EXISTS compinfo3')\n",
      "    sql = \"CREATE TABLE compinfo3 AS SELECT a.*, b.borrowerid, b.Amount as totalamount, b.interest, b.period, b.AcceptDate, b.loan_category_id FROM repaymentschedule as a LEFT JOIN loanapplic as b ON a.loanid = b.loanid;\"\n",
      "    cur.execute(sql)\n",
      "    \n",
      "    cur.execute('DROP TABLE IF EXISTS compinfo4')\n",
      "    sql = \"CREATE TABLE compinfo4 AS SELECT a.*, b.Country, b.AnnualIncome, b.currency, b.isdebtfree, b.sift_score FROM compinfo3 as a LEFT JOIN borrowers as b ON a.borrowerid = b.userid;\"\n",
      "    cur.execute(sql)\n",
      "    \n",
      "    sql = \"SELECT a.*, b.rate FROM compinfo4 as a LEFT JOIN excrate as b ON a.currency = b.currency AND a.paiddate > b.start AND a.paiddate < b.stop;\"\n",
      "    ci = psql.frame_query(sql, con)\n",
      "    \n",
      "    cur.execute('DROP TABLE IF EXISTS compinfo3')\n",
      "    cur.execute('DROP TABLE IF EXISTS compinfo4')\n",
      "    cur.execute('DROP TABLE IF EXISTS compinfo5')\n",
      "    \n",
      "    \n",
      "    \n",
      "    "
     ],
     "language": "python",
     "metadata": {},
     "outputs": [
      {
       "output_type": "stream",
       "stream": "stderr",
       "text": [
        "-c:15: Warning: Unknown table 'compinfo3'\n",
        "-c:19: Warning: Unknown table 'compinfo4'\n"
       ]
      },
      {
       "output_type": "stream",
       "stream": "stderr",
       "text": [
        "-c:28: Warning: Unknown table 'compinfo5'\n"
       ]
      }
     ],
     "prompt_number": 4
    },
    {
     "cell_type": "code",
     "collapsed": false,
     "input": [
      "compinfo = ci"
     ],
     "language": "python",
     "metadata": {},
     "outputs": [],
     "prompt_number": 54
    },
    {
     "cell_type": "code",
     "collapsed": false,
     "input": [
      "compinfo2 = compinfo.sort('loanid')\n",
      "currdate = datetime.now()\n",
      "twomonthtime = time.mktime(currdate.timetuple()) - 60*24*3600"
     ],
     "language": "python",
     "metadata": {},
     "outputs": [],
     "prompt_number": 55
    },
    {
     "cell_type": "code",
     "collapsed": false,
     "input": [
      "compinfo2 = compinfo2[compinfo2.duedate.apply(float)<twomonthtime]"
     ],
     "language": "python",
     "metadata": {},
     "outputs": [],
     "prompt_number": 56
    },
    {
     "cell_type": "code",
     "collapsed": false,
     "input": [
      "compinfo2['truepaidamt'] = compinfo2.paidamt/compinfo2.rate\n",
      "compinfo2['trueamtrepay'] = compinfo2.amount/compinfo2.rate\n",
      "trueamtdf = compinfo2[['loanid','trueamtrepay']]\n",
      "truepamtdf = compinfo2[['loanid','truepaidamt']]\n",
      "trueamtdf = trueamtdf.dropna()\n",
      "truepamtdf = truepamtdf.dropna()"
     ],
     "language": "python",
     "metadata": {},
     "outputs": [],
     "prompt_number": 62
    },
    {
     "cell_type": "code",
     "collapsed": false,
     "input": [
      "compinfo2 = compinfo2.groupby('loanid')\n",
      "compinfo2 = compinfo2.head(1)\n",
      "compinfo2 = compinfo2.reset_index(drop = True)\n",
      "\n",
      "#localamount = localamount.sort('loanid')\n",
      "#localamount = localamount.groupby('loanid')\n",
      "#localamount = localamount['amount'].apply(sum)\n",
      "#localamount = localamount.reset_index()\n",
      "#localamount = localamount.rename(columns = {0:'localamount'})\n"
     ],
     "language": "python",
     "metadata": {},
     "outputs": [],
     "prompt_number": 63
    },
    {
     "cell_type": "code",
     "collapsed": false,
     "input": [
      "#compinfo = pd.merge(compinfo,localamount, on = 'loanid')"
     ],
     "language": "python",
     "metadata": {},
     "outputs": [],
     "prompt_number": 64
    },
    {
     "cell_type": "code",
     "collapsed": false,
     "input": [
      "compinfo['totalamtinvested'] = compinfo.totalamount/compinfo.rate\n",
      "totalamtinvested = compinfo[['loanid','totalamtinvested']]\n",
      "totalamtinvested = totalamtinvested.dropna()\n",
      "totalamtinvested = totalamtinvested.sort('loanid')\n",
      "totalamtinvested = totalamtinvested.groupby('loanid')\n",
      "totalamtinvested = totalamtinvested.head(1)\n",
      "totalamtinvested = totalamtinvested.reset_index(drop = True)"
     ],
     "language": "python",
     "metadata": {},
     "outputs": [],
     "prompt_number": 65
    },
    {
     "cell_type": "code",
     "collapsed": false,
     "input": [
      "#compinfo['trueamtrepay'] = compinfo.localamount/compinfo.rate\n",
      "#trueamtrepay = compinfo[['loanid','trueamtrepay']]\n",
      "#trueamtrepay = trueamtrepay.dropna()\n",
      "#trueamtrepay = trueamtrepay.sort('loanid')\n",
      "#trueamtrepay = trueamtrepay.groupby('loanid')\n",
      "#trueamtrepay = trueamtrepay.head(1)\n",
      "#trueamtrepay = trueamtrepay.reset_index(drop = True)"
     ],
     "language": "python",
     "metadata": {},
     "outputs": [],
     "prompt_number": 66
    },
    {
     "cell_type": "code",
     "collapsed": false,
     "input": [
      "trueamtrepay = trueamtdf.sort('loanid')\n",
      "trueamtrepay = trueamtrepay.groupby('loanid')\n",
      "trueamtrepay = trueamtrepay['trueamtrepay'].apply(sum)\n",
      "trueamtrepay = trueamtrepay.reset_index()\n",
      "trueamtrepay = trueamtrepay.rename(columns = {0:'trueamtrepay'})\n",
      "trueamtrepay"
     ],
     "language": "python",
     "metadata": {},
     "outputs": [
      {
       "html": [
        "<div style=\"max-height:1000px;max-width:1500px;overflow:auto;\">\n",
        "<table border=\"1\" class=\"dataframe\">\n",
        "  <thead>\n",
        "    <tr style=\"text-align: right;\">\n",
        "      <th></th>\n",
        "      <th>loanid</th>\n",
        "      <th>trueamtrepay</th>\n",
        "    </tr>\n",
        "  </thead>\n",
        "  <tbody>\n",
        "    <tr>\n",
        "      <th>0 </th>\n",
        "      <td>  1</td>\n",
        "      <td>  853.752474</td>\n",
        "    </tr>\n",
        "    <tr>\n",
        "      <th>1 </th>\n",
        "      <td>  2</td>\n",
        "      <td>  850.217630</td>\n",
        "    </tr>\n",
        "    <tr>\n",
        "      <th>2 </th>\n",
        "      <td>  3</td>\n",
        "      <td>  854.537706</td>\n",
        "    </tr>\n",
        "    <tr>\n",
        "      <th>3 </th>\n",
        "      <td>  4</td>\n",
        "      <td>  953.992028</td>\n",
        "    </tr>\n",
        "    <tr>\n",
        "      <th>4 </th>\n",
        "      <td>  5</td>\n",
        "      <td>  240.477158</td>\n",
        "    </tr>\n",
        "    <tr>\n",
        "      <th>5 </th>\n",
        "      <td>  6</td>\n",
        "      <td>  889.008735</td>\n",
        "    </tr>\n",
        "    <tr>\n",
        "      <th>6 </th>\n",
        "      <td>  7</td>\n",
        "      <td>  856.041273</td>\n",
        "    </tr>\n",
        "    <tr>\n",
        "      <th>7 </th>\n",
        "      <td>  8</td>\n",
        "      <td>   53.940056</td>\n",
        "    </tr>\n",
        "    <tr>\n",
        "      <th>8 </th>\n",
        "      <td>  9</td>\n",
        "      <td> 1257.489809</td>\n",
        "    </tr>\n",
        "    <tr>\n",
        "      <th>9 </th>\n",
        "      <td> 10</td>\n",
        "      <td>  282.983647</td>\n",
        "    </tr>\n",
        "    <tr>\n",
        "      <th>10</th>\n",
        "      <td> 12</td>\n",
        "      <td>  886.029905</td>\n",
        "    </tr>\n",
        "    <tr>\n",
        "      <th>11</th>\n",
        "      <td> 13</td>\n",
        "      <td>  550.220476</td>\n",
        "    </tr>\n",
        "    <tr>\n",
        "      <th>12</th>\n",
        "      <td> 14</td>\n",
        "      <td>  463.136548</td>\n",
        "    </tr>\n",
        "    <tr>\n",
        "      <th>13</th>\n",
        "      <td> 15</td>\n",
        "      <td>  320.829501</td>\n",
        "    </tr>\n",
        "    <tr>\n",
        "      <th>14</th>\n",
        "      <td> 16</td>\n",
        "      <td>  413.031572</td>\n",
        "    </tr>\n",
        "    <tr>\n",
        "      <th>15</th>\n",
        "      <td> 17</td>\n",
        "      <td>  605.250925</td>\n",
        "    </tr>\n",
        "    <tr>\n",
        "      <th>16</th>\n",
        "      <td> 19</td>\n",
        "      <td>  681.081041</td>\n",
        "    </tr>\n",
        "    <tr>\n",
        "      <th>17</th>\n",
        "      <td> 20</td>\n",
        "      <td>  942.141856</td>\n",
        "    </tr>\n",
        "    <tr>\n",
        "      <th>18</th>\n",
        "      <td> 21</td>\n",
        "      <td>  429.014910</td>\n",
        "    </tr>\n",
        "    <tr>\n",
        "      <th>19</th>\n",
        "      <td> 22</td>\n",
        "      <td>  846.196875</td>\n",
        "    </tr>\n",
        "    <tr>\n",
        "      <th>20</th>\n",
        "      <td> 23</td>\n",
        "      <td>  984.680383</td>\n",
        "    </tr>\n",
        "    <tr>\n",
        "      <th>21</th>\n",
        "      <td> 24</td>\n",
        "      <td>  412.853259</td>\n",
        "    </tr>\n",
        "    <tr>\n",
        "      <th>22</th>\n",
        "      <td> 25</td>\n",
        "      <td>  543.442477</td>\n",
        "    </tr>\n",
        "    <tr>\n",
        "      <th>23</th>\n",
        "      <td> 26</td>\n",
        "      <td>  267.215296</td>\n",
        "    </tr>\n",
        "    <tr>\n",
        "      <th>24</th>\n",
        "      <td> 28</td>\n",
        "      <td>  381.265889</td>\n",
        "    </tr>\n",
        "    <tr>\n",
        "      <th>25</th>\n",
        "      <td> 29</td>\n",
        "      <td>  403.622333</td>\n",
        "    </tr>\n",
        "    <tr>\n",
        "      <th>26</th>\n",
        "      <td> 30</td>\n",
        "      <td>  262.039720</td>\n",
        "    </tr>\n",
        "    <tr>\n",
        "      <th>27</th>\n",
        "      <td> 31</td>\n",
        "      <td>  477.247248</td>\n",
        "    </tr>\n",
        "    <tr>\n",
        "      <th>28</th>\n",
        "      <td> 33</td>\n",
        "      <td>  255.374031</td>\n",
        "    </tr>\n",
        "    <tr>\n",
        "      <th>29</th>\n",
        "      <td> 34</td>\n",
        "      <td>  763.432165</td>\n",
        "    </tr>\n",
        "    <tr>\n",
        "      <th>30</th>\n",
        "      <td> 36</td>\n",
        "      <td>  255.502815</td>\n",
        "    </tr>\n",
        "    <tr>\n",
        "      <th>31</th>\n",
        "      <td> 37</td>\n",
        "      <td>  883.182262</td>\n",
        "    </tr>\n",
        "    <tr>\n",
        "      <th>32</th>\n",
        "      <td> 38</td>\n",
        "      <td>  755.616991</td>\n",
        "    </tr>\n",
        "    <tr>\n",
        "      <th>33</th>\n",
        "      <td> 39</td>\n",
        "      <td>  157.820443</td>\n",
        "    </tr>\n",
        "    <tr>\n",
        "      <th>34</th>\n",
        "      <td> 40</td>\n",
        "      <td>  256.131952</td>\n",
        "    </tr>\n",
        "    <tr>\n",
        "      <th>35</th>\n",
        "      <td> 41</td>\n",
        "      <td>  189.949982</td>\n",
        "    </tr>\n",
        "    <tr>\n",
        "      <th>36</th>\n",
        "      <td> 47</td>\n",
        "      <td>  562.287318</td>\n",
        "    </tr>\n",
        "    <tr>\n",
        "      <th>37</th>\n",
        "      <td> 48</td>\n",
        "      <td>  152.784580</td>\n",
        "    </tr>\n",
        "    <tr>\n",
        "      <th>38</th>\n",
        "      <td> 49</td>\n",
        "      <td>  801.726126</td>\n",
        "    </tr>\n",
        "    <tr>\n",
        "      <th>39</th>\n",
        "      <td> 50</td>\n",
        "      <td>  248.491748</td>\n",
        "    </tr>\n",
        "    <tr>\n",
        "      <th>40</th>\n",
        "      <td> 51</td>\n",
        "      <td> 1044.460127</td>\n",
        "    </tr>\n",
        "    <tr>\n",
        "      <th>41</th>\n",
        "      <td> 52</td>\n",
        "      <td>  904.233256</td>\n",
        "    </tr>\n",
        "    <tr>\n",
        "      <th>42</th>\n",
        "      <td> 53</td>\n",
        "      <td>  974.847460</td>\n",
        "    </tr>\n",
        "    <tr>\n",
        "      <th>43</th>\n",
        "      <td> 54</td>\n",
        "      <td>  772.057472</td>\n",
        "    </tr>\n",
        "    <tr>\n",
        "      <th>44</th>\n",
        "      <td> 55</td>\n",
        "      <td>  665.240703</td>\n",
        "    </tr>\n",
        "    <tr>\n",
        "      <th>45</th>\n",
        "      <td> 57</td>\n",
        "      <td>  316.417150</td>\n",
        "    </tr>\n",
        "    <tr>\n",
        "      <th>46</th>\n",
        "      <td> 58</td>\n",
        "      <td>  259.398097</td>\n",
        "    </tr>\n",
        "    <tr>\n",
        "      <th>47</th>\n",
        "      <td> 61</td>\n",
        "      <td>  690.739533</td>\n",
        "    </tr>\n",
        "    <tr>\n",
        "      <th>48</th>\n",
        "      <td> 62</td>\n",
        "      <td>  373.528646</td>\n",
        "    </tr>\n",
        "    <tr>\n",
        "      <th>49</th>\n",
        "      <td> 64</td>\n",
        "      <td>  945.842151</td>\n",
        "    </tr>\n",
        "    <tr>\n",
        "      <th>50</th>\n",
        "      <td> 65</td>\n",
        "      <td>  594.183852</td>\n",
        "    </tr>\n",
        "    <tr>\n",
        "      <th>51</th>\n",
        "      <td> 66</td>\n",
        "      <td>  819.362402</td>\n",
        "    </tr>\n",
        "    <tr>\n",
        "      <th>52</th>\n",
        "      <td> 67</td>\n",
        "      <td>  342.948894</td>\n",
        "    </tr>\n",
        "    <tr>\n",
        "      <th>53</th>\n",
        "      <td> 68</td>\n",
        "      <td>  154.427937</td>\n",
        "    </tr>\n",
        "    <tr>\n",
        "      <th>54</th>\n",
        "      <td> 69</td>\n",
        "      <td>  966.053277</td>\n",
        "    </tr>\n",
        "    <tr>\n",
        "      <th>55</th>\n",
        "      <td> 70</td>\n",
        "      <td>  803.397407</td>\n",
        "    </tr>\n",
        "    <tr>\n",
        "      <th>56</th>\n",
        "      <td> 71</td>\n",
        "      <td>  245.917870</td>\n",
        "    </tr>\n",
        "    <tr>\n",
        "      <th>57</th>\n",
        "      <td> 72</td>\n",
        "      <td>  831.308398</td>\n",
        "    </tr>\n",
        "    <tr>\n",
        "      <th>58</th>\n",
        "      <td> 73</td>\n",
        "      <td>  169.150978</td>\n",
        "    </tr>\n",
        "    <tr>\n",
        "      <th>59</th>\n",
        "      <td> 74</td>\n",
        "      <td>  774.408293</td>\n",
        "    </tr>\n",
        "    <tr>\n",
        "      <th></th>\n",
        "      <td>...</td>\n",
        "      <td>...</td>\n",
        "    </tr>\n",
        "  </tbody>\n",
        "</table>\n",
        "<p>6211 rows \u00d7 2 columns</p>\n",
        "</div>"
       ],
       "metadata": {},
       "output_type": "pyout",
       "prompt_number": 68,
       "text": [
        "    loanid  trueamtrepay\n",
        "0        1    853.752474\n",
        "1        2    850.217630\n",
        "2        3    854.537706\n",
        "3        4    953.992028\n",
        "4        5    240.477158\n",
        "5        6    889.008735\n",
        "6        7    856.041273\n",
        "7        8     53.940056\n",
        "8        9   1257.489809\n",
        "9       10    282.983647\n",
        "10      12    886.029905\n",
        "11      13    550.220476\n",
        "12      14    463.136548\n",
        "13      15    320.829501\n",
        "14      16    413.031572\n",
        "15      17    605.250925\n",
        "16      19    681.081041\n",
        "17      20    942.141856\n",
        "18      21    429.014910\n",
        "19      22    846.196875\n",
        "20      23    984.680383\n",
        "21      24    412.853259\n",
        "22      25    543.442477\n",
        "23      26    267.215296\n",
        "24      28    381.265889\n",
        "25      29    403.622333\n",
        "26      30    262.039720\n",
        "27      31    477.247248\n",
        "28      33    255.374031\n",
        "29      34    763.432165\n",
        "30      36    255.502815\n",
        "31      37    883.182262\n",
        "32      38    755.616991\n",
        "33      39    157.820443\n",
        "34      40    256.131952\n",
        "35      41    189.949982\n",
        "36      47    562.287318\n",
        "37      48    152.784580\n",
        "38      49    801.726126\n",
        "39      50    248.491748\n",
        "40      51   1044.460127\n",
        "41      52    904.233256\n",
        "42      53    974.847460\n",
        "43      54    772.057472\n",
        "44      55    665.240703\n",
        "45      57    316.417150\n",
        "46      58    259.398097\n",
        "47      61    690.739533\n",
        "48      62    373.528646\n",
        "49      64    945.842151\n",
        "50      65    594.183852\n",
        "51      66    819.362402\n",
        "52      67    342.948894\n",
        "53      68    154.427937\n",
        "54      69    966.053277\n",
        "55      70    803.397407\n",
        "56      71    245.917870\n",
        "57      72    831.308398\n",
        "58      73    169.150978\n",
        "59      74    774.408293\n",
        "       ...           ...\n",
        "\n",
        "[6211 rows x 2 columns]"
       ]
      }
     ],
     "prompt_number": 68
    },
    {
     "cell_type": "code",
     "collapsed": false,
     "input": [
      "trueamtpaid = truepamtdf.sort('loanid')\n",
      "trueamtpaid = trueamtpaid.groupby('loanid')\n",
      "trueamtpaid = trueamtpaid['truepaidamt'].apply(sum)\n",
      "trueamtpaid = trueamtpaid.reset_index()\n",
      "trueamtpaid = trueamtpaid.rename(columns = {0:'trueamtpaid'})"
     ],
     "language": "python",
     "metadata": {},
     "outputs": [],
     "prompt_number": 14
    },
    {
     "cell_type": "code",
     "collapsed": false,
     "input": [
      "compinfo2 = compinfo2.drop(['paiddate','paidamt','totalamount','rate','trueamtrepay'],axis = 1)\n",
      "compinfo2 = pd.merge(compinfo2, trueamtrepay, on = 'loanid')\n",
      "compinfo2 = pd.merge(compinfo2, trueamtpaid, on = 'loanid')\n",
      "compinfo2 = pd.merge(compinfo2, totalamtinvested, on = 'loanid')\n",
      "#rshtrunc = rsh[rsh.duedate.apply(float)<twomonthtime]\n"
     ],
     "language": "python",
     "metadata": {},
     "outputs": [],
     "prompt_number": 15
    },
    {
     "cell_type": "code",
     "collapsed": false,
     "input": [
      "compinfo2['defloss'] = compinfo2.trueamtpaid - compinfo2.trueamtrepay\n",
      "compinfo2['caploss'] = compinfo2.trueamtpaid - compinfo2.totalamtinvested"
     ],
     "language": "python",
     "metadata": {},
     "outputs": [],
     "prompt_number": 16
    },
    {
     "cell_type": "code",
     "collapsed": false,
     "input": [
      "compinfo2['deffrac'] = compinfo2.defloss/compinfo2.trueamtrepay\n",
      "compinfo2['capfrac'] = compinfo2.caploss/compinfo2.totalamtinvested"
     ],
     "language": "python",
     "metadata": {},
     "outputs": [],
     "prompt_number": 17
    },
    {
     "cell_type": "code",
     "collapsed": false,
     "input": [
      "#rshgroup = rsh.groupby('loanid')\n",
      "#rshtruncgroup = rshtrunc.groupby('loanid')"
     ],
     "language": "python",
     "metadata": {},
     "outputs": [],
     "prompt_number": 18
    },
    {
     "cell_type": "code",
     "collapsed": false,
     "input": [
      "#lossamt = rshtruncgroup['netloss'].apply(sum)\n",
      "#lossamt = lossamt.reset_index()\n",
      "#lossamt = lossamt.rename(columns = {0:'lossamt'})"
     ],
     "language": "python",
     "metadata": {},
     "outputs": [],
     "prompt_number": 19
    },
    {
     "cell_type": "code",
     "collapsed": false,
     "input": [
      "#expectedamt = rshtruncgroup['amount'].apply(sum)\n",
      "#expectedamt = expectedamt.reset_index()\n",
      "#expectedamt = expectedamt.rename(columns = {0:'expectedamt'})\n"
     ],
     "language": "python",
     "metadata": {},
     "outputs": [],
     "prompt_number": 20
    },
    {
     "cell_type": "code",
     "collapsed": false,
     "input": [
      "#paidamt = rshtruncgroup['paidamt'].apply(sum)\n",
      "#paidamt = paidamt.reset_index()\n",
      "#paidamt = paidamt.rename(columns = {0:'paidamt'})"
     ],
     "language": "python",
     "metadata": {},
     "outputs": [],
     "prompt_number": 21
    },
    {
     "cell_type": "code",
     "collapsed": false,
     "input": [
      "#fractionlost = np.abs(lossamt.lossamt)/np.abs(expectedamt.expectedamt)\n"
     ],
     "language": "python",
     "metadata": {},
     "outputs": [],
     "prompt_number": 22
    },
    {
     "cell_type": "code",
     "collapsed": false,
     "input": [
      "#compinfo = expectedamt\n",
      "#compinfo['lossamt'] = lossamt.lossamt\n",
      "#compinfo['fractionlost'] = fractionlost\n",
      "#compinfo['paidamt'] = paidamt.paidamt\n",
      "#compinfo = compinfo[compinfo.expectedamt != 0]\n"
     ],
     "language": "python",
     "metadata": {},
     "outputs": [],
     "prompt_number": 23
    },
    {
     "cell_type": "code",
     "collapsed": false,
     "input": [
      "#compinfo2 = pd.merge(compinfo,loanapplic,on = 'loanid')\n",
      "#compinfo2 = pd.merge(compinfo2, borrowers, left_on = 'borrowerid', right_on = 'userid')\n"
     ],
     "language": "python",
     "metadata": {},
     "outputs": [],
     "prompt_number": 24
    },
    {
     "cell_type": "code",
     "collapsed": false,
     "input": [
      "#compinfo2.columns"
     ],
     "language": "python",
     "metadata": {},
     "outputs": [],
     "prompt_number": 25
    },
    {
     "cell_type": "code",
     "collapsed": false,
     "input": [
      "#compinfo2.to_sql('compinfo2', con = con, flavor = 'mysql', if_exists = 'replace')"
     ],
     "language": "python",
     "metadata": {},
     "outputs": [],
     "prompt_number": 26
    },
    {
     "cell_type": "code",
     "collapsed": false,
     "input": [
      "#with con:\n",
      "#    sql = \"SELECT * FROM compinfo2 JOIN excrate ON compinfo2.currency = excrate.currency AND compinfo2.paiddate > excrate.start AND compinfo2.paiddate < excrate.stop\"\n",
      "#    compinfo3 = psql.frame_query(sql, con)"
     ],
     "language": "python",
     "metadata": {},
     "outputs": [],
     "prompt_number": 27
    },
    {
     "cell_type": "code",
     "collapsed": false,
     "input": [
      "#trueexpected = compinfo2.expectedamt/compinfo2.rate"
     ],
     "language": "python",
     "metadata": {},
     "outputs": [],
     "prompt_number": 28
    },
    {
     "cell_type": "code",
     "collapsed": false,
     "input": [
      "#truelossamt = compinfo2.lossamt/compinfo2.rate"
     ],
     "language": "python",
     "metadata": {},
     "outputs": [],
     "prompt_number": 29
    },
    {
     "cell_type": "code",
     "collapsed": false,
     "input": [
      "#truepaidamt = compinfo2.paidamt/compinfo2.rate"
     ],
     "language": "python",
     "metadata": {},
     "outputs": [],
     "prompt_number": 30
    },
    {
     "cell_type": "code",
     "collapsed": false,
     "input": [
      "#compinfo2['trueexpected'] = trueexpected"
     ],
     "language": "python",
     "metadata": {},
     "outputs": [],
     "prompt_number": 31
    },
    {
     "cell_type": "code",
     "collapsed": false,
     "input": [
      "#compinfo2['truelossamt'] = truelossamt"
     ],
     "language": "python",
     "metadata": {},
     "outputs": [],
     "prompt_number": 32
    },
    {
     "cell_type": "code",
     "collapsed": false,
     "input": [
      "#compinfo2 = pd.merge(compinfo2, groupexcratedf, how = \"left\")"
     ],
     "language": "python",
     "metadata": {},
     "outputs": [],
     "prompt_number": 33
    },
    {
     "cell_type": "code",
     "collapsed": false,
     "input": [
      "#compinfo2['truepaidamt'] = truepaidamt"
     ],
     "language": "python",
     "metadata": {},
     "outputs": [],
     "prompt_number": 34
    },
    {
     "cell_type": "code",
     "collapsed": false,
     "input": [
      "currdate = datetime(2014,1,1)\n",
      "oneyeartime = time.mktime(currdate.timetuple())"
     ],
     "language": "python",
     "metadata": {},
     "outputs": [],
     "prompt_number": 35
    },
    {
     "cell_type": "code",
     "collapsed": false,
     "input": [
      "lastyear = compinfo2[compinfo2.AcceptDate > oneyeartime]"
     ],
     "language": "python",
     "metadata": {},
     "outputs": [],
     "prompt_number": 36
    },
    {
     "cell_type": "code",
     "collapsed": false,
     "input": [
      "np.sum(lastyear.caploss)"
     ],
     "language": "python",
     "metadata": {},
     "outputs": [
      {
       "metadata": {},
       "output_type": "pyout",
       "prompt_number": 37,
       "text": [
        "-289454.95497497736"
       ]
      }
     ],
     "prompt_number": 37
    },
    {
     "cell_type": "code",
     "collapsed": false,
     "input": [
      "np.sum(lastyear.defloss)"
     ],
     "language": "python",
     "metadata": {},
     "outputs": [
      {
       "metadata": {},
       "output_type": "pyout",
       "prompt_number": 41,
       "text": [
        "-1338.4163555594614"
       ]
      }
     ],
     "prompt_number": 41
    },
    {
     "cell_type": "code",
     "collapsed": false,
     "input": [
      "np.sum(lastyear.trueamtrepay)"
     ],
     "language": "python",
     "metadata": {},
     "outputs": [
      {
       "metadata": {},
       "output_type": "pyout",
       "prompt_number": 42,
       "text": [
        "204809.19346149961"
       ]
      }
     ],
     "prompt_number": 42
    },
    {
     "cell_type": "code",
     "collapsed": false,
     "input": [
      "# At this point forward all modeling. The data has been cleaned with currency calculations"
     ],
     "language": "python",
     "metadata": {},
     "outputs": [],
     "prompt_number": 43
    },
    {
     "cell_type": "code",
     "collapsed": false,
     "input": [
      "deffracbinary = lastyear.deffrac.apply(np.ceil)"
     ],
     "language": "python",
     "metadata": {},
     "outputs": [],
     "prompt_number": 44
    },
    {
     "cell_type": "code",
     "collapsed": false,
     "input": [
      "plt.scatter(lastyear.sift_score,-lastyear.deffrac)"
     ],
     "language": "python",
     "metadata": {},
     "outputs": [
      {
       "metadata": {},
       "output_type": "pyout",
       "prompt_number": 45,
       "text": [
        "<matplotlib.collections.PathCollection at 0x7fce5c19c550>"
       ]
      },
      {
       "metadata": {},
       "output_type": "display_data",
       "png": "[encoded data removed]",
       "text": [
        "<matplotlib.figure.Figure at 0x7fce5df4a990>"
       ]
      }
     ],
     "prompt_number": 45
    },
    {
     "cell_type": "code",
     "collapsed": false,
     "input": [
      "plt.scatter(lastyear.currency, lastyear.deffrac)"
     ],
     "language": "python",
     "metadata": {},
     "outputs": [
      {
       "metadata": {},
       "output_type": "pyout",
       "prompt_number": 443,
       "text": [
        "<matplotlib.collections.PathCollection at 0x7ff2db110ad0>"
       ]
      },
      {
       "metadata": {},
       "output_type": "display_data",
       "png": "[encoded data removed]",
       "text": [
        "<matplotlib.figure.Figure at 0x7ff2d39138d0>"
       ]
      }
     ],
     "prompt_number": 443
    },
    {
     "cell_type": "code",
     "collapsed": false,
     "input": [
      "#df = lastyear\n",
      "#df['capitalinvested'] = 0\n",
      "#df1 = df[df.expectedamt > df.amount]\n",
      "#df1.capitalinvested = 1\n",
      "#newdf = pd.merge(df,df1,on = 'loanid', how = 'left')"
     ],
     "language": "python",
     "metadata": {},
     "outputs": [],
     "prompt_number": 311
    },
    {
     "cell_type": "code",
     "collapsed": false,
     "input": [
      "#lastyear2 = lastyear[lastyear.fractionlost > 0.05]\n",
      "#lastyear2 = lastyear2[lastyear2.fractionlost < 0.95]"
     ],
     "language": "python",
     "metadata": {},
     "outputs": [],
     "prompt_number": 26
    },
    {
     "cell_type": "code",
     "collapsed": false,
     "input": [
      "cols_to_keep = ['sift_score','currency','loan_category_id','totalamtinvested','AnnualIncome']\n",
      "data = lastyear[cols_to_keep]\n",
      "data['intercept'] = 1\n",
      "y, X = dmatrices('deffrac ~ interest + sift_score + currency + totalamtinvested + loan_category_id',lastyear, return_type = 'dataframe')\n",
      "#y, X = dmatrices('fractionlost ~ interest',lastyeargrouped, retuyrn_type = 'dataframe')"
     ],
     "language": "python",
     "metadata": {},
     "outputs": [],
     "prompt_number": 460
    },
    {
     "cell_type": "code",
     "collapsed": false,
     "input": [
      "#lylowsift = lastyear[lastyear.sift_score < 0.4]\n",
      "#lyhighsift =lastyear[lastyear.sift_score >= 0.4]\n",
      "#datals = lylowsift[cols_to_keep]\n",
      "#datals['intercept'] = 1\n",
      "#datahs = lyhighsift[cols_to_keep]\n",
      "#datahs['intercept'] = 1"
     ],
     "language": "python",
     "metadata": {},
     "outputs": [],
     "prompt_number": 445
    },
    {
     "cell_type": "code",
     "collapsed": false,
     "input": [
      "X = pd.DataFrame(lastyear.sift_score)\n",
      "X['intercept'] = 1\n",
      "y = -lastyear.deffrac\n",
      "logit = sm.Logit(y, X)\n",
      "result = logit.fit()\n",
      "print(result.summary())"
     ],
     "language": "python",
     "metadata": {},
     "outputs": [
      {
       "output_type": "stream",
       "stream": "stdout",
       "text": [
        "Optimization terminated successfully.\n",
        "         Current function value: 0.192112\n",
        "         Iterations 7\n",
        "                           Logit Regression Results                           \n",
        "==============================================================================\n",
        "Dep. Variable:                deffrac   No. Observations:                 2443\n",
        "Model:                          Logit   Df Residuals:                     2441\n",
        "Method:                           MLE   Df Model:                            1\n",
        "Date:                Wed, 10 Sep 2014   Pseudo R-squ.:                 0.02821\n",
        "Time:                        00:41:49   Log-Likelihood:                -469.33\n",
        "converged:                       True   LL-Null:                       -482.96\n",
        "                                        LLR p-value:                 1.786e-07\n",
        "==============================================================================\n",
        "                 coef    std err          z      P>|z|      [95.0% Conf. Int.]\n",
        "------------------------------------------------------------------------------\n",
        "sift_score     2.9849      0.499      5.977      0.000         2.006     3.964\n",
        "intercept     -4.4852      0.341    -13.164      0.000        -5.153    -3.817\n",
        "==============================================================================\n"
       ]
      }
     ],
     "prompt_number": 485
    },
    {
     "cell_type": "code",
     "collapsed": false,
     "input": [
      "lastyear.columns"
     ],
     "language": "python",
     "metadata": {},
     "outputs": [
      {
       "metadata": {},
       "output_type": "pyout",
       "prompt_number": 484,
       "text": [
        "Index([u'id', u'userid', u'loanid', u'duedate', u'amount', u'borrowerid', u'interest', u'period', u'AcceptDate', u'loan_category_id', u'Country', u'AnnualIncome', u'currency', u'isdebtfree', u'sift_score', u'truepaidamt', u'trueamtrepay', u'trueamtpaid', u'totalamtinvested', u'defloss', u'caploss', u'deffrac', u'capfrac'], dtype='object')"
       ]
      }
     ],
     "prompt_number": 484
    },
    {
     "cell_type": "code",
     "collapsed": false,
     "input": [
      "siftscore = lastyear.sift_score\n",
      "predicted = 1/(1+np.exp(-(-4.4852+2.9849*siftscore)))\n",
      "predictedint = 1/(1-predicted) -1\n",
      "print(predictedint)\n",
      "#predictedint[predictedint > 0.15] =0.15\n",
      "#predictedint = 0.15\n",
      "predictedincome = (lastyear.truepaidamt)*(1+predictedint)/(1+lastyear.interest/100)\n",
      "newloss = predictedincome - lastyear.trueamtrepay\n",
      "\n",
      "print(np.sum(lastyear.trueamtrepay))\n",
      "print(np.sum(predictedincome))\n",
      "print(np.sum(predictedincome) - np.sum(lastyear.trueamtrepay))\n",
      "print(np.sum(lastyear.defloss))\n",
      "print(np.mean(predictedint))\n",
      "print(np.mean(lastyear.interest))\n"
     ],
     "language": "python",
     "metadata": {},
     "outputs": [
      {
       "output_type": "stream",
       "stream": "stdout",
       "text": [
        "3641    0.053234\n",
        "3715    0.038335\n",
        "3723    0.031107\n",
        "3727    0.093863\n",
        "3736    0.083299\n",
        "3757    0.034021\n",
        "3760    0.099637\n",
        "3768    0.025241\n",
        "3769    0.030192\n",
        "3771    0.080849\n",
        "3774    0.033020\n",
        "3776    0.034021\n",
        "3777    0.044505\n",
        "3778    0.053234\n",
        "3780    0.032049\n",
        "...\n",
        "6196    0.043197\n",
        "6197    0.054847\n",
        "6198    0.058221\n",
        "6199    0.035051\n",
        "6200    0.096707\n",
        "6201    0.088423\n",
        "6202    0.026794\n",
        "6203    0.037208\n",
        "6204    0.048675\n",
        "6205    0.039497\n",
        "6206    0.063675\n",
        "6207    0.054847\n",
        "6208    0.031107\n",
        "6209    0.024499\n",
        "6210    0.051669\n",
        "Name: sift_score, Length: 2443, dtype: float64\n",
        "220842.653324\n",
        "20765.9034529\n",
        "-200076.749871\n",
        "-17447.5547562\n",
        "0.0749806484513\n",
        "15.5239459681\n"
       ]
      }
     ],
     "prompt_number": 489
    },
    {
     "cell_type": "code",
     "collapsed": false,
     "input": [
      "#logit = sm.Logit(lastyear.capfrac, data)\n",
      "#result = logit.fit()\n",
      "#result.summary()"
     ],
     "language": "python",
     "metadata": {},
     "outputs": [],
     "prompt_number": 457
    },
    {
     "cell_type": "code",
     "collapsed": false,
     "input": [
      "plt.scatter(siftscore, newloss)\n",
      "plt.scatter(siftscore, lastyear.truelossamt, color = 'Red')\n",
      "plt.figure()\n",
      "plt.scatter(siftscore, predictedint - lastyear.interest/100)\n",
      "plt.figure()\n",
      "plt.scatter(siftscore, predictedint)\n",
      "plt.figure()\n",
      "plt.scatter(siftscore, newloss - lastyear.truelossamt)\n",
      "#plt.plot(meangroups.sift_score,meangroups.fractionlost)\n",
      "#plt.hist(predictedincome-lastyear.trueexpected, bins = 20)\n",
      "print(np.count_nonzero(newloss > 0))\n",
      "print(np.mean(newloss[newloss > 0]))\n",
      "print(np.count_nonzero(newloss < 0))\n",
      "print(np.mean(newloss[newloss < 0]))\n",
      "print(np.count_nonzero(lastyear.truelossamt > 0))\n",
      "print(np.mean(lastyear[lastyear.truelossamt > 0].truelossamt))\n",
      "print(np.count_nonzero(lastyear.truelossamt < 0))\n",
      "print(np.mean(lastyear[lastyear.truelossamt < 0].truelossamt))\n",
      "print(np.mean(newloss))\n",
      "print(np.var(newloss))\n",
      "print(np.mean(lastyear.truelossamt))\n",
      "print(np.var(lastyear.truelossamt))"
     ],
     "language": "python",
     "metadata": {},
     "outputs": [
      {
       "ename": "AttributeError",
       "evalue": "'DataFrame' object has no attribute 'truelossamt'",
       "output_type": "pyerr",
       "traceback": [
        "\u001b[1;31m---------------------------------------------------------------------------\u001b[0m\n\u001b[1;31mAttributeError\u001b[0m                            Traceback (most recent call last)",
        "\u001b[1;32m<ipython-input-490-e2d4fb2651e1>\u001b[0m in \u001b[0;36m<module>\u001b[1;34m()\u001b[0m\n\u001b[0;32m      1\u001b[0m \u001b[0mplt\u001b[0m\u001b[1;33m.\u001b[0m\u001b[0mscatter\u001b[0m\u001b[1;33m(\u001b[0m\u001b[0msiftscore\u001b[0m\u001b[1;33m,\u001b[0m \u001b[0mnewloss\u001b[0m\u001b[1;33m)\u001b[0m\u001b[1;33m\u001b[0m\u001b[0m\n\u001b[1;32m----> 2\u001b[1;33m \u001b[0mplt\u001b[0m\u001b[1;33m.\u001b[0m\u001b[0mscatter\u001b[0m\u001b[1;33m(\u001b[0m\u001b[0msiftscore\u001b[0m\u001b[1;33m,\u001b[0m \u001b[0mlastyear\u001b[0m\u001b[1;33m.\u001b[0m\u001b[0mtruelossamt\u001b[0m\u001b[1;33m,\u001b[0m \u001b[0mcolor\u001b[0m \u001b[1;33m=\u001b[0m \u001b[1;34m'Red'\u001b[0m\u001b[1;33m)\u001b[0m\u001b[1;33m\u001b[0m\u001b[0m\n\u001b[0m\u001b[0;32m      3\u001b[0m \u001b[0mplt\u001b[0m\u001b[1;33m.\u001b[0m\u001b[0mfigure\u001b[0m\u001b[1;33m(\u001b[0m\u001b[1;33m)\u001b[0m\u001b[1;33m\u001b[0m\u001b[0m\n\u001b[0;32m      4\u001b[0m \u001b[0mplt\u001b[0m\u001b[1;33m.\u001b[0m\u001b[0mscatter\u001b[0m\u001b[1;33m(\u001b[0m\u001b[0msiftscore\u001b[0m\u001b[1;33m,\u001b[0m \u001b[0mpredictedint\u001b[0m \u001b[1;33m-\u001b[0m \u001b[0mlastyear\u001b[0m\u001b[1;33m.\u001b[0m\u001b[0minterest\u001b[0m\u001b[1;33m/\u001b[0m\u001b[1;36m100\u001b[0m\u001b[1;33m)\u001b[0m\u001b[1;33m\u001b[0m\u001b[0m\n\u001b[0;32m      5\u001b[0m \u001b[0mplt\u001b[0m\u001b[1;33m.\u001b[0m\u001b[0mfigure\u001b[0m\u001b[1;33m(\u001b[0m\u001b[1;33m)\u001b[0m\u001b[1;33m\u001b[0m\u001b[0m\n",
        "\u001b[1;32m/usr/lib/python2.7/dist-packages/pandas/core/generic.pyc\u001b[0m in \u001b[0;36m__getattr__\u001b[1;34m(self, name)\u001b[0m\n\u001b[0;32m   1813\u001b[0m                 \u001b[1;32mreturn\u001b[0m \u001b[0mself\u001b[0m\u001b[1;33m[\u001b[0m\u001b[0mname\u001b[0m\u001b[1;33m]\u001b[0m\u001b[1;33m\u001b[0m\u001b[0m\n\u001b[0;32m   1814\u001b[0m             raise AttributeError(\"'%s' object has no attribute '%s'\" %\n\u001b[1;32m-> 1815\u001b[1;33m                                  (type(self).__name__, name))\n\u001b[0m\u001b[0;32m   1816\u001b[0m \u001b[1;33m\u001b[0m\u001b[0m\n\u001b[0;32m   1817\u001b[0m     \u001b[1;32mdef\u001b[0m \u001b[0m__setattr__\u001b[0m\u001b[1;33m(\u001b[0m\u001b[0mself\u001b[0m\u001b[1;33m,\u001b[0m \u001b[0mname\u001b[0m\u001b[1;33m,\u001b[0m \u001b[0mvalue\u001b[0m\u001b[1;33m)\u001b[0m\u001b[1;33m:\u001b[0m\u001b[1;33m\u001b[0m\u001b[0m\n",
        "\u001b[1;31mAttributeError\u001b[0m: 'DataFrame' object has no attribute 'truelossamt'"
       ]
      },
      {
       "metadata": {},
       "output_type": "display_data",
       "png": "[encoded data removed]",
       "text": [
        "<matplotlib.figure.Figure at 0x7ff2db78a1d0>"
       ]
      }
     ],
     "prompt_number": 490
    },
    {
     "cell_type": "code",
     "collapsed": false,
     "input": [
      "# Testing out SVM because data sets seem to be very differentiated\n",
      "#print(data.sift_score)\n",
      "lin_clf = svm.SVC()\n",
      "lin_clf.fit(data, lastyear.deffrac)"
     ],
     "language": "python",
     "metadata": {},
     "outputs": [
      {
       "ename": "ValueError",
       "evalue": "Input contains NaN, infinity or a value too large for dtype('float64').",
       "output_type": "pyerr",
       "traceback": [
        "\u001b[1;31m---------------------------------------------------------------------------\u001b[0m\n\u001b[1;31mValueError\u001b[0m                                Traceback (most recent call last)",
        "\u001b[1;32m<ipython-input-461-def48f01dbb3>\u001b[0m in \u001b[0;36m<module>\u001b[1;34m()\u001b[0m\n\u001b[0;32m      2\u001b[0m \u001b[1;31m#print(data.sift_score)\u001b[0m\u001b[1;33m\u001b[0m\u001b[1;33m\u001b[0m\u001b[0m\n\u001b[0;32m      3\u001b[0m \u001b[0mlin_clf\u001b[0m \u001b[1;33m=\u001b[0m \u001b[0msvm\u001b[0m\u001b[1;33m.\u001b[0m\u001b[0mSVC\u001b[0m\u001b[1;33m(\u001b[0m\u001b[1;33m)\u001b[0m\u001b[1;33m\u001b[0m\u001b[0m\n\u001b[1;32m----> 4\u001b[1;33m \u001b[0mlin_clf\u001b[0m\u001b[1;33m.\u001b[0m\u001b[0mfit\u001b[0m\u001b[1;33m(\u001b[0m\u001b[0mdata\u001b[0m\u001b[1;33m,\u001b[0m \u001b[0mlastyear\u001b[0m\u001b[1;33m.\u001b[0m\u001b[0mdeffrac\u001b[0m\u001b[1;33m)\u001b[0m\u001b[1;33m\u001b[0m\u001b[0m\n\u001b[0m",
        "\u001b[1;32m/usr/local/lib/python2.7/dist-packages/sklearn/svm/base.pyc\u001b[0m in \u001b[0;36mfit\u001b[1;34m(self, X, y, sample_weight)\u001b[0m\n\u001b[0;32m    135\u001b[0m         \u001b[0mself\u001b[0m\u001b[1;33m.\u001b[0m\u001b[0m_sparse\u001b[0m \u001b[1;33m=\u001b[0m \u001b[0msparse\u001b[0m \u001b[1;32mand\u001b[0m \u001b[1;32mnot\u001b[0m \u001b[0mcallable\u001b[0m\u001b[1;33m(\u001b[0m\u001b[0mself\u001b[0m\u001b[1;33m.\u001b[0m\u001b[0mkernel\u001b[0m\u001b[1;33m)\u001b[0m\u001b[1;33m\u001b[0m\u001b[0m\n\u001b[0;32m    136\u001b[0m \u001b[1;33m\u001b[0m\u001b[0m\n\u001b[1;32m--> 137\u001b[1;33m         \u001b[0mX\u001b[0m \u001b[1;33m=\u001b[0m \u001b[0matleast2d_or_csr\u001b[0m\u001b[1;33m(\u001b[0m\u001b[0mX\u001b[0m\u001b[1;33m,\u001b[0m \u001b[0mdtype\u001b[0m\u001b[1;33m=\u001b[0m\u001b[0mnp\u001b[0m\u001b[1;33m.\u001b[0m\u001b[0mfloat64\u001b[0m\u001b[1;33m,\u001b[0m \u001b[0morder\u001b[0m\u001b[1;33m=\u001b[0m\u001b[1;34m'C'\u001b[0m\u001b[1;33m)\u001b[0m\u001b[1;33m\u001b[0m\u001b[0m\n\u001b[0m\u001b[0;32m    138\u001b[0m         \u001b[0my\u001b[0m \u001b[1;33m=\u001b[0m \u001b[0mself\u001b[0m\u001b[1;33m.\u001b[0m\u001b[0m_validate_targets\u001b[0m\u001b[1;33m(\u001b[0m\u001b[0my\u001b[0m\u001b[1;33m)\u001b[0m\u001b[1;33m\u001b[0m\u001b[0m\n\u001b[0;32m    139\u001b[0m \u001b[1;33m\u001b[0m\u001b[0m\n",
        "\u001b[1;32m/usr/local/lib/python2.7/dist-packages/sklearn/utils/validation.pyc\u001b[0m in \u001b[0;36matleast2d_or_csr\u001b[1;34m(X, dtype, order, copy, force_all_finite)\u001b[0m\n\u001b[0;32m    163\u001b[0m     return _atleast2d_or_sparse(X, dtype, order, copy, sp.csr_matrix,\n\u001b[0;32m    164\u001b[0m                                 \u001b[1;34m\"tocsr\"\u001b[0m\u001b[1;33m,\u001b[0m \u001b[0msp\u001b[0m\u001b[1;33m.\u001b[0m\u001b[0misspmatrix_csr\u001b[0m\u001b[1;33m,\u001b[0m\u001b[1;33m\u001b[0m\u001b[0m\n\u001b[1;32m--> 165\u001b[1;33m                                 force_all_finite)\n\u001b[0m\u001b[0;32m    166\u001b[0m \u001b[1;33m\u001b[0m\u001b[0m\n\u001b[0;32m    167\u001b[0m \u001b[1;33m\u001b[0m\u001b[0m\n",
        "\u001b[1;32m/usr/local/lib/python2.7/dist-packages/sklearn/utils/validation.pyc\u001b[0m in \u001b[0;36m_atleast2d_or_sparse\u001b[1;34m(X, dtype, order, copy, sparse_class, convmethod, check_same_type, force_all_finite)\u001b[0m\n\u001b[0;32m    140\u001b[0m     \u001b[1;32melse\u001b[0m\u001b[1;33m:\u001b[0m\u001b[1;33m\u001b[0m\u001b[0m\n\u001b[0;32m    141\u001b[0m         X = array2d(X, dtype=dtype, order=order, copy=copy,\n\u001b[1;32m--> 142\u001b[1;33m                     force_all_finite=force_all_finite)\n\u001b[0m\u001b[0;32m    143\u001b[0m     \u001b[1;32mreturn\u001b[0m \u001b[0mX\u001b[0m\u001b[1;33m\u001b[0m\u001b[0m\n\u001b[0;32m    144\u001b[0m \u001b[1;33m\u001b[0m\u001b[0m\n",
        "\u001b[1;32m/usr/local/lib/python2.7/dist-packages/sklearn/utils/validation.pyc\u001b[0m in \u001b[0;36marray2d\u001b[1;34m(X, dtype, order, copy, force_all_finite)\u001b[0m\n\u001b[0;32m    120\u001b[0m     \u001b[0mX_2d\u001b[0m \u001b[1;33m=\u001b[0m \u001b[0mnp\u001b[0m\u001b[1;33m.\u001b[0m\u001b[0masarray\u001b[0m\u001b[1;33m(\u001b[0m\u001b[0mnp\u001b[0m\u001b[1;33m.\u001b[0m\u001b[0matleast_2d\u001b[0m\u001b[1;33m(\u001b[0m\u001b[0mX\u001b[0m\u001b[1;33m)\u001b[0m\u001b[1;33m,\u001b[0m \u001b[0mdtype\u001b[0m\u001b[1;33m=\u001b[0m\u001b[0mdtype\u001b[0m\u001b[1;33m,\u001b[0m \u001b[0morder\u001b[0m\u001b[1;33m=\u001b[0m\u001b[0morder\u001b[0m\u001b[1;33m)\u001b[0m\u001b[1;33m\u001b[0m\u001b[0m\n\u001b[0;32m    121\u001b[0m     \u001b[1;32mif\u001b[0m \u001b[0mforce_all_finite\u001b[0m\u001b[1;33m:\u001b[0m\u001b[1;33m\u001b[0m\u001b[0m\n\u001b[1;32m--> 122\u001b[1;33m         \u001b[0m_assert_all_finite\u001b[0m\u001b[1;33m(\u001b[0m\u001b[0mX_2d\u001b[0m\u001b[1;33m)\u001b[0m\u001b[1;33m\u001b[0m\u001b[0m\n\u001b[0m\u001b[0;32m    123\u001b[0m     \u001b[1;32mif\u001b[0m \u001b[0mX\u001b[0m \u001b[1;32mis\u001b[0m \u001b[0mX_2d\u001b[0m \u001b[1;32mand\u001b[0m \u001b[0mcopy\u001b[0m\u001b[1;33m:\u001b[0m\u001b[1;33m\u001b[0m\u001b[0m\n\u001b[0;32m    124\u001b[0m         \u001b[0mX_2d\u001b[0m \u001b[1;33m=\u001b[0m \u001b[0msafe_copy\u001b[0m\u001b[1;33m(\u001b[0m\u001b[0mX_2d\u001b[0m\u001b[1;33m)\u001b[0m\u001b[1;33m\u001b[0m\u001b[0m\n",
        "\u001b[1;32m/usr/local/lib/python2.7/dist-packages/sklearn/utils/validation.pyc\u001b[0m in \u001b[0;36m_assert_all_finite\u001b[1;34m(X)\u001b[0m\n\u001b[0;32m     41\u001b[0m             and not np.isfinite(X).all()):\n\u001b[0;32m     42\u001b[0m         raise ValueError(\"Input contains NaN, infinity\"\n\u001b[1;32m---> 43\u001b[1;33m                          \" or a value too large for %r.\" % X.dtype)\n\u001b[0m\u001b[0;32m     44\u001b[0m \u001b[1;33m\u001b[0m\u001b[0m\n\u001b[0;32m     45\u001b[0m \u001b[1;33m\u001b[0m\u001b[0m\n",
        "\u001b[1;31mValueError\u001b[0m: Input contains NaN, infinity or a value too large for dtype('float64')."
       ]
      }
     ],
     "prompt_number": 461
    },
    {
     "cell_type": "code",
     "collapsed": false,
     "input": [
      "data.head()"
     ],
     "language": "python",
     "metadata": {},
     "outputs": [
      {
       "html": [
        "<div style=\"max-height:1000px;max-width:1500px;overflow:auto;\">\n",
        "<table border=\"1\" class=\"dataframe\">\n",
        "  <thead>\n",
        "    <tr style=\"text-align: right;\">\n",
        "      <th></th>\n",
        "      <th>interest</th>\n",
        "      <th>trueexpected</th>\n",
        "      <th>sift_score</th>\n",
        "      <th>period</th>\n",
        "      <th>loan_category_id</th>\n",
        "      <th>currency</th>\n",
        "      <th>intercept</th>\n",
        "    </tr>\n",
        "  </thead>\n",
        "  <tbody>\n",
        "    <tr>\n",
        "      <th>9 </th>\n",
        "      <td> 6</td>\n",
        "      <td>  51.859893</td>\n",
        "      <td> 0.59</td>\n",
        "      <td>  9</td>\n",
        "      <td> 0</td>\n",
        "      <td> 0</td>\n",
        "      <td> 1</td>\n",
        "    </tr>\n",
        "    <tr>\n",
        "      <th>10</th>\n",
        "      <td> 7</td>\n",
        "      <td>  51.772541</td>\n",
        "      <td> 0.59</td>\n",
        "      <td>  5</td>\n",
        "      <td> 5</td>\n",
        "      <td> 0</td>\n",
        "      <td> 1</td>\n",
        "    </tr>\n",
        "    <tr>\n",
        "      <th>15</th>\n",
        "      <td> 8</td>\n",
        "      <td>  78.151210</td>\n",
        "      <td> 0.47</td>\n",
        "      <td> 72</td>\n",
        "      <td> 2</td>\n",
        "      <td> 0</td>\n",
        "      <td> 1</td>\n",
        "    </tr>\n",
        "    <tr>\n",
        "      <th>19</th>\n",
        "      <td> 8</td>\n",
        "      <td>  95.699485</td>\n",
        "      <td> 0.49</td>\n",
        "      <td> 36</td>\n",
        "      <td> 2</td>\n",
        "      <td> 0</td>\n",
        "      <td> 1</td>\n",
        "    </tr>\n",
        "    <tr>\n",
        "      <th>29</th>\n",
        "      <td> 6</td>\n",
        "      <td> 832.082380</td>\n",
        "      <td> 0.64</td>\n",
        "      <td> 18</td>\n",
        "      <td> 0</td>\n",
        "      <td> 0</td>\n",
        "      <td> 1</td>\n",
        "    </tr>\n",
        "  </tbody>\n",
        "</table>\n",
        "<p>5 rows \u00d7 7 columns</p>\n",
        "</div>"
       ],
       "metadata": {},
       "output_type": "pyout",
       "prompt_number": 37,
       "text": [
        "    interest  trueexpected  sift_score  period  loan_category_id  currency  \\\n",
        "9          6     51.859893        0.59       9                 0         0   \n",
        "10         7     51.772541        0.59       5                 5         0   \n",
        "15         8     78.151210        0.47      72                 2         0   \n",
        "19         8     95.699485        0.49      36                 2         0   \n",
        "29         6    832.082380        0.64      18                 0         0   \n",
        "\n",
        "    intercept  \n",
        "9           1  \n",
        "10          1  \n",
        "15          1  \n",
        "19          1  \n",
        "29          1  \n",
        "\n",
        "[5 rows x 7 columns]"
       ]
      }
     ],
     "prompt_number": 37
    },
    {
     "cell_type": "code",
     "collapsed": false,
     "input": [
      "lastyear.fractionlost[:2]"
     ],
     "language": "python",
     "metadata": {},
     "outputs": [
      {
       "metadata": {},
       "output_type": "pyout",
       "prompt_number": 44,
       "text": [
        "9     0.000090\n",
        "10    0.000091\n",
        "Name: fractionlost, dtype: float64"
       ]
      }
     ],
     "prompt_number": 44
    },
    {
     "cell_type": "code",
     "collapsed": false,
     "input": [
      "#predictfracloss = lin_clf.predict(data)\n",
      "#print(predictfracloss[predictfracloss == 1])\n",
      "#predictedint = 1/(1-predictfracloss) - 1\n",
      "#np.mean(predictedint)"
     ],
     "language": "python",
     "metadata": {},
     "outputs": [],
     "prompt_number": 69
    },
    {
     "cell_type": "code",
     "collapsed": false,
     "input": [
      "#predictfracloss = lin_clf.predict(data)\n",
      "#print(predictfracloss)\n",
      "#data['predictfracelost'] = predictfracloss\n",
      "#data['predictint'] = 1/(1-predictfracloss) - 1\n",
      "#np.mean(data[data.predictfracelost != 1].interest)\n",
      "#data[data.predictfracelost != 1].predictint\n",
      "#np.mean(data[data.predictfracelost != 1].interest)\n",
      "#np.mean(data[data.predictfracelost != 1].predictint)\n",
      "#np.mean(predictedint)"
     ],
     "language": "python",
     "metadata": {},
     "outputs": [],
     "prompt_number": 35
    },
    {
     "cell_type": "code",
     "collapsed": false,
     "input": [
      "siftscore = lastyear.sift_score\n",
      "#print((siftscore < 0.1) | (siftscore > 0.9))\n",
      "#predictedint[predictedint > 0.15] =0.15\n",
      "#predictedint = 0.15\n",
      "predictedincome = (lastyear.truepaidamt)*(1+predictedint)/(1+lastyear.interest/100)\n",
      "\n",
      "print(np.sum(lastyear.trueexpected))\n",
      "print(np.sum(predictedincome))\n",
      "print(np.sum(lastyear.truepaidamt))\n",
      "print(np.sum(newloss))\n",
      "print(np.sum(lastyear.truelossamt))\n",
      "print(np.mean(predictedint))\n",
      "print(np.mean(lastyear.interest))\n"
     ],
     "language": "python",
     "metadata": {},
     "outputs": [
      {
       "output_type": "stream",
       "stream": "stdout",
       "text": [
        "237568.181742\n",
        "187863.57191\n",
        "207001.623762\n",
        "-29661.322218\n",
        "-30566.5579799\n",
        "0.0683543318487\n",
        "15.6350450804\n"
       ]
      }
     ],
     "prompt_number": 61
    },
    {
     "cell_type": "code",
     "collapsed": false,
     "input": [],
     "language": "python",
     "metadata": {},
     "outputs": []
    },
    {
     "cell_type": "code",
     "collapsed": false,
     "input": [
      "print result.summary()"
     ],
     "language": "python",
     "metadata": {},
     "outputs": []
    },
    {
     "cell_type": "code",
     "collapsed": false,
     "input": [
      "lygroupid = lastyear.sort('loan_category_id')\n",
      "lygroupid = lygroupid.groupby('loan_category_id')\n",
      "lygroupid = lygroupid.apply(np.mean)\n",
      "data3 = pd.DataFrame(lygroupid.loan_category_id)\n",
      "y3 = lygroupid.fractionlost\n",
      "data3['intercept'] = 1"
     ],
     "language": "python",
     "metadata": {},
     "outputs": []
    },
    {
     "cell_type": "code",
     "collapsed": false,
     "input": [
      "logit3 = sm.Logit(y3,data3)\n",
      "results3 = logit3.fit()\n",
      "print results3.summary()"
     ],
     "language": "python",
     "metadata": {},
     "outputs": []
    },
    {
     "cell_type": "code",
     "collapsed": false,
     "input": [
      "lygroupint = lastyear.sort('interest')\n",
      "lygroupint = lygroupint.groupby('interest')\n",
      "lygroupint = lygroupint.apply(np.mean)\n",
      "data2 = pd.DataFrame(lygroupint.interest)\n",
      "y2 = lygroupint.fractionlost\n",
      "data2['intercept'] = 1"
     ],
     "language": "python",
     "metadata": {},
     "outputs": []
    },
    {
     "cell_type": "code",
     "collapsed": false,
     "input": [
      "logit2 = sm.Logit(y2,data2)\n",
      "results2 = logit2.fit()"
     ],
     "language": "python",
     "metadata": {},
     "outputs": []
    },
    {
     "cell_type": "code",
     "collapsed": false,
     "input": [
      "print results2.summary()"
     ],
     "language": "python",
     "metadata": {},
     "outputs": []
    },
    {
     "cell_type": "code",
     "collapsed": false,
     "input": [
      "bins = np.linspace(lastyear.sift_score.min(), lastyear.sift_score.max(),20)\n",
      "groups = lastyear.groupby(np.digitize(lastyear.sift_score,bins))\n",
      "meangroups = groups.apply(np.mean)\n",
      "meancounts = groups.apply(np.count_nonzero)\n"
     ],
     "language": "python",
     "metadata": {},
     "outputs": [],
     "prompt_number": 450
    },
    {
     "cell_type": "code",
     "collapsed": false,
     "input": [
      "data1 = pd.DataFrame(meangroups.sift_score)\n",
      "data1['intercept'] = 1\n",
      "y1 = meangroups.deffrac\n",
      "y1 = y1"
     ],
     "language": "python",
     "metadata": {},
     "outputs": [],
     "prompt_number": 451
    },
    {
     "cell_type": "code",
     "collapsed": false,
     "input": [
      "logit1 = sm.Logit(y1, data1, weights = meancounts)\n",
      "results1 = logit1.fit()"
     ],
     "language": "python",
     "metadata": {},
     "outputs": [
      {
       "ename": "LinAlgError",
       "evalue": "Singular matrix",
       "output_type": "pyerr",
       "traceback": [
        "\u001b[1;31m---------------------------------------------------------------------------\u001b[0m\n\u001b[1;31mLinAlgError\u001b[0m                               Traceback (most recent call last)",
        "\u001b[1;32m<ipython-input-452-1f927ed5a67e>\u001b[0m in \u001b[0;36m<module>\u001b[1;34m()\u001b[0m\n\u001b[0;32m      1\u001b[0m \u001b[0mlogit1\u001b[0m \u001b[1;33m=\u001b[0m \u001b[0msm\u001b[0m\u001b[1;33m.\u001b[0m\u001b[0mLogit\u001b[0m\u001b[1;33m(\u001b[0m\u001b[0my1\u001b[0m\u001b[1;33m,\u001b[0m \u001b[0mdata1\u001b[0m\u001b[1;33m,\u001b[0m \u001b[0mweights\u001b[0m \u001b[1;33m=\u001b[0m \u001b[0mmeancounts\u001b[0m\u001b[1;33m)\u001b[0m\u001b[1;33m\u001b[0m\u001b[0m\n\u001b[1;32m----> 2\u001b[1;33m \u001b[0mresults1\u001b[0m \u001b[1;33m=\u001b[0m \u001b[0mlogit1\u001b[0m\u001b[1;33m.\u001b[0m\u001b[0mfit\u001b[0m\u001b[1;33m(\u001b[0m\u001b[1;33m)\u001b[0m\u001b[1;33m\u001b[0m\u001b[0m\n\u001b[0m",
        "\u001b[1;32m/usr/lib/python2.7/dist-packages/statsmodels/discrete/discrete_model.pyc\u001b[0m in \u001b[0;36mfit\u001b[1;34m(self, start_params, method, maxiter, full_output, disp, callback, **kwargs)\u001b[0m\n\u001b[0;32m   1184\u001b[0m         bnryfit = super(Logit, self).fit(start_params=start_params,\n\u001b[0;32m   1185\u001b[0m                 \u001b[0mmethod\u001b[0m\u001b[1;33m=\u001b[0m\u001b[0mmethod\u001b[0m\u001b[1;33m,\u001b[0m \u001b[0mmaxiter\u001b[0m\u001b[1;33m=\u001b[0m\u001b[0mmaxiter\u001b[0m\u001b[1;33m,\u001b[0m \u001b[0mfull_output\u001b[0m\u001b[1;33m=\u001b[0m\u001b[0mfull_output\u001b[0m\u001b[1;33m,\u001b[0m\u001b[1;33m\u001b[0m\u001b[0m\n\u001b[1;32m-> 1186\u001b[1;33m                 disp=disp, callback=callback, **kwargs)\n\u001b[0m\u001b[0;32m   1187\u001b[0m         \u001b[0mdiscretefit\u001b[0m \u001b[1;33m=\u001b[0m \u001b[0mLogitResults\u001b[0m\u001b[1;33m(\u001b[0m\u001b[0mself\u001b[0m\u001b[1;33m,\u001b[0m \u001b[0mbnryfit\u001b[0m\u001b[1;33m)\u001b[0m\u001b[1;33m\u001b[0m\u001b[0m\n\u001b[0;32m   1188\u001b[0m         \u001b[1;32mreturn\u001b[0m \u001b[0mBinaryResultsWrapper\u001b[0m\u001b[1;33m(\u001b[0m\u001b[0mdiscretefit\u001b[0m\u001b[1;33m)\u001b[0m\u001b[1;33m\u001b[0m\u001b[0m\n",
        "\u001b[1;32m/usr/lib/python2.7/dist-packages/statsmodels/discrete/discrete_model.pyc\u001b[0m in \u001b[0;36mfit\u001b[1;34m(self, start_params, method, maxiter, full_output, disp, callback, **kwargs)\u001b[0m\n\u001b[0;32m    162\u001b[0m         mlefit = super(DiscreteModel, self).fit(start_params=start_params,\n\u001b[0;32m    163\u001b[0m                 \u001b[0mmethod\u001b[0m\u001b[1;33m=\u001b[0m\u001b[0mmethod\u001b[0m\u001b[1;33m,\u001b[0m \u001b[0mmaxiter\u001b[0m\u001b[1;33m=\u001b[0m\u001b[0mmaxiter\u001b[0m\u001b[1;33m,\u001b[0m \u001b[0mfull_output\u001b[0m\u001b[1;33m=\u001b[0m\u001b[0mfull_output\u001b[0m\u001b[1;33m,\u001b[0m\u001b[1;33m\u001b[0m\u001b[0m\n\u001b[1;32m--> 164\u001b[1;33m                 disp=disp, callback=callback, **kwargs)\n\u001b[0m\u001b[0;32m    165\u001b[0m         \u001b[1;32mreturn\u001b[0m \u001b[0mmlefit\u001b[0m \u001b[1;31m# up to subclasses to wrap results\u001b[0m\u001b[1;33m\u001b[0m\u001b[0m\n\u001b[0;32m    166\u001b[0m \u001b[1;33m\u001b[0m\u001b[0m\n",
        "\u001b[1;32m/usr/lib/python2.7/dist-packages/statsmodels/base/model.pyc\u001b[0m in \u001b[0;36mfit\u001b[1;34m(self, start_params, method, maxiter, full_output, disp, fargs, callback, retall, **kwargs)\u001b[0m\n\u001b[0;32m    355\u001b[0m                              \u001b[0mdisp\u001b[0m\u001b[1;33m=\u001b[0m\u001b[0mdisp\u001b[0m\u001b[1;33m,\u001b[0m \u001b[0mmaxiter\u001b[0m\u001b[1;33m=\u001b[0m\u001b[0mmaxiter\u001b[0m\u001b[1;33m,\u001b[0m \u001b[0mcallback\u001b[0m\u001b[1;33m=\u001b[0m\u001b[0mcallback\u001b[0m\u001b[1;33m,\u001b[0m\u001b[1;33m\u001b[0m\u001b[0m\n\u001b[0;32m    356\u001b[0m                              \u001b[0mretall\u001b[0m\u001b[1;33m=\u001b[0m\u001b[0mretall\u001b[0m\u001b[1;33m,\u001b[0m \u001b[0mfull_output\u001b[0m\u001b[1;33m=\u001b[0m\u001b[0mfull_output\u001b[0m\u001b[1;33m,\u001b[0m\u001b[1;33m\u001b[0m\u001b[0m\n\u001b[1;32m--> 357\u001b[1;33m                              hess=hess)\n\u001b[0m\u001b[0;32m    358\u001b[0m \u001b[1;33m\u001b[0m\u001b[0m\n\u001b[0;32m    359\u001b[0m         \u001b[1;32mif\u001b[0m \u001b[1;32mnot\u001b[0m \u001b[0mfull_output\u001b[0m\u001b[1;33m:\u001b[0m \u001b[1;31m# xopt should be None and retvals is argmin\u001b[0m\u001b[1;33m\u001b[0m\u001b[0m\n",
        "\u001b[1;32m/usr/lib/python2.7/dist-packages/statsmodels/base/model.pyc\u001b[0m in \u001b[0;36m_fit_mle_newton\u001b[1;34m(f, score, start_params, fargs, kwargs, disp, maxiter, callback, retall, full_output, hess)\u001b[0m\n\u001b[0;32m    403\u001b[0m         \u001b[0mH\u001b[0m \u001b[1;33m=\u001b[0m \u001b[0mhess\u001b[0m\u001b[1;33m(\u001b[0m\u001b[0mnewparams\u001b[0m\u001b[1;33m)\u001b[0m\u001b[1;33m\u001b[0m\u001b[0m\n\u001b[0;32m    404\u001b[0m         \u001b[0moldparams\u001b[0m \u001b[1;33m=\u001b[0m \u001b[0mnewparams\u001b[0m\u001b[1;33m\u001b[0m\u001b[0m\n\u001b[1;32m--> 405\u001b[1;33m         newparams = oldparams - np.dot(np.linalg.inv(H),\n\u001b[0m\u001b[0;32m    406\u001b[0m                 score(oldparams))\n\u001b[0;32m    407\u001b[0m         \u001b[1;32mif\u001b[0m \u001b[0mretall\u001b[0m\u001b[1;33m:\u001b[0m\u001b[1;33m\u001b[0m\u001b[0m\n",
        "\u001b[1;32m/usr/lib/python2.7/dist-packages/numpy/linalg/linalg.pyc\u001b[0m in \u001b[0;36minv\u001b[1;34m(a)\u001b[0m\n\u001b[0;32m    518\u001b[0m     \u001b[0msignature\u001b[0m \u001b[1;33m=\u001b[0m \u001b[1;34m'D->D'\u001b[0m \u001b[1;32mif\u001b[0m \u001b[0misComplexType\u001b[0m\u001b[1;33m(\u001b[0m\u001b[0mt\u001b[0m\u001b[1;33m)\u001b[0m \u001b[1;32melse\u001b[0m \u001b[1;34m'd->d'\u001b[0m\u001b[1;33m\u001b[0m\u001b[0m\n\u001b[0;32m    519\u001b[0m     \u001b[0mextobj\u001b[0m \u001b[1;33m=\u001b[0m \u001b[0mget_linalg_error_extobj\u001b[0m\u001b[1;33m(\u001b[0m\u001b[0m_raise_linalgerror_singular\u001b[0m\u001b[1;33m)\u001b[0m\u001b[1;33m\u001b[0m\u001b[0m\n\u001b[1;32m--> 520\u001b[1;33m     \u001b[0mainv\u001b[0m \u001b[1;33m=\u001b[0m \u001b[0m_umath_linalg\u001b[0m\u001b[1;33m.\u001b[0m\u001b[0minv\u001b[0m\u001b[1;33m(\u001b[0m\u001b[0ma\u001b[0m\u001b[1;33m,\u001b[0m \u001b[0msignature\u001b[0m\u001b[1;33m=\u001b[0m\u001b[0msignature\u001b[0m\u001b[1;33m,\u001b[0m \u001b[0mextobj\u001b[0m\u001b[1;33m=\u001b[0m\u001b[0mextobj\u001b[0m\u001b[1;33m)\u001b[0m\u001b[1;33m\u001b[0m\u001b[0m\n\u001b[0m\u001b[0;32m    521\u001b[0m     \u001b[1;32mreturn\u001b[0m \u001b[0mwrap\u001b[0m\u001b[1;33m(\u001b[0m\u001b[0mainv\u001b[0m\u001b[1;33m.\u001b[0m\u001b[0mastype\u001b[0m\u001b[1;33m(\u001b[0m\u001b[0mresult_t\u001b[0m\u001b[1;33m)\u001b[0m\u001b[1;33m)\u001b[0m\u001b[1;33m\u001b[0m\u001b[0m\n\u001b[0;32m    522\u001b[0m \u001b[1;33m\u001b[0m\u001b[0m\n",
        "\u001b[1;32m/usr/lib/python2.7/dist-packages/numpy/linalg/linalg.pyc\u001b[0m in \u001b[0;36m_raise_linalgerror_singular\u001b[1;34m(err, flag)\u001b[0m\n\u001b[0;32m     88\u001b[0m \u001b[1;33m\u001b[0m\u001b[0m\n\u001b[0;32m     89\u001b[0m \u001b[1;32mdef\u001b[0m \u001b[0m_raise_linalgerror_singular\u001b[0m\u001b[1;33m(\u001b[0m\u001b[0merr\u001b[0m\u001b[1;33m,\u001b[0m \u001b[0mflag\u001b[0m\u001b[1;33m)\u001b[0m\u001b[1;33m:\u001b[0m\u001b[1;33m\u001b[0m\u001b[0m\n\u001b[1;32m---> 90\u001b[1;33m     \u001b[1;32mraise\u001b[0m \u001b[0mLinAlgError\u001b[0m\u001b[1;33m(\u001b[0m\u001b[1;34m\"Singular matrix\"\u001b[0m\u001b[1;33m)\u001b[0m\u001b[1;33m\u001b[0m\u001b[0m\n\u001b[0m\u001b[0;32m     91\u001b[0m \u001b[1;33m\u001b[0m\u001b[0m\n\u001b[0;32m     92\u001b[0m \u001b[1;32mdef\u001b[0m \u001b[0m_raise_linalgerror_nonposdef\u001b[0m\u001b[1;33m(\u001b[0m\u001b[0merr\u001b[0m\u001b[1;33m,\u001b[0m \u001b[0mflag\u001b[0m\u001b[1;33m)\u001b[0m\u001b[1;33m:\u001b[0m\u001b[1;33m\u001b[0m\u001b[0m\n",
        "\u001b[1;31mLinAlgError\u001b[0m: Singular matrix"
       ]
      }
     ],
     "prompt_number": 452
    },
    {
     "cell_type": "code",
     "collapsed": false,
     "input": [
      "print results1.summary()"
     ],
     "language": "python",
     "metadata": {},
     "outputs": [
      {
       "output_type": "stream",
       "stream": "stdout",
       "text": [
        "                           Logit Regression Results                           \n",
        "==============================================================================\n",
        "Dep. Variable:           fractionlost   No. Observations:                   20\n",
        "Model:                          Logit   Df Residuals:                       18\n",
        "Method:                           MLE   Df Model:                            1\n",
        "Date:                Tue, 09 Sep 2014   Pseudo R-squ.:               -0.001993\n",
        "Time:                        16:23:29   Log-Likelihood:                -9.1277\n",
        "converged:                       True   LL-Null:                       -9.1095\n",
        "                                        LLR p-value:                     1.000\n",
        "==============================================================================\n",
        "                 coef    std err          z      P>|z|      [95.0% Conf. Int.]\n",
        "------------------------------------------------------------------------------\n",
        "sift_score     1.1135      2.137      0.521      0.602        -3.075     5.302\n",
        "intercept     -1.9481      1.465     -1.330      0.183        -4.819     0.922\n",
        "==============================================================================\n"
       ]
      }
     ],
     "prompt_number": 44
    },
    {
     "cell_type": "code",
     "collapsed": false,
     "input": [
      "fractionlost = lastyear.fractionlost.tolist()\n",
      "#plt.hist(fractionlost, bins = 20)"
     ],
     "language": "python",
     "metadata": {},
     "outputs": []
    },
    {
     "cell_type": "code",
     "collapsed": false,
     "input": [
      "siftscore = lastyear[(lastyear.sift_score > 0.2)|(lastyear.sift_score < 0.9)].sift_score\n",
      "#predictedint = 1/(1+np.exp(-(-4.8457+5.0721*siftscore + 0.0795 * lastyear.interest - 0.0424 * lastyear.loan_category_id)))\n",
      "predictedfraclost = 1/(1+np.exp(-(-1.9481 + 1.1120*siftscore)))\n",
      "predictedint = 1/(1-predictedfraclost) - 1\n",
      "#print((siftscore < 0.1) | (siftscore > 0.9))\n",
      "#predictedint[predictedint > 0.15] =0.15\n",
      "#predictedint = 0.15\n",
      "predictedincome = (lastyear[(lastyear.sift_score > 0.2)|(lastyear.sift_score < 0.9)].truepaidamt)*(1+predictedint)/(1+lastyear[(lastyear.sift_score > 0.2)|(lastyear.sift_score < 0.9)].interest/100)\n",
      "\n",
      "print(np.sum(lastyear[(lastyear.sift_score > 0.2)|(lastyear.sift_score < 0.9)].trueexpected))\n",
      "print(np.sum(predictedincome))\n",
      "print(np.sum(lastyear[(lastyear.sift_score > 0.2)|(lastyear.sift_score < 0.9)].truepaidamt))\n",
      "print(np.sum(newloss))\n",
      "print(np.sum(lastyear[(lastyear.sift_score > 0.2)|(lastyear.sift_score < 0.9)].truelossamt))\n",
      "print(np.mean(predictedint))\n",
      "print(np.mean(lastyear[(lastyear.sift_score > 0.2)|(lastyear.sift_score < 0.9)].interest))\n"
     ],
     "language": "python",
     "metadata": {},
     "outputs": [
      {
       "output_type": "stream",
       "stream": "stdout",
       "text": [
        "237568.181742\n",
        "231014.768015\n",
        "207001.623762\n",
        "-29661.322218\n",
        "-30566.5579799\n",
        "0.282414701402\n",
        "15.6350450804\n"
       ]
      }
     ],
     "prompt_number": 57
    },
    {
     "cell_type": "raw",
     "metadata": {},
     "source": [
      "#groupedlastyear = lastyear.groupby('loan_category_id')\n",
      "#groupedlastyear['fractionlost'].apply(np.mean)"
     ]
    },
    {
     "cell_type": "code",
     "collapsed": false,
     "input": [
      "bins = np.linspace(lastyear.sift_score.min(), lastyear.sift_score.max(),10)\n",
      "groups = lastyear.groupby(np.digitize(lastyear.sift_score,bins))\n",
      "meangroups = groups.apply(np.mean)\n"
     ],
     "language": "python",
     "metadata": {},
     "outputs": []
    },
    {
     "cell_type": "code",
     "collapsed": false,
     "input": [
      "plt.scatter(x1,predict)\n",
      "plt.scatter(meangroups.sift_score,meangroups.fractionlost)\n",
      "plt.show()\n"
     ],
     "language": "python",
     "metadata": {},
     "outputs": []
    },
    {
     "cell_type": "code",
     "collapsed": false,
     "input": [
      "plt.scatter(excratedf[excratedf.currency == 0].start, excratedf[excratedf.currency == 0].rate)"
     ],
     "language": "python",
     "metadata": {},
     "outputs": []
    },
    {
     "cell_type": "code",
     "collapsed": false,
     "input": [],
     "language": "python",
     "metadata": {},
     "outputs": []
    },
    {
     "cell_type": "code",
     "collapsed": false,
     "input": [],
     "language": "python",
     "metadata": {},
     "outputs": []
    }
   ],
   "metadata": {}
  }
 ]
}