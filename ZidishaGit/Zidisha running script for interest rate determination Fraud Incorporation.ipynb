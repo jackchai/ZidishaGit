{
 "metadata": {
  "name": "",
  "signature": "sha256:f24aacde919bc3a1c66403bc4e523c10e47b4930b381f42466b50043f4e10382"
 },
 "nbformat": 3,
 "nbformat_minor": 0,
 "worksheets": [
  {
   "cells": [
    {
     "cell_type": "code",
     "collapsed": false,
     "input": [
      "import pandas as pd\n",
      "import pandas.io.sql as psql\n",
      "import matplotlib.pyplot as plt\n",
      "import matplotlib.dates as mdates\n",
      "from datetime import datetime\n",
      "import MySQLdb as mdb \n",
      "import numpy as np\n",
      "import time\n",
      "import statsmodels.api as sm\n",
      "from patsy import dmatrices\n",
      "from sklearn import svm\n",
      "from sklearn.externals import joblib\n",
      "import pickle as pickle\n",
      "from mpl_toolkits.mplot3d import Axes3D\n",
      "from scipy.stats import gaussian_kde\n",
      "import seaborn as sns"
     ],
     "language": "python",
     "metadata": {},
     "outputs": [],
     "prompt_number": 88
    },
    {
     "cell_type": "code",
     "collapsed": false,
     "input": [
      "# Establish connnection to SQL databases right here\n",
      "con = mdb.connect(host = 'localhost', user = 'root', passwd = 'pptz/90275', db = 'Zidisha2')\n",
      "con1 = mdb.connect(host = 'localhost', user = 'root', passwd = 'pptz/90275', db = 'zidisha')"
     ],
     "language": "python",
     "metadata": {},
     "outputs": [],
     "prompt_number": 89
    },
    {
     "cell_type": "code",
     "collapsed": false,
     "input": [
      "# Extract the tables from the SQL databases to pandas dataframe\n",
      "# Note, if desired, one can extract exact values from each of the tables\n",
      "# Absolutely needed values for now are isdebtfree, loan category id, 2 digit numerical currency identification, maximum allowed borrower interest rate\n",
      "# Depending on how you want to deal with default probability, we may need the amount of money that has been repaid back\n",
      "with con:\n",
      "    sql = \"SELECT * FROM borrowers\"\n",
      "    borrowers = psql.frame_query(sql, con, coerce_float = True)\n",
      "    \n",
      "    sql = \"SELECT * FROM loans\"\n",
      "    loans = psql.frame_query(sql, con, coerce_float = True)\n",
      "    \n",
      "    sql = \"SELECT * FROM exchange_rates\"\n",
      "    excrate = psql.frame_query(sql, con, coerce_float = True)\n",
      "    \n",
      "    sql = #Insert SQL command here to extract the table of fraud scores. We will want everything because we are going to need\n",
      "    # some prior information, you will want userid and fraud score\n",
      "    fraud_prob = psql.frame_query(sql, con, coerce_float = True)"
     ],
     "language": "python",
     "metadata": {},
     "outputs": [],
     "prompt_number": 90
    },
    {
     "cell_type": "code",
     "collapsed": false,
     "input": [
      "with con1:\n",
      "    sql = \"SELECT * FROM borrowers\"\n",
      "    borrowersold = psql.frame_query(sql,con1, coerce_float = True)\n",
      "    "
     ],
     "language": "python",
     "metadata": {},
     "outputs": [],
     "prompt_number": 91
    },
    {
     "cell_type": "code",
     "collapsed": false,
     "input": [
      "# Following is just merging and aligning the tables together\n",
      "borrowers['borrower_id'] = borrowers.id\n",
      "borrowers = borrowers.drop('id', axis = 1)"
     ],
     "language": "python",
     "metadata": {},
     "outputs": [],
     "prompt_number": 92
    },
    {
     "cell_type": "code",
     "collapsed": false,
     "input": [
      "#The following section is only here if you want to import things as anything other than SQL database. If it is in SQL, please\n",
      "#the entirety of this section\n",
      "\n",
      "#with open(\"fraud_probabilities.txt\", \"r\") as text_file:\n",
      "#    s = text_file.read()\n",
      "    \n",
      "#fraud_prob = pickle.loads(s)"
     ],
     "language": "python",
     "metadata": {},
     "outputs": [],
     "prompt_number": 93
    },
    {
     "cell_type": "code",
     "collapsed": false,
     "input": [
      "loans['loanid'] = loans.id\n",
      "loans = loans.drop('id',axis =1)"
     ],
     "language": "python",
     "metadata": {},
     "outputs": [],
     "prompt_number": 94
    },
    {
     "cell_type": "code",
     "collapsed": false,
     "input": [
      "currentdf = pd.merge(loans, borrowers, on = 'borrower_id')\n",
      "currentdf = pd.merge(currentdf, borrowersold[['userid','currency']], left_on = 'borrower_id', right_on = 'userid')"
     ],
     "language": "python",
     "metadata": {},
     "outputs": [],
     "prompt_number": 95
    },
    {
     "cell_type": "code",
     "collapsed": false,
     "input": [
      "# Because of the way svm was trained, for values of people who don't have a isdebtfree, we set the value to 0.646 (average number)\n",
      "debt = currentdf.is_debt_free\n",
      "debt = debt.apply(float)\n",
      "debt[np.isnan(debt)] = 0.646\n",
      "currentdf = currentdf.drop('is_debt_free', axis = 1)\n",
      "currentdf['is_debt_free'] = debt\n",
      "# If loan category id was empty, to handle this we set an arbitrary value of 19 right now\n",
      "lci = currentdf.category_id\n",
      "lci = lci.apply(float)\n",
      "lci[np.isnan(lci)] = 19\n",
      "currentdf = currentdf.drop('category_id', axis = 1)\n",
      "currentdf['category_id'] = lci\n",
      "currentdf['max_interest_rate'] = currentdf.max_interest_rate.apply(float)\n",
      "currentdf['currency'] = currentdf.currency.apply(float)\n",
      "# The following dataframe is what will be the inputs to the trained svm model\n",
      "Xsvm = currentdf[['max_interest_rate','is_debt_free','currency','category_id']]"
     ],
     "language": "python",
     "metadata": {},
     "outputs": [],
     "prompt_number": 96
    },
    {
     "cell_type": "code",
     "collapsed": false,
     "input": [
      "fraudp = pd.DataFrame(fraud_prob)\n",
      "fraudp = fraudp.rename(columns = {0: 'borrowerid', 1:'fraudprob'})\n",
      "fraudp['fraudint'] = 1.0/(1 - fraudp.fraudprob)"
     ],
     "language": "python",
     "metadata": {},
     "outputs": [],
     "prompt_number": 97
    },
    {
     "cell_type": "code",
     "collapsed": false,
     "input": [
      "currentdf = pd.merge(currentdf, fraudp, left_on = 'borrowerid', right_on = 'borrowerid', how = 'left')"
     ],
     "language": "python",
     "metadata": {},
     "outputs": []
    },
    {
     "cell_type": "code",
     "collapsed": false,
     "input": [
      "#This is to handle any errors when calculating fraud risk, especially if some people for some reason do not have nay values\n",
      "currentdf = currentdf[np.isfinite(currentdf.fraudint)]"
     ],
     "language": "python",
     "metadata": {},
     "outputs": []
    },
    {
     "cell_type": "code",
     "collapsed": false,
     "input": [
      "#Initializing 2 columns for future calculations\n",
      "currentdf['fraud'] = 0\n",
      "currentdf['notfraud'] = 0"
     ],
     "language": "python",
     "metadata": {},
     "outputs": []
    },
    {
     "cell_type": "code",
     "collapsed": false,
     "input": [
      "#For each loan, we are going to define whether or not that loan was frauded. I know that possibly in your database somewhere, you have\n",
      "#already identified this value. If this is true, then the fraud column just needs to be 1 for every loan that has been fraud and 0 elsewhere\n",
      "#in the notfraud column, the loan will read 1 if it is not fraud and 0 elsewhere\n",
      "notfraud = currentdf.notfraud\n",
      "fraud = currentdf.fraud\n",
      "notfraud[currentdf.fractionlost < 1] = 1.0\n",
      "fraud[currentdf.fractionlost >= 1] = 1.0\n",
      "currentdf['fraud'] = fraud\n",
      "currentdf['notfraud'] = notfraud"
     ],
     "language": "python",
     "metadata": {},
     "outputs": []
    },
    {
     "cell_type": "code",
     "collapsed": false,
     "input": [
      "#This is to group the likelihood of fraud into 20 bins. We need to do this in order to calculate the prior (the probability of fraud)\n",
      "#Given a score. Note this is because the score is not the true probability but a score\n",
      "#Put another way, recall bayes law that P(fraud|score) = P(fraud)*P(Pscore|fraud)/P(score)\n",
      "sortfinaldf = currentdf.sort('fraudint')\n",
      "bins = np.linspace(np.min(sortfinaldf.fraudint), np.max(sortfinaldf.fraudint),20)\n",
      "groups = sortfinaldf.groupby(np.digitize(sortfinaldf.fraudint,bins))\n",
      "groupvalues = np.digitize(sortfinaldf.fraudint,bins)\n",
      "sortfinaldf['groups'] = groupvalues\n",
      "sumfraud = groups.fraud.apply(np.sum)\n",
      "sumnotfraud = groups.notfraud.apply(np.sum)\n",
      "proportionfraud = sumfraud/(sumfraud+sumnotfraud\n",
      "proportionfraud = pd.DataFrame(proportionfraud)\n",
      "proportionfraud = proportionfraud.reset_index()\n",
      "proportionfraud = proportionfraud.rename(columns = {'index':'groups', 0:'fraudfraction'})    \n"
     ],
     "language": "python",
     "metadata": {},
     "outputs": []
    },
    {
     "cell_type": "code",
     "collapsed": false,
     "input": [
      "# Since SVM takes a while to train, when we use the model building script, we actually save the trained model to so that we can just load it\n",
      "# Make sure you have the correct and latest file pckl file selected if you continue to retrain\n",
      "lin_clf = joblib.load('POLYsvmfit1.pckl')"
     ],
     "language": "python",
     "metadata": {},
     "outputs": [],
     "prompt_number": 98
    },
    {
     "cell_type": "code",
     "collapsed": false,
     "input": [
      "# Using the svm model to predict what the expected values from the inputs are\n",
      "svmdf= Xsvm\n",
      "predict = lin_clf.predict(Xsvm)\n",
      "svmdf['predict'] = predict\n"
     ],
     "language": "python",
     "metadata": {},
     "outputs": [],
     "prompt_number": 99
    },
    {
     "cell_type": "code",
     "collapsed": false,
     "input": [
      "# Recall here that svm training put many things into the same category. As a result we created a dataframe to match actual risk values to each category\n",
      "# Same here, make sure you have the correct csv conversion file selected\n",
      "meansvmdf = pd.read_csv('msvmdf1.csv')"
     ],
     "language": "python",
     "metadata": {},
     "outputs": [],
     "prompt_number": 100
    },
    {
     "cell_type": "code",
     "collapsed": false,
     "input": [
      "# At this point, it is just number crunching. \n",
      "# The default number is \n",
      "default = 0.167\n",
      "currentdf['predict'] = predict\n",
      "predictdf = pd.merge(currentdf, meansvmdf, on = 'predict')\n",
      "predictsuccess = (1-predictdf.fraclost)*(default)+(1-default)\n",
      "predictdf['predictsuccess'] = predictsuccess\n",
      "predictedint = 1/(predictsuccess) - 1\n",
      "predictdf['predictedintsvm'] = predictedint\n"
     ],
     "language": "python",
     "metadata": {},
     "outputs": [],
     "prompt_number": 101
    },
    {
     "cell_type": "code",
     "collapsed": false,
     "input": [
      "#We are merging everything together with the idea that for each bin we can calculate the correct fraud rate\n",
      "sortfinaldf2 = pd.merge(sortfinaldf, proportionfraud, left_on = 'groups', right_on = 'groups', how = 'left')\n",
      "sortfinaldf2['fraudint'] = 1.0/(1.0 - sortfinaldf2.fraudfraction)\n",
      "sortfinaldf2['finalint'] = (((1.0+sortfinaldf2.predictedintsvm)*sortfinaldf2.fraudint)-1)*100"
     ],
     "language": "python",
     "metadata": {},
     "outputs": []
    },
    {
     "cell_type": "code",
     "collapsed": false,
     "input": [
      "dftosql = sortfinaldf2[['predictedintsvm','trueinterest','fraudint', 'predictsuccess', 'fraudprob']]"
     ],
     "language": "python",
     "metadata": {},
     "outputs": [],
     "prompt_number": 80
    },
    {
     "cell_type": "code",
     "collapsed": false,
     "input": [
      "dftosql = plotdf[np.isfinite(plotdf['fraudint'])]"
     ],
     "language": "python",
     "metadata": {},
     "outputs": [],
     "prompt_number": 81
    },
    {
     "cell_type": "code",
     "collapsed": false,
     "input": [
      "# Note that you will probably want to create a SQL table. I have generated what I think should be the table\n",
      "# However, the last commented line is up to you to see have you want to handle the predicted interest\n",
      "#dftosql.to_sql('predictedinterest',con,if_exists = 'replace', flavor = 'mysql')"
     ],
     "language": "python",
     "metadata": {},
     "outputs": [],
     "prompt_number": 94
    }
   ],
   "metadata": {}
  }
 ]
}