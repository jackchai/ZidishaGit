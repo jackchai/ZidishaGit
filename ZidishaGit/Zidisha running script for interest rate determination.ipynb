{
 "metadata": {
  "name": "",
  "signature": "sha256:9d3662a9101be6436ba5cdafd019099bd45a121ef0028f81b1e11a7550fc6d82"
 },
 "nbformat": 3,
 "nbformat_minor": 0,
 "worksheets": [
  {
   "cells": [
    {
     "cell_type": "code",
     "collapsed": false,
     "input": [
      "import pandas as pd\n",
      "import pandas.io.sql as psql\n",
      "from datetime import datetime\n",
      "import MySQLdb as mdb \n",
      "import numpy as np\n",
      "from sklearn import svm\n",
      "from sklearn.externals import joblib\n",
      "import pickle as pickle"
     ],
     "language": "python",
     "metadata": {},
     "outputs": [],
     "prompt_number": 1
    },
    {
     "cell_type": "code",
     "collapsed": false,
     "input": [
      "# Establish connnection to SQL databases right here\n",
      "con = mdb.connect(host = 'localhost', user = 'root', passwd = 'pptz/90275', db = 'Zidisha2')\n",
      "con1 = mdb.connect(host = 'localhost', user = 'root', passwd = 'pptz/90275', db = 'zidisha')"
     ],
     "language": "python",
     "metadata": {},
     "outputs": [],
     "prompt_number": 2
    },
    {
     "cell_type": "code",
     "collapsed": false,
     "input": [
      "# Extract the tables from the SQL databases to pandas dataframe\n",
      "# Note, if desired, one can extract exact values from each of the tables\n",
      "# Absolutely needed values for now are isdebtfree, loan category id, 2 digit numerical currency identification, maximum allowed borrower interest rate\n",
      "# Depending on how you want to deal with default probability, we may need the amount of money that has been repaid back\n",
      "with con:\n",
      "    sql = \"SELECT * FROM borrowers\"\n",
      "    borrowers = psql.frame_query(sql, con, coerce_float = True)\n",
      "    \n",
      "    sql = \"SELECT * FROM loans\"\n",
      "    loans = psql.frame_query(sql, con, coerce_float = True)\n",
      "    \n",
      "    sql = \"SELECT * FROM exchange_rates\"\n",
      "    excrate = psql.frame_query(sql, con, coerce_float = True)"
     ],
     "language": "python",
     "metadata": {},
     "outputs": [],
     "prompt_number": 3
    },
    {
     "cell_type": "code",
     "collapsed": false,
     "input": [
      "with con1:\n",
      "    sql = \"SELECT * FROM borrowers\"\n",
      "    borrowersold = psql.frame_query(sql,con1, coerce_float = True)\n",
      "    "
     ],
     "language": "python",
     "metadata": {},
     "outputs": [],
     "prompt_number": 4
    },
    {
     "cell_type": "code",
     "collapsed": false,
     "input": [
      "# Following is just merging and aligning the tables together\n",
      "borrowers['borrower_id'] = borrowers.id\n",
      "borrowers = borrowers.drop('id', axis = 1)"
     ],
     "language": "python",
     "metadata": {},
     "outputs": [],
     "prompt_number": 5
    },
    {
     "cell_type": "code",
     "collapsed": false,
     "input": [
      "loans['loanid'] = loans.id\n",
      "loans = loans.drop('id',axis =1)"
     ],
     "language": "python",
     "metadata": {},
     "outputs": [],
     "prompt_number": 6
    },
    {
     "cell_type": "code",
     "collapsed": false,
     "input": [
      "currentdf = pd.merge(loans, borrowers, on = 'borrower_id')\n",
      "currentdf = pd.merge(currentdf, borrowersold[['userid','currency']], left_on = 'borrower_id', right_on = 'userid')"
     ],
     "language": "python",
     "metadata": {},
     "outputs": [],
     "prompt_number": 7
    },
    {
     "cell_type": "code",
     "collapsed": false,
     "input": [
      "# Because of the way svm was trained, for values of people who don't have a isdebtfree, we set the value to 0.646 (average number)\n",
      "debt = currentdf.is_debt_free\n",
      "debt = debt.apply(float)\n",
      "debt[np.isnan(debt)] = 0.646\n",
      "currentdf = currentdf.drop('is_debt_free', axis = 1)\n",
      "currentdf['is_debt_free'] = debt\n",
      "# If loan category id was empty, to handle this we set an arbitrary value of 19 right now\n",
      "lci = currentdf.category_id\n",
      "lci = lci.apply(float)\n",
      "lci[np.isnan(lci)] = 19\n",
      "currentdf = currentdf.drop('category_id', axis = 1)\n",
      "currentdf['category_id'] = lci\n",
      "currentdf['max_interest_rate'] = currentdf.max_interest_rate.apply(float)\n",
      "currentdf['currency'] = currentdf.currency.apply(float)\n",
      "# The following dataframe is what will be the inputs to the trained svm model\n",
      "Xsvm = currentdf[['max_interest_rate','is_debt_free','currency','category_id']]"
     ],
     "language": "python",
     "metadata": {},
     "outputs": [],
     "prompt_number": 10
    },
    {
     "cell_type": "code",
     "collapsed": false,
     "input": [
      "# Since SVM takes a while to train, when we use the model building script, we actually save the trained model to so that we can just load it\n",
      "# Make sure you have the correct and latest file pckl file selected if you continue to retrain\n",
      "lin_clf = joblib.load('POLYsvmfit1.pckl')"
     ],
     "language": "python",
     "metadata": {},
     "outputs": [],
     "prompt_number": 11
    },
    {
     "cell_type": "code",
     "collapsed": false,
     "input": [
      "# Using the svm model to predict what the expected values from the inputs are\n",
      "svmdf= Xsvm\n",
      "predict = lin_clf.predict(Xsvm)\n",
      "svmdf['predict'] = predict\n"
     ],
     "language": "python",
     "metadata": {},
     "outputs": [],
     "prompt_number": 12
    },
    {
     "cell_type": "code",
     "collapsed": false,
     "input": [
      "# Recall here that svm training put many things into the same category. As a result we created a dataframe to match actual risk values to each category\n",
      "# Same here, make sure you have the correct csv conversion file selected\n",
      "meansvmdf = pd.read_csv('msvmdf1.csv')"
     ],
     "language": "python",
     "metadata": {},
     "outputs": [],
     "prompt_number": 91
    },
    {
     "cell_type": "code",
     "collapsed": false,
     "input": [
      "# At this point, it is just number crunching. \n",
      "currentdf['predict'] = predict\n",
      "predictdf = pd.merge(currentdf, meansvmdf, on = 'predict')\n",
      "predictsuccess = (1-predictdf.fraclost)*(default/total)+(total-default)/total\n",
      "predictedint = 1/(predictsuccess) - 1\n",
      "predictdf['predictedintsvm'] = predictedint\n"
     ],
     "language": "python",
     "metadata": {},
     "outputs": [],
     "prompt_number": 92
    },
    {
     "cell_type": "code",
     "collapsed": false,
     "input": [
      "# Note that you will probably want to create a SQL table. I have generated what I think should be the table\n",
      "# However, the last commented line is up to you to see have you want to handle the predicted interest\n",
      "dftosql = predictdf[['loanid','borrower_id','predictedintsvm']]\n",
      "#dftosql.to_sql('predictedinterest',con,if_exists = 'replace', flavor = 'mysql')"
     ],
     "language": "python",
     "metadata": {},
     "outputs": [],
     "prompt_number": 94
    }
   ],
   "metadata": {}
  }
 ]
}