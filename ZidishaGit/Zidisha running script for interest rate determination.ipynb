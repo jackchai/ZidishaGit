{
 "metadata": {
  "name": "",
  "signature": "sha256:afcd351f10d9c6845f949ae09a253fcfa668a473a91d4731269c4b789adb71a2"
 },
 "nbformat": 3,
 "nbformat_minor": 0,
 "worksheets": [
  {
   "cells": [
    {
     "cell_type": "code",
     "collapsed": false,
     "input": [
      "import pandas as pd\n",
      "import pandas.io.sql as psql\n",
      "import matplotlib.pyplot as plt\n",
      "import matplotlib.dates as mdates\n",
      "from datetime import datetime\n",
      "import MySQLdb as mdb \n",
      "import numpy as np\n",
      "import time\n",
      "import statsmodels.api as sm\n",
      "from patsy import dmatrices\n",
      "from sklearn import svm\n",
      "from sklearn.externals import joblib\n",
      "import pickle as pickle\n",
      "from mpl_toolkits.mplot3d import Axes3D\n",
      "from scipy.stats import gaussian_kde"
     ],
     "language": "python",
     "metadata": {},
     "outputs": [],
     "prompt_number": 1
    },
    {
     "cell_type": "code",
     "collapsed": false,
     "input": [
      "con = mdb.connect(host = 'localhost', user = 'root', passwd = 'pptz/90275', db = 'Zidisha2')\n",
      "con1 = mdb.connect(host = 'localhost', user = 'root', passwd = 'pptz/90275', db = 'zidisha')"
     ],
     "language": "python",
     "metadata": {},
     "outputs": [],
     "prompt_number": 34
    },
    {
     "cell_type": "code",
     "collapsed": false,
     "input": [
      "with con:\n",
      "    sql = \"SELECT * FROM borrowers\"\n",
      "    borrowers = psql.frame_query(sql, con, coerce_float = True)\n",
      "    \n",
      "    sql = \"SELECT * FROM loans\"\n",
      "    loans = psql.frame_query(sql, con, coerce_float = True)\n",
      "    \n",
      "    sql = \"SELECT * FROM exchange_rates\"\n",
      "    excrate = psql.frame_query(sql, con, coerce_float = True)"
     ],
     "language": "python",
     "metadata": {},
     "outputs": [],
     "prompt_number": 35
    },
    {
     "cell_type": "code",
     "collapsed": false,
     "input": [
      "with con1:\n",
      "    sql = \"SELECT * FROM borrowers\"\n",
      "    borrowersold = psql.frame_query(sql,con1, coerce_float = True)\n",
      "    "
     ],
     "language": "python",
     "metadata": {},
     "outputs": [],
     "prompt_number": 41
    },
    {
     "cell_type": "code",
     "collapsed": false,
     "input": [
      "borrowers['borrower_id'] = borrowers.id\n",
      "borrowers = borrowers.drop('id', axis = 1)"
     ],
     "language": "python",
     "metadata": {},
     "outputs": [],
     "prompt_number": 73
    },
    {
     "cell_type": "code",
     "collapsed": false,
     "input": [
      "loans['loanid'] = loans.id\n",
      "loans = loans.drop('id',axis =1)"
     ],
     "language": "python",
     "metadata": {},
     "outputs": [],
     "prompt_number": 86
    },
    {
     "cell_type": "code",
     "collapsed": false,
     "input": [
      "currentdf = pd.merge(loans, borrowers, on = 'borrower_id')\n",
      "currentdf = pd.merge(currentdf, borrowersold[['userid','currency']], left_on = 'borrower_id', right_on = 'userid')"
     ],
     "language": "python",
     "metadata": {},
     "outputs": [],
     "prompt_number": 87
    },
    {
     "cell_type": "code",
     "collapsed": false,
     "input": [
      "debt = currentdf.is_debt_free\n",
      "debt = debt.apply(float)\n",
      "debt[isnan(debt)] = 0.646\n",
      "currentdf = currentdf.drop('is_debt_free', axis = 1)\n",
      "currentdf['is_debt_free'] = debt\n",
      "lci = currentdf.category_id\n",
      "lci = lci.apply(float)\n",
      "lci[isnan(lci)] = 19\n",
      "currentdf = currentdf.drop('category_id', axis = 1)\n",
      "currentdf['category_id'] = lci\n",
      "currentdf['max_interest_rate'] = currentdf.max_interest_rate.apply(float)\n",
      "currentdf['currency'] = currentdf.currency.apply(float)\n",
      "Xsvm = currentdf[['max_interest_rate','is_debt_free','currency','category_id']]"
     ],
     "language": "python",
     "metadata": {},
     "outputs": [],
     "prompt_number": 88
    },
    {
     "cell_type": "code",
     "collapsed": false,
     "input": [
      "lin_clf = joblib.load('linearfittrue42k.pkl')"
     ],
     "language": "python",
     "metadata": {},
     "outputs": [],
     "prompt_number": 89
    },
    {
     "cell_type": "code",
     "collapsed": false,
     "input": [
      "svmdf= Xsvm\n",
      "predict = lin_clf.predict(Xsvm)\n",
      "svmdf['predict'] = predict\n",
      "#plt.scatter(predict, ysvm)\n",
      "#plt.xlim(min(predict),max(predict))\n",
      "#predictedint = 1/(1-predictfracloss) - 1\n",
      "#np.mean(predictedint)\n",
      "\n",
      "#predictresults = pd.DataFrame(predict)\n",
      "#predictresults['fraclost'] = ysvm\n"
     ],
     "language": "python",
     "metadata": {},
     "outputs": [],
     "prompt_number": 90
    },
    {
     "cell_type": "code",
     "collapsed": false,
     "input": [
      "meansvmdf = pd.read_csv('meansvmdf.csv')"
     ],
     "language": "python",
     "metadata": {},
     "outputs": [],
     "prompt_number": 91
    },
    {
     "cell_type": "code",
     "collapsed": false,
     "input": [
      "currentdf['predict'] = predict\n",
      "predictdf = pd.merge(currentdf, meansvmdf, on = 'predict')\n",
      "predictedint = 1/(1-predictdf.fraclost) - 1\n",
      "predictdf['predictedintsvm'] = predictedint\n"
     ],
     "language": "python",
     "metadata": {},
     "outputs": [],
     "prompt_number": 92
    },
    {
     "cell_type": "code",
     "collapsed": false,
     "input": [
      "dftosql = predictdf[['loanid','borrower_id','predictedintsvm']]\n",
      "#dftosql.to_sql('predictedinterest',con,if_exists = 'replace', flavor = 'mysql')"
     ],
     "language": "python",
     "metadata": {},
     "outputs": [],
     "prompt_number": 94
    }
   ],
   "metadata": {}
  }
 ]
}