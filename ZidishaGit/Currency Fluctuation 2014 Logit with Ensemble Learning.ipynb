{
 "metadata": {
  "name": "",
  "signature": "sha256:d17ccaf0ee05f0cf44b783be3a844556b219e309efef454e07e33d89a4bfcead"
 },
 "nbformat": 3,
 "nbformat_minor": 0,
 "worksheets": [
  {
   "cells": [
    {
     "cell_type": "code",
     "collapsed": false,
     "input": [
      "import pandas as pd\n",
      "import pandas.io.sql as psql\n",
      "import matplotlib.pyplot as plt\n",
      "import matplotlib.dates as mdates\n",
      "from datetime import datetime\n",
      "import MySQLdb as mdb \n",
      "import numpy as np\n",
      "import time\n",
      "import statsmodels.api as sm\n",
      "from patsy import dmatrices\n",
      "from sklearn import svm\n",
      "from sklearn.externals import joblib\n",
      "import pickle as pickle"
     ],
     "language": "python",
     "metadata": {},
     "outputs": [],
     "prompt_number": 2
    },
    {
     "cell_type": "code",
     "collapsed": false,
     "input": [
      "con = mdb.connect(host = 'localhost', user = 'root', passwd = 'pptz/90275', db = 'zidisha')"
     ],
     "language": "python",
     "metadata": {},
     "outputs": [],
     "prompt_number": 3
    },
    {
     "cell_type": "code",
     "collapsed": false,
     "input": [
      "with con:\n",
      "    cur = con.cursor()\n",
      "    sql = \"SELECT * FROM excrate\"\n",
      "    excratedf = psql.frame_query(sql, con, coerce_float = True)\n",
      "\n",
      "    sql = \"SELECT * FROM borrowers\"\n",
      "    borrowers = psql.frame_query(sql, con, coerce_float = True)\n",
      "    \n",
      "    sql = \"SELECT * FROM repaymentschedule\"\n",
      "    rsh = psql.frame_query(sql, con, coerce_float = True)\n",
      "    \n",
      "    sql = \"SELECT * FROM loanapplic\"\n",
      "    loanapplic = psql.frame_query(sql, con, coerce_float = True)"
     ],
     "language": "python",
     "metadata": {},
     "outputs": [],
     "prompt_number": 4
    },
    {
     "cell_type": "code",
     "collapsed": false,
     "input": [
      "rshamount = rsh.amount\n",
      "rshamount[np.isnan(rshamount)] = 0"
     ],
     "language": "python",
     "metadata": {},
     "outputs": [],
     "prompt_number": 5
    },
    {
     "cell_type": "code",
     "collapsed": false,
     "input": [
      "rshpaidamt = rsh.paidamt\n",
      "rshpaidamt[np.isnan(rshpaidamt)] = 0\n"
     ],
     "language": "python",
     "metadata": {},
     "outputs": [],
     "prompt_number": 6
    },
    {
     "cell_type": "code",
     "collapsed": false,
     "input": [
      "rsh['netloss'] = pd.Series(rshpaidamt - rshamount, index=rsh.index)"
     ],
     "language": "python",
     "metadata": {},
     "outputs": [],
     "prompt_number": 7
    },
    {
     "cell_type": "code",
     "collapsed": false,
     "input": [
      "currdate = datetime.now()\n",
      "twomonthtime = time.mktime(currdate.timetuple()) - 60*24*3600\n"
     ],
     "language": "python",
     "metadata": {},
     "outputs": [],
     "prompt_number": 8
    },
    {
     "cell_type": "code",
     "collapsed": false,
     "input": [
      "rshtrunc = rsh[rsh.duedate.apply(float)<twomonthtime]"
     ],
     "language": "python",
     "metadata": {},
     "outputs": [],
     "prompt_number": 9
    },
    {
     "cell_type": "code",
     "collapsed": false,
     "input": [
      "rshgroup = rsh.groupby('loanid')\n",
      "rshtruncgroup = rshtrunc.groupby('loanid')"
     ],
     "language": "python",
     "metadata": {},
     "outputs": [],
     "prompt_number": 10
    },
    {
     "cell_type": "code",
     "collapsed": false,
     "input": [
      "lossamt = rshtruncgroup['netloss'].apply(sum)\n",
      "lossamt = lossamt.reset_index()\n",
      "lossamt = lossamt.rename(columns = {0:'lossamt'})"
     ],
     "language": "python",
     "metadata": {},
     "outputs": [],
     "prompt_number": 11
    },
    {
     "cell_type": "code",
     "collapsed": false,
     "input": [
      "expectedamt = rshtruncgroup['amount'].apply(sum)\n",
      "expectedamt = expectedamt.reset_index()\n",
      "expectedamt = expectedamt.rename(columns = {0:'expectedamt'})\n"
     ],
     "language": "python",
     "metadata": {},
     "outputs": [],
     "prompt_number": 12
    },
    {
     "cell_type": "code",
     "collapsed": false,
     "input": [
      "paidamt = rshtruncgroup['paidamt'].apply(sum)\n",
      "paidamt = paidamt.reset_index()\n",
      "paidamt = paidamt.rename(columns = {0:'paidamt'})"
     ],
     "language": "python",
     "metadata": {},
     "outputs": [],
     "prompt_number": 13
    },
    {
     "cell_type": "code",
     "collapsed": false,
     "input": [
      "fractionlost = (lossamt.lossamt)/np.abs(expectedamt.expectedamt)\n"
     ],
     "language": "python",
     "metadata": {},
     "outputs": [],
     "prompt_number": 14
    },
    {
     "cell_type": "code",
     "collapsed": false,
     "input": [
      "compinfo = expectedamt\n",
      "compinfo['lossamt'] = lossamt.lossamt\n",
      "compinfo['fractionlost'] = -fractionlost\n",
      "compinfo['paidamt'] = paidamt.paidamt\n",
      "compinfo = compinfo[compinfo.expectedamt != 0]\n"
     ],
     "language": "python",
     "metadata": {},
     "outputs": [],
     "prompt_number": 15
    },
    {
     "cell_type": "code",
     "collapsed": false,
     "input": [
      "compinfo2 = pd.merge(compinfo,loanapplic,on = 'loanid')\n",
      "compinfo2 = pd.merge(compinfo2, borrowers, left_on = 'borrowerid', right_on = 'userid')\n"
     ],
     "language": "python",
     "metadata": {},
     "outputs": [],
     "prompt_number": 16
    },
    {
     "cell_type": "code",
     "collapsed": false,
     "input": [
      "groupexcratedf = excratedf.groupby('currency')\n",
      "groupexcratedf = groupexcratedf['rate'].apply(np.mean)\n",
      "groupexcratedf = groupexcratedf.reset_index()\n",
      "groupexcratedf = groupexcratedf.rename(columns={0: 'rate'})\n"
     ],
     "language": "python",
     "metadata": {},
     "outputs": [],
     "prompt_number": 17
    },
    {
     "cell_type": "code",
     "collapsed": false,
     "input": [
      "compinfo2 = pd.merge(compinfo2, groupexcratedf, how = \"left\")"
     ],
     "language": "python",
     "metadata": {},
     "outputs": [],
     "prompt_number": 18
    },
    {
     "cell_type": "code",
     "collapsed": false,
     "input": [
      "trueexpected = compinfo2.expectedamt/compinfo2.rate"
     ],
     "language": "python",
     "metadata": {},
     "outputs": [],
     "prompt_number": 19
    },
    {
     "cell_type": "code",
     "collapsed": false,
     "input": [
      "truelossamt = compinfo2.lossamt/compinfo2.rate"
     ],
     "language": "python",
     "metadata": {},
     "outputs": [],
     "prompt_number": 20
    },
    {
     "cell_type": "code",
     "collapsed": false,
     "input": [
      "truepaidamt = compinfo2.paidamt/compinfo2.rate"
     ],
     "language": "python",
     "metadata": {},
     "outputs": [],
     "prompt_number": 21
    },
    {
     "cell_type": "code",
     "collapsed": false,
     "input": [
      "compinfo2['trueexpected'] = trueexpected"
     ],
     "language": "python",
     "metadata": {},
     "outputs": [],
     "prompt_number": 22
    },
    {
     "cell_type": "code",
     "collapsed": false,
     "input": [
      "compinfo2['truelossamt'] = truelossamt"
     ],
     "language": "python",
     "metadata": {},
     "outputs": [],
     "prompt_number": 23
    },
    {
     "cell_type": "code",
     "collapsed": false,
     "input": [
      "compinfo2['truepaidamt'] = truepaidamt\n",
      "compinfo2['binaryfraction'] = compinfo2.fractionlost.apply(np.ceil)"
     ],
     "language": "python",
     "metadata": {},
     "outputs": [],
     "prompt_number": 24
    },
    {
     "cell_type": "code",
     "collapsed": false,
     "input": [
      "currdate = datetime(2014,1,1)\n",
      "oneyeartime = time.mktime(currdate.timetuple())"
     ],
     "language": "python",
     "metadata": {},
     "outputs": [],
     "prompt_number": 25
    },
    {
     "cell_type": "code",
     "collapsed": false,
     "input": [
      "lastyear = compinfo2[compinfo2.AcceptDate > oneyeartime]\n",
      "lastyear = lastyear.sort('fractionlost')"
     ],
     "language": "python",
     "metadata": {},
     "outputs": [],
     "prompt_number": 26
    },
    {
     "cell_type": "code",
     "collapsed": false,
     "input": [
      "lastyearnotfraud = lastyear[lastyear.fractionlost < 1]"
     ],
     "language": "python",
     "metadata": {},
     "outputs": [],
     "prompt_number": 27
    },
    {
     "cell_type": "code",
     "collapsed": false,
     "input": [
      "#Note don't run this similarly with above\n",
      "cols_to_keep = ['loan_category_id','currency','interest','fractionlost']\n",
      "lastyeardebt = lastyearnotfraud[lastyearnotfraud.isdebtfree == 1]\n",
      "lastyeardebtfree = lastyearnotfraud[lastyearnotfraud.isdebtfree == 0]\n",
      "lastyearnotreport = lastyearnotfraud[(lastyearnotfraud.isdebtfree != 1) & (lastyear.isdebtfree !=0)]\n",
      "datadebt = lastyeardebt[cols_to_keep]\n",
      "datadebtfree = lastyeardebtfree[cols_to_keep]\n",
      "datanotreport = lastyearnotreport[cols_to_keep]\n",
      "datadebt = datadebt.dropna()\n",
      "datanotreport = datanotreport.dropna()\n",
      "datadebtfree = datadebtfree.dropna()\n",
      "ydebt = datadebt.fractionlost\n",
      "ydebtfree = datadebtfree.fractionlost\n",
      "ynotreport = datanotreport.fractionlost\n",
      "\n",
      "datadebt = datadebt.drop('fractionlost',axis = 1)\n",
      "datadebtfree = datadebtfree.drop('fractionlost',axis = 1)\n",
      "datanotreport = datanotreport.drop('fractionlost', axis = 1)\n",
      "\n",
      "datadebt['intercept'] = 1\n",
      "datadebtfree['intercept'] = 1\n",
      "datanotreport['intercept']  = 1\n",
      "#y, X = dmatrices('fractionlost ~ interest + trueexpected + sift_score + Country + period + loan_category_id + AnnualIncome',lastyear, return_type = 'dataframe')\n",
      "#y, X = dmatrices('fractionlost ~ interest',lastyeargrouped, retuyrn_type = 'dataframe')"
     ],
     "language": "python",
     "metadata": {},
     "outputs": [],
     "prompt_number": 28
    },
    {
     "cell_type": "code",
     "collapsed": false,
     "input": [
      "debtnotfreedf = lastyear[lastyear.isdebtfree == 1]\n",
      "debtfreedf = lastyear[lastyear.isdebtfree == 0]\n",
      "pdebt = float(len(debtnotfreedf))/(float(len(debtfreedf))+float(len(debtnotfreedf)))"
     ],
     "language": "python",
     "metadata": {},
     "outputs": [],
     "prompt_number": 29
    },
    {
     "cell_type": "code",
     "collapsed": false,
     "input": [
      "#joblib.dump(lin_clf,'linearfitensemblegood.pkl')\n",
      "#lin_clf = joblib.load('linearfit.pkl')"
     ],
     "language": "python",
     "metadata": {},
     "outputs": [
      {
       "metadata": {},
       "output_type": "pyout",
       "prompt_number": 74,
       "text": [
        "['linearfitensemblegood.pkl',\n",
        " 'linearfitensemblegood.pkl_01.npy',\n",
        " 'linearfitensemblegood.pkl_02.npy',\n",
        " 'linearfitensemblegood.pkl_03.npy',\n",
        " 'linearfitensemblegood.pkl_04.npy',\n",
        " 'linearfitensemblegood.pkl_05.npy']"
       ]
      }
     ],
     "prompt_number": 74
    },
    {
     "cell_type": "code",
     "collapsed": false,
     "input": [
      "logitdebt = sm.Logit(ydebt, datadebt)\n",
      "resultdebt = logitdebt.fit()\n",
      "paramsdebt = resultdebt.params\n",
      "\n",
      "logitdebtfree = sm.Logit(ydebtfree,datadebtfree)\n",
      "resultdebtfree = logitdebtfree.fit()\n",
      "paramsdebtfree = resultdebtfree.params\n",
      "\n",
      "logitnotreport = sm.Logit(ynotreport, datanotreport)\n",
      "resultnotreport = logitnotreport.fit()\n",
      "paramsnotreport = resultnotreport.params\n",
      "#sift_score = pd.DataFrame(lastyear.sift_score)\n",
      "#sift_score['intercept'] = 1\n",
      "#logitsift = sm.Logit(lastyear.fractionlost, sift_score)\n",
      "#resultsift = logitsift.fit()\n",
      "#resultsift.summary()\n"
     ],
     "language": "python",
     "metadata": {},
     "outputs": [
      {
       "output_type": "stream",
       "stream": "stdout",
       "text": [
        "Optimization terminated successfully.\n",
        "         Current function value: 0.229091\n",
        "         Iterations 7\n",
        "Optimization terminated successfully.\n",
        "         Current function value: 0.157486\n",
        "         Iterations 7\n",
        "Optimization terminated successfully.\n",
        "         Current function value: 0.175614\n",
        "         Iterations 7\n"
       ]
      }
     ],
     "prompt_number": 33
    },
    {
     "cell_type": "code",
     "collapsed": false,
     "input": [
      "paramstocons = paramsnotreport\n",
      "dftocons = lastyearnotreport\n",
      "lcicoeff = paramstocons['loan_category_id']\n",
      "currcoeff = paramstocons['currency']\n",
      "intcoeff = paramstocons['interest']\n",
      "intercept = paramstocons['intercept']\n",
      "predicted = 1/(1+np.exp(-(intercept +currcoeff*dftocons.currency+lcicoeff*dftocons.loan_category_id+intcoeff*dftocons.interest)))\n",
      "#predicted = 1/(1+np.exp(-(-4.4342+2.9260*sift_score)))\n",
      "predictedint = 1/(1-predicted) - 1\n",
      "#plt.scatter(predicted,lastyearnotreport.fractionlost)\n",
      "#predictedint[predictedint > 0.15] =0.15\n",
      "#predictedint = 0.15\n",
      "predictedincome = (dftocons.truepaidamt)*(1+predictedint)/(1+dftocons.finalrate/100)\n",
      "newloss = predictedincome - dftocons.trueexpected\n",
      "lynr = lastyearnotreport\n",
      "lynr['predictedint'] = predictedint"
     ],
     "language": "python",
     "metadata": {},
     "outputs": [],
     "prompt_number": 34
    },
    {
     "cell_type": "code",
     "collapsed": false,
     "input": [
      "paramstocons = paramsdebt\n",
      "dftocons = lastyeardebt\n",
      "lcicoeff = paramstocons['loan_category_id']\n",
      "currcoeff = paramstocons['currency']\n",
      "intcoeff = paramstocons['interest']\n",
      "intercept = paramstocons['intercept']\n",
      "predicted = 1/(1+np.exp(-(intercept +currcoeff*dftocons.currency+lcicoeff*dftocons.loan_category_id+intcoeff*dftocons.interest)))\n",
      "#predicted = 1/(1+np.exp(-(-4.4342+2.9260*sift_score)))\n",
      "predictedint = 1/(1-predicted) - 1\n",
      "#plt.scatter(predicted,lastyearnotreport.fractionlost)\n",
      "#predictedint[predictedint > 0.15] =0.15\n",
      "#predictedint = 0.15\n",
      "predictedincome = (dftocons.truepaidamt)*(1+predictedint)/(1+dftocons.finalrate/100)\n",
      "newloss = predictedincome - dftocons.trueexpected\n",
      "lyd = lastyeardebt\n",
      "lyd['predictedint'] = predictedint"
     ],
     "language": "python",
     "metadata": {},
     "outputs": [],
     "prompt_number": 35
    },
    {
     "cell_type": "code",
     "collapsed": false,
     "input": [
      "paramstocons = paramsdebtfree\n",
      "dftocons = lastyeardebtfree\n",
      "lcicoeff = paramstocons['loan_category_id']\n",
      "currcoeff = paramstocons['currency']\n",
      "intcoeff = paramstocons['interest']\n",
      "intercept = paramstocons['intercept']\n",
      "predicted = 1/(1+np.exp(-(intercept +currcoeff*dftocons.currency+lcicoeff*dftocons.loan_category_id+intcoeff*dftocons.interest)))\n",
      "#predicted = 1/(1+np.exp(-(-4.4342+2.9260*sift_score)))\n",
      "predictedint = 1/(1-predicted) - 1\n",
      "#plt.scatter(predicted,lastyearnotreport.fractionlost)\n",
      "#predictedint[predictedint > 0.15] =0.15\n",
      "#predictedint = 0.15\n",
      "predictedincome = (dftocons.truepaidamt)*(1+predictedint)/(1+dftocons.finalrate/100)\n",
      "newloss = predictedincome - dftocons.trueexpected\n",
      "lydf = lastyeardebtfree\n",
      "lydf['predictedint'] = predictedint"
     ],
     "language": "python",
     "metadata": {},
     "outputs": [],
     "prompt_number": 36
    },
    {
     "cell_type": "code",
     "collapsed": false,
     "input": [
      "finaldf = pd.concat([lynr,lyd,lydf])\n",
      "#predictdfuse = predictdf[['loanid','predictedintsvm']]\n",
      "#finaldf = pd.merge(finaldf, predictdfuse,on = 'loanid')"
     ],
     "language": "python",
     "metadata": {},
     "outputs": [],
     "prompt_number": 77
    },
    {
     "cell_type": "code",
     "collapsed": false,
     "input": [
      "currentdf = finaldf\n",
      "debt = currentdf.isdebtfree\n",
      "debt[isnan(debt)] = pdebt\n",
      "currentdf = currentdf.drop('isdebtfree', axis = 1)\n",
      "currentdf['isdebtfree'] = debt\n",
      "lci = currentdf.loan_category_id\n",
      "lci[isnan(lci)] = 19\n",
      "currentdf = currentdf.drop('loan_category_id', axis = 1)\n",
      "currentdf['loan_category_id'] = lci\n",
      "Xsvm = currentdf[['interest','isdebtfree','currency','loan_category_id','predictedint']]\n",
      "ysvm = currentdf['fractionlost']\n",
      "#ysvm, Xsvm = dmatrices('fractionlost ~ interest + trueexpected + currency + loan_category_id',lastyearnotfraud, return_type = 'dataframe')\n",
      "#y, X = dmatrices('fractionlost ~ interest',lastyearnotfraud, retuyrn_type = 'dataframe')"
     ],
     "language": "python",
     "metadata": {},
     "outputs": [],
     "prompt_number": 95
    },
    {
     "cell_type": "code",
     "collapsed": false,
     "input": [
      "ysvm = np.ravel(ysvm)\n",
      "lin_clf = svm.LinearSVC()\n",
      "lin_clf.fit(Xsvm, ysvm)"
     ],
     "language": "python",
     "metadata": {},
     "outputs": [
      {
       "metadata": {},
       "output_type": "pyout",
       "prompt_number": 96,
       "text": [
        "LinearSVC(C=1.0, class_weight=None, dual=True, fit_intercept=True,\n",
        "     intercept_scaling=1, loss='l2', multi_class='ovr', penalty='l2',\n",
        "     random_state=None, tol=0.0001, verbose=0)"
       ]
      }
     ],
     "prompt_number": 96
    },
    {
     "cell_type": "code",
     "collapsed": false,
     "input": [
      "svmdf= Xsvm\n",
      "predict = lin_clf.predict(Xsvm)\n",
      "svmdf['fraclost']  = ysvm\n",
      "svmdf['predict'] = predict\n",
      "plt.scatter(predict, ysvm)\n",
      "#plt.xlim(min(predict),max(predict))\n",
      "#predictedint = 1/(1-predictfracloss) - 1\n",
      "#np.mean(predictedint)\n",
      "\n",
      "#predictresults = pd.DataFrame(predict)\n",
      "#predictresults['fraclost'] = ysvm\n"
     ],
     "language": "python",
     "metadata": {},
     "outputs": [
      {
       "metadata": {},
       "output_type": "pyout",
       "prompt_number": 97,
       "text": [
        "<matplotlib.collections.PathCollection at 0x7f2d867a3890>"
       ]
      },
      {
       "metadata": {},
       "output_type": "display_data",
       "png": "[encoded data removed]",
       "text": [
        "<matplotlib.figure.Figure at 0x7f2d86c10950>"
       ]
      }
     ],
     "prompt_number": 97
    },
    {
     "cell_type": "code",
     "collapsed": false,
     "input": [
      "groupsvmdf = svmdf.sort('predict')\n",
      "groupsvmdf = svmdf.groupby('predict')\n",
      "meansvmdf = groupsvmdf['fraclost'].apply(np.mean)\n",
      "meansvmdf = meansvmdf.reset_index()\n",
      "meansvmdf = meansvmdf.rename(columns = {0:'fraclost'})\n"
     ],
     "language": "python",
     "metadata": {},
     "outputs": [],
     "prompt_number": 98
    },
    {
     "cell_type": "code",
     "collapsed": false,
     "input": [
      "currentdf['predict'] = predict\n",
      "predictdf = pd.merge(currentdf, meansvmdf, on = 'predict')\n",
      "#predicted = 1/(1+np.exp(-(-4.4342+2.9260*sift_score)))\n",
      "predictedint = 1/(1-predictdf.fraclost) - 1\n",
      "plt.scatter(predictdf.fractionlost,predictedint)\n",
      "plt.ylim(0)\n",
      "#predictedint[predictedint > 0.15] =0.15\n",
      "#predictedint = 0.15\n",
      "predictedincome = (predictdf.truepaidamt)*(1+predictedint)/(1+predictdf.finalrate/100)\n",
      "newloss = predictedincome - predictdf.trueexpected\n",
      "print(np.sum(predictdf.trueexpected))\n",
      "print(np.sum(predictedincome))\n",
      "print(np.sum(predictedincome) - np.sum(predictdf.trueexpected))\n",
      "print(np.sum(predictdf.truelossamt))\n",
      "print(np.mean(predictedint))\n",
      "print(np.mean(predictdf.finalrate))\n",
      "print(np.mean(predictdf.interest))\n",
      "predictdf['predictedintsvm'] = predictedint\n",
      "#plt.hist(predictdf.truelossamt, bins = 20)\n",
      "#plt.figure()\n",
      "#plt.hist(predictedincome - predictdf.trueexpected,color = 'red', bins = 20)\n",
      "#plt.figure()\n",
      "#plt.hist(predictedincome - predictdf.trueexpected - predictdf.truelossamt, bins = 20)\n",
      "#plt.show()\n",
      "print(np.sum(predictedincome - predictdf.trueexpected - predictdf.truelossamt))"
     ],
     "language": "python",
     "metadata": {},
     "outputs": [
      {
       "output_type": "stream",
       "stream": "stdout",
       "text": [
        "229490.39981\n",
        "214278.698782\n",
        "-15211.7010288\n",
        "-18163.1044377\n",
        "0.0749480909493\n",
        "6.03025343573\n",
        "15.5759902991\n",
        "2951.40340883\n"
       ]
      },
      {
       "metadata": {},
       "output_type": "display_data",
       "png": "[encoded data removed]",
       "text": [
        "<matplotlib.figure.Figure at 0x7f2d86cf5810>"
       ]
      }
     ],
     "prompt_number": 99
    },
    {
     "cell_type": "code",
     "collapsed": false,
     "input": [
      "predictdfuse = predictdf[['loanid','predictedintsvm']]\n",
      "finaldf = pd.merge(finaldf, predictdfuse,on = 'loanid')"
     ],
     "language": "python",
     "metadata": {},
     "outputs": [],
     "prompt_number": 83
    },
    {
     "cell_type": "code",
     "collapsed": false,
     "input": [
      "dftosql = finaldf[['loanid','borrowerid','predictedint','predictedintsvm','finalrate']]\n",
      "#dftosql.to_sql('predictedinterest',con,if_exists = 'replace', flavor = 'mysql')"
     ],
     "language": "python",
     "metadata": {},
     "outputs": [],
     "prompt_number": 84
    },
    {
     "cell_type": "code",
     "collapsed": false,
     "input": [
      "sortcurrency = excratedf.sort('currency')"
     ],
     "language": "python",
     "metadata": {},
     "outputs": [],
     "prompt_number": 85
    },
    {
     "cell_type": "code",
     "collapsed": false,
     "input": [
      "dftosql['roundpredictedint'] = np.round(dftosql.predictedint*100)\n",
      "dftosql['roundpredictedintsvm'] = np.round(dftosql.predictedintsvm*100)\n",
      "plt.scatter(finaldf.fractionlost, dftosql.roundpredictedintsvm)\n",
      "plt.figure()\n",
      "plt.scatter(finaldf.fractionlost ,dftosql.roundpredictedint)\n",
      "print(np.mean(dftosql.roundpredictedintsvm))\n",
      "print(np.mean(dftosql.roundpredictedint))"
     ],
     "language": "python",
     "metadata": {},
     "outputs": [
      {
       "output_type": "stream",
       "stream": "stdout",
       "text": [
        "7.36176232821\n",
        "7.61641067098\n"
       ]
      },
      {
       "metadata": {},
       "output_type": "display_data",
       "png": "[encoded data removed]",
       "text": [
        "<matplotlib.figure.Figure at 0x7f2d87134810>"
       ]
      },
      {
       "metadata": {},
       "output_type": "display_data",
       "png": "[encoded data removed]",
       "text": [
        "<matplotlib.figure.Figure at 0x7f2d87134a90>"
       ]
      }
     ],
     "prompt_number": 86
    },
    {
     "cell_type": "code",
     "collapsed": false,
     "input": [
      "finaldfgroup = finaldf.groupby('interest')\n",
      "finalintsvm = finaldfgroup['predictedintsvm'].apply(np.mean)\n",
      "finalintsvm = finalintsvm.reset_index()\n",
      "finalint = finaldfgroup['predictedint'].apply(np.mean)\n",
      "finalint = finalint.reset_index()\n",
      "finalrate = finaldfgroup['finalrate'].apply(np.mean)\n",
      "finalrate = finalrate.reset_index()\n",
      "plt.plot(finalintsvm.interest, finalintsvm[0])\n",
      "plt.plot(finalint.interest,finalint[0],color = 'red')\n"
     ],
     "language": "python",
     "metadata": {},
     "outputs": [
      {
       "metadata": {},
       "output_type": "pyout",
       "prompt_number": 87,
       "text": [
        "[<matplotlib.lines.Line2D at 0x7f2d86c05250>]"
       ]
      },
      {
       "metadata": {},
       "output_type": "display_data",
       "png": "[encoded data removed]",
       "text": [
        "<matplotlib.figure.Figure at 0x7f2d86eb4290>"
       ]
      }
     ],
     "prompt_number": 87
    },
    {
     "cell_type": "code",
     "collapsed": false,
     "input": [
      "trueexpectedamt = np.sum(lastyearnotfraud.trueexpected)\n",
      "truepaidamt = np.sum(lastyearnotfraud.truepaidamt*(1+(lastyearnotfraud.finalrate + 1.71)/100)/((1+lastyearnotfraud.finalrate/100)))\n",
      "finalrate = np.mean(lastyearnotfraud.finalrate + 1.71)\n",
      "loss = truepaidamt - trueexpectedamt\n",
      "\n",
      "\n",
      "plt.scatter(lastyearnotfraud.fractionlost,lastyearnotfraud.finalrate)\n",
      "plt.show()\n",
      "plt.scatter(lastyearnotfraud.truelossamt,lastyearnotfraud.finalrate)\n",
      "plt.show()\n",
      "plt.scatter(lastyearnotfraud.fractionlost,np.round(dftosql.predictedintsvm))\n",
      "plt.show()\n",
      "plt.scatter(lastyearnotfraud.truelossamt,np.round(dftosql.predictedintsvm))\n",
      "plt.show()\n",
      "\n",
      "print(trueexpectedamt)\n",
      "print(loss)\n",
      "print(lastyearnotfraud.)\n",
      "print(finalrate)\n",
      "print(np.mean(dftosql.roundpredictedintsvm))\n",
      "\n"
     ],
     "language": "python",
     "metadata": {},
     "outputs": [
      {
       "ename": "SyntaxError",
       "evalue": "invalid syntax (<ipython-input-101-35705178d993>, line 18)",
       "output_type": "pyerr",
       "traceback": [
        "\u001b[1;36m  File \u001b[1;32m\"<ipython-input-101-35705178d993>\"\u001b[1;36m, line \u001b[1;32m18\u001b[0m\n\u001b[1;33m    print(lastyearnotfraud.)\u001b[0m\n\u001b[1;37m                           ^\u001b[0m\n\u001b[1;31mSyntaxError\u001b[0m\u001b[1;31m:\u001b[0m invalid syntax\n"
       ]
      }
     ],
     "prompt_number": 101
    },
    {
     "cell_type": "code",
     "collapsed": false,
     "input": [
      "uniquecurrency = sortcurrency.currency.unique()"
     ],
     "language": "python",
     "metadata": {},
     "outputs": [],
     "prompt_number": 66
    },
    {
     "cell_type": "code",
     "collapsed": false,
     "input": [
      "date = sortcurrency[sortcurrency.currency == uniquecurrency[0]].start\n",
      "rate = sortcurrency[sortcurrency.currency == uniquecurrency[0]].rate"
     ],
     "language": "python",
     "metadata": {},
     "outputs": [],
     "prompt_number": 67
    },
    {
     "cell_type": "code",
     "collapsed": false,
     "input": [
      "plt.scatter(date,rate)"
     ],
     "language": "python",
     "metadata": {},
     "outputs": [
      {
       "metadata": {},
       "output_type": "pyout",
       "prompt_number": 68,
       "text": [
        "<matplotlib.collections.PathCollection at 0x7f2d864de450>"
       ]
      },
      {
       "metadata": {},
       "output_type": "display_data",
       "png": "[encoded data removed]",
       "text": [
        "<matplotlib.figure.Figure at 0x7f2d87677f90>"
       ]
      }
     ],
     "prompt_number": 68
    },
    {
     "cell_type": "code",
     "collapsed": false,
     "input": [
      "currencydf = pd.DataFrame\n",
      "date = sortcurrency[sortcurrency.currency == uniquecurrency[value]].start\n",
      "rate = sortcurrency[sortcurrency.currency == uniquecurrency[value]].rate\n",
      "lin_fit = sm.OLS(rate,date)\n",
      "result = lin_fit.fit()\n",
      "currencydf = pd.DataFrame(result.params)\n",
      "currencydf['e'] = Series(result.params, index=currency.index)\n",
      "#for value in uniquecurrency:\n",
      "#    date = sortcurrency[sortcurrency.currency == uniquecurrency[value]].start\n",
      "#    rate = sortcurrency[sortcurrency.currency == uniquecurrency[value]].rate\n",
      "#    lin_fit = sm.OLS(rate, date)\n",
      "#    result = lin_fit.fit()\n",
      "#    currencydf[str(value)] = result.params\n",
      "    \n",
      "    \n",
      "    "
     ],
     "language": "python",
     "metadata": {},
     "outputs": [
      {
       "ename": "NameError",
       "evalue": "name 'value' is not defined",
       "output_type": "pyerr",
       "traceback": [
        "\u001b[1;31m---------------------------------------------------------------------------\u001b[0m\n\u001b[1;31mNameError\u001b[0m                                 Traceback (most recent call last)",
        "\u001b[1;32m<ipython-input-69-d900d7d060a3>\u001b[0m in \u001b[0;36m<module>\u001b[1;34m()\u001b[0m\n\u001b[0;32m      1\u001b[0m \u001b[0mcurrencydf\u001b[0m \u001b[1;33m=\u001b[0m \u001b[0mpd\u001b[0m\u001b[1;33m.\u001b[0m\u001b[0mDataFrame\u001b[0m\u001b[1;33m\u001b[0m\u001b[0m\n\u001b[1;32m----> 2\u001b[1;33m \u001b[0mdate\u001b[0m \u001b[1;33m=\u001b[0m \u001b[0msortcurrency\u001b[0m\u001b[1;33m[\u001b[0m\u001b[0msortcurrency\u001b[0m\u001b[1;33m.\u001b[0m\u001b[0mcurrency\u001b[0m \u001b[1;33m==\u001b[0m \u001b[0muniquecurrency\u001b[0m\u001b[1;33m[\u001b[0m\u001b[0mvalue\u001b[0m\u001b[1;33m]\u001b[0m\u001b[1;33m]\u001b[0m\u001b[1;33m.\u001b[0m\u001b[0mstart\u001b[0m\u001b[1;33m\u001b[0m\u001b[0m\n\u001b[0m\u001b[0;32m      3\u001b[0m \u001b[0mrate\u001b[0m \u001b[1;33m=\u001b[0m \u001b[0msortcurrency\u001b[0m\u001b[1;33m[\u001b[0m\u001b[0msortcurrency\u001b[0m\u001b[1;33m.\u001b[0m\u001b[0mcurrency\u001b[0m \u001b[1;33m==\u001b[0m \u001b[0muniquecurrency\u001b[0m\u001b[1;33m[\u001b[0m\u001b[0mvalue\u001b[0m\u001b[1;33m]\u001b[0m\u001b[1;33m]\u001b[0m\u001b[1;33m.\u001b[0m\u001b[0mrate\u001b[0m\u001b[1;33m\u001b[0m\u001b[0m\n\u001b[0;32m      4\u001b[0m \u001b[0mlin_fit\u001b[0m \u001b[1;33m=\u001b[0m \u001b[0msm\u001b[0m\u001b[1;33m.\u001b[0m\u001b[0mOLS\u001b[0m\u001b[1;33m(\u001b[0m\u001b[0mrate\u001b[0m\u001b[1;33m,\u001b[0m\u001b[0mdate\u001b[0m\u001b[1;33m)\u001b[0m\u001b[1;33m\u001b[0m\u001b[0m\n\u001b[0;32m      5\u001b[0m \u001b[0mresult\u001b[0m \u001b[1;33m=\u001b[0m \u001b[0mlin_fit\u001b[0m\u001b[1;33m.\u001b[0m\u001b[0mfit\u001b[0m\u001b[1;33m(\u001b[0m\u001b[1;33m)\u001b[0m\u001b[1;33m\u001b[0m\u001b[0m\n",
        "\u001b[1;31mNameError\u001b[0m: name 'value' is not defined"
       ]
      }
     ],
     "prompt_number": 69
    },
    {
     "cell_type": "code",
     "collapsed": false,
     "input": [
      "pd.DataFrame(paramsdebtfree.transpose)"
     ],
     "language": "python",
     "metadata": {},
     "outputs": [
      {
       "ename": "PandasError",
       "evalue": "DataFrame constructor not properly called!",
       "output_type": "pyerr",
       "traceback": [
        "\u001b[1;31m---------------------------------------------------------------------------\u001b[0m\n\u001b[1;31mPandasError\u001b[0m                               Traceback (most recent call last)",
        "\u001b[1;32m<ipython-input-70-beb3b985afec>\u001b[0m in \u001b[0;36m<module>\u001b[1;34m()\u001b[0m\n\u001b[1;32m----> 1\u001b[1;33m \u001b[0mpd\u001b[0m\u001b[1;33m.\u001b[0m\u001b[0mDataFrame\u001b[0m\u001b[1;33m(\u001b[0m\u001b[0mparamsdebtfree\u001b[0m\u001b[1;33m.\u001b[0m\u001b[0mtranspose\u001b[0m\u001b[1;33m)\u001b[0m\u001b[1;33m\u001b[0m\u001b[0m\n\u001b[0m",
        "\u001b[1;32m/usr/lib/python2.7/dist-packages/pandas/core/frame.pyc\u001b[0m in \u001b[0;36m__init__\u001b[1;34m(self, data, index, columns, dtype, copy)\u001b[0m\n\u001b[0;32m    271\u001b[0m                                          copy=False)\n\u001b[0;32m    272\u001b[0m             \u001b[1;32melse\u001b[0m\u001b[1;33m:\u001b[0m\u001b[1;33m\u001b[0m\u001b[0m\n\u001b[1;32m--> 273\u001b[1;33m                 \u001b[1;32mraise\u001b[0m \u001b[0mPandasError\u001b[0m\u001b[1;33m(\u001b[0m\u001b[1;34m'DataFrame constructor not properly called!'\u001b[0m\u001b[1;33m)\u001b[0m\u001b[1;33m\u001b[0m\u001b[0m\n\u001b[0m\u001b[0;32m    274\u001b[0m \u001b[1;33m\u001b[0m\u001b[0m\n\u001b[0;32m    275\u001b[0m         \u001b[0mNDFrame\u001b[0m\u001b[1;33m.\u001b[0m\u001b[0m__init__\u001b[0m\u001b[1;33m(\u001b[0m\u001b[0mself\u001b[0m\u001b[1;33m,\u001b[0m \u001b[0mmgr\u001b[0m\u001b[1;33m,\u001b[0m \u001b[0mfastpath\u001b[0m\u001b[1;33m=\u001b[0m\u001b[0mTrue\u001b[0m\u001b[1;33m)\u001b[0m\u001b[1;33m\u001b[0m\u001b[0m\n",
        "\u001b[1;31mPandasError\u001b[0m: DataFrame constructor not properly called!"
       ]
      }
     ],
     "prompt_number": 70
    },
    {
     "cell_type": "code",
     "collapsed": false,
     "input": [],
     "language": "python",
     "metadata": {},
     "outputs": []
    }
   ],
   "metadata": {}
  }
 ]
}