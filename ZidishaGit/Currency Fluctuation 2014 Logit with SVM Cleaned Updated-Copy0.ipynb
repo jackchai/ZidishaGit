{
 "metadata": {
  "name": "",
  "signature": "sha256:c2b2d09f0f0847250c31732452956882b98423a7c38c38e09062b977b6343f9c"
 },
 "nbformat": 3,
 "nbformat_minor": 0,
 "worksheets": [
  {
   "cells": [
    {
     "cell_type": "code",
     "collapsed": false,
     "input": [
      "import pandas as pd\n",
      "import pandas.io.sql as psql\n",
      "import matplotlib.pyplot as plt\n",
      "import matplotlib.dates as mdates\n",
      "from datetime import datetime\n",
      "import MySQLdb as mdb \n",
      "import numpy as np\n",
      "import time\n",
      "import statsmodels.api as sm\n",
      "from patsy import dmatrices\n",
      "from sklearn import svm\n",
      "from sklearn.externals import joblib\n",
      "import pickle as pickle"
     ],
     "language": "python",
     "metadata": {},
     "outputs": [],
     "prompt_number": 132
    },
    {
     "cell_type": "code",
     "collapsed": false,
     "input": [
      "#excratedf = pd.read_csv('excrate.csv')\n",
      "#borrowersdf = pd.read_csv('borrowers.csv')\n",
      "#groupexcratedf = excratedf.groupby('currency')\n",
      "#excratedf['currency'].unique()\n",
      "#rsh = pd.read_csv('repaymentschedule.csv')\n",
      "##rsa = pd.read_csv('repaymentschedule_actual.csv')\n",
      "##rsh = pd.read_csv('repaymentschedule_history.csv')\n",
      "#loanapplic = pd.read_csv('loanapplic.csv')\n",
      "#borrowers = pd.read_csv('borrowers.csv')\n",
      "#transactions = pd.read_csv('transactions.csv')"
     ],
     "language": "python",
     "metadata": {},
     "outputs": [],
     "prompt_number": 133
    },
    {
     "cell_type": "code",
     "collapsed": false,
     "input": [
      "con = mdb.connect(host = 'localhost', user = 'root', passwd = 'pptz/90275', db = 'zidisha')"
     ],
     "language": "python",
     "metadata": {},
     "outputs": [],
     "prompt_number": 134
    },
    {
     "cell_type": "code",
     "collapsed": false,
     "input": [
      "with con:\n",
      "    cur = con.cursor()\n",
      "    sql = \"SELECT * FROM excrate\"\n",
      "    excratedf = psql.frame_query(sql, con, coerce_float = True)\n",
      "\n",
      "    sql = \"SELECT * FROM borrowers\"\n",
      "    borrowers = psql.frame_query(sql, con, coerce_float = True)\n",
      "    \n",
      "    sql = \"SELECT * FROM repaymentschedule\"\n",
      "    rsh = psql.frame_query(sql, con, coerce_float = True)\n",
      "    \n",
      "    sql = \"SELECT * FROM loanapplic\"\n",
      "    loanapplic = psql.frame_query(sql, con, coerce_float = True)"
     ],
     "language": "python",
     "metadata": {},
     "outputs": [],
     "prompt_number": 135
    },
    {
     "cell_type": "code",
     "collapsed": false,
     "input": [
      "rshamount = rsh.amount\n",
      "rshamount[np.isnan(rshamount)] = 0"
     ],
     "language": "python",
     "metadata": {},
     "outputs": [],
     "prompt_number": 136
    },
    {
     "cell_type": "code",
     "collapsed": false,
     "input": [
      "rshpaidamt = rsh.paidamt\n",
      "rshpaidamt[np.isnan(rshpaidamt)] = 0\n"
     ],
     "language": "python",
     "metadata": {},
     "outputs": [],
     "prompt_number": 137
    },
    {
     "cell_type": "code",
     "collapsed": false,
     "input": [
      "rsh['netloss'] = pd.Series(rshpaidamt - rshamount, index=rsh.index)"
     ],
     "language": "python",
     "metadata": {},
     "outputs": [],
     "prompt_number": 138
    },
    {
     "cell_type": "code",
     "collapsed": false,
     "input": [
      "currdate = datetime.now()\n",
      "twomonthtime = time.mktime(currdate.timetuple()) - 60*24*3600\n"
     ],
     "language": "python",
     "metadata": {},
     "outputs": [],
     "prompt_number": 139
    },
    {
     "cell_type": "code",
     "collapsed": false,
     "input": [
      "rshtrunc = rsh[rsh.duedate.apply(float)<twomonthtime]"
     ],
     "language": "python",
     "metadata": {},
     "outputs": [],
     "prompt_number": 140
    },
    {
     "cell_type": "code",
     "collapsed": false,
     "input": [
      "rshgroup = rsh.groupby('loanid')\n",
      "rshtruncgroup = rshtrunc.groupby('loanid')"
     ],
     "language": "python",
     "metadata": {},
     "outputs": [],
     "prompt_number": 141
    },
    {
     "cell_type": "code",
     "collapsed": false,
     "input": [
      "lossamt = rshtruncgroup['netloss'].apply(sum)\n",
      "lossamt = lossamt.reset_index()\n",
      "lossamt = lossamt.rename(columns = {0:'lossamt'})"
     ],
     "language": "python",
     "metadata": {},
     "outputs": [],
     "prompt_number": 142
    },
    {
     "cell_type": "code",
     "collapsed": false,
     "input": [
      "expectedamt = rshtruncgroup['amount'].apply(sum)\n",
      "expectedamt = expectedamt.reset_index()\n",
      "expectedamt = expectedamt.rename(columns = {0:'expectedamt'})\n"
     ],
     "language": "python",
     "metadata": {},
     "outputs": [],
     "prompt_number": 143
    },
    {
     "cell_type": "code",
     "collapsed": false,
     "input": [
      "paidamt = rshtruncgroup['paidamt'].apply(sum)\n",
      "paidamt = paidamt.reset_index()\n",
      "paidamt = paidamt.rename(columns = {0:'paidamt'})"
     ],
     "language": "python",
     "metadata": {},
     "outputs": [],
     "prompt_number": 144
    },
    {
     "cell_type": "code",
     "collapsed": false,
     "input": [
      "fractionlost = (lossamt.lossamt)/np.abs(expectedamt.expectedamt)\n"
     ],
     "language": "python",
     "metadata": {},
     "outputs": [],
     "prompt_number": 145
    },
    {
     "cell_type": "code",
     "collapsed": false,
     "input": [
      "compinfo = expectedamt\n",
      "compinfo['lossamt'] = lossamt.lossamt\n",
      "compinfo['fractionlost'] = -fractionlost\n",
      "compinfo['paidamt'] = paidamt.paidamt\n",
      "compinfo = compinfo[compinfo.expectedamt != 0]\n"
     ],
     "language": "python",
     "metadata": {},
     "outputs": [],
     "prompt_number": 146
    },
    {
     "cell_type": "code",
     "collapsed": false,
     "input": [
      "compinfo2 = pd.merge(compinfo,loanapplic,on = 'loanid')\n",
      "compinfo2 = pd.merge(compinfo2, borrowers, left_on = 'borrowerid', right_on = 'userid')\n"
     ],
     "language": "python",
     "metadata": {},
     "outputs": [],
     "prompt_number": 147
    },
    {
     "cell_type": "code",
     "collapsed": false,
     "input": [
      "groupexcratedf = excratedf.groupby('currency')\n",
      "groupexcratedf = groupexcratedf['rate'].apply(np.mean)\n",
      "groupexcratedf = groupexcratedf.reset_index()\n",
      "groupexcratedf = groupexcratedf.rename(columns={0: 'rate'})\n"
     ],
     "language": "python",
     "metadata": {},
     "outputs": [],
     "prompt_number": 148
    },
    {
     "cell_type": "code",
     "collapsed": false,
     "input": [
      "compinfo2 = pd.merge(compinfo2, groupexcratedf, how = \"left\")"
     ],
     "language": "python",
     "metadata": {},
     "outputs": [],
     "prompt_number": 149
    },
    {
     "cell_type": "code",
     "collapsed": false,
     "input": [
      "trueexpected = compinfo2.expectedamt/compinfo2.rate"
     ],
     "language": "python",
     "metadata": {},
     "outputs": [],
     "prompt_number": 150
    },
    {
     "cell_type": "code",
     "collapsed": false,
     "input": [
      "truelossamt = compinfo2.lossamt/compinfo2.rate"
     ],
     "language": "python",
     "metadata": {},
     "outputs": [],
     "prompt_number": 151
    },
    {
     "cell_type": "code",
     "collapsed": false,
     "input": [
      "truepaidamt = compinfo2.paidamt/compinfo2.rate"
     ],
     "language": "python",
     "metadata": {},
     "outputs": [],
     "prompt_number": 152
    },
    {
     "cell_type": "code",
     "collapsed": false,
     "input": [
      "compinfo2['trueexpected'] = trueexpected"
     ],
     "language": "python",
     "metadata": {},
     "outputs": [],
     "prompt_number": 153
    },
    {
     "cell_type": "code",
     "collapsed": false,
     "input": [
      "compinfo2['truelossamt'] = truelossamt"
     ],
     "language": "python",
     "metadata": {},
     "outputs": [],
     "prompt_number": 154
    },
    {
     "cell_type": "code",
     "collapsed": false,
     "input": [
      "compinfo2['truepaidamt'] = truepaidamt\n",
      "compinfo2['binaryfraction'] = compinfo2.fractionlost.apply(np.ceil)"
     ],
     "language": "python",
     "metadata": {},
     "outputs": [],
     "prompt_number": 155
    },
    {
     "cell_type": "code",
     "collapsed": false,
     "input": [
      "currdate = datetime(2014,1,1)\n",
      "oneyeartime = time.mktime(currdate.timetuple())"
     ],
     "language": "python",
     "metadata": {},
     "outputs": [],
     "prompt_number": 156
    },
    {
     "cell_type": "code",
     "collapsed": false,
     "input": [
      "lastyear = compinfo2[compinfo2.AcceptDate > oneyeartime]\n",
      "lastyear = lastyear.sort('fractionlost')"
     ],
     "language": "python",
     "metadata": {},
     "outputs": [],
     "prompt_number": 157
    },
    {
     "cell_type": "code",
     "collapsed": false,
     "input": [
      "lastyearnotfraud = lastyear[lastyear.fractionlost < 1]"
     ],
     "language": "python",
     "metadata": {},
     "outputs": [],
     "prompt_number": 158
    },
    {
     "cell_type": "code",
     "collapsed": false,
     "input": [
      "#df = lastyear\n",
      "#df['capitalinvested'] = 0\n",
      "#df1 = df[df.expectedamt > df.amount]\n",
      "#df1.capitalinvested = 1\n",
      "#newdf = pd.merge(df,df1,on = 'loanid', how = 'left')"
     ],
     "language": "python",
     "metadata": {},
     "outputs": [],
     "prompt_number": 159
    },
    {
     "cell_type": "code",
     "collapsed": false,
     "input": [
      "#lastyear2 = lastyear[lastyear.fractionlost > 0.05]\n",
      "#lastyear2 = lastyear2[lastyear2.fractionlost < 0.95]"
     ],
     "language": "python",
     "metadata": {},
     "outputs": [],
     "prompt_number": 160
    },
    {
     "cell_type": "code",
     "collapsed": false,
     "input": [
      "cols_to_keep = ['loan_category_id','currency','interest']\n",
      "data = lastyearnotfraud[cols_to_keep]\n",
      "data['intercept'] = 1\n",
      "#y, X = dmatrices('fractionlost ~ interest + trueexpected + sift_score + Country + period + loan_category_id + AnnualIncome',lastyear, return_type = 'dataframe')\n",
      "#y, X = dmatrices('fractionlost ~ interest',lastyeargrouped, retuyrn_type = 'dataframe')"
     ],
     "language": "python",
     "metadata": {},
     "outputs": [],
     "prompt_number": 161
    },
    {
     "cell_type": "code",
     "collapsed": false,
     "input": [
      "#Note don't run this similarly with above\n",
      "cols_to_keep = ['loan_category_id','currency','interest','fractionlost']\n",
      "lastyeardebt = lastyearnotfraud[lastyearnotfraud.isdebtfree == 1]\n",
      "lastyeardebtfree = lastyearnotfraud[lastyearnotfraud.isdebtfree == 0]\n",
      "lastyearnotreport = lastyearnotfraud[(lastyearnotfraud.isdebtfree != 1) & (lastyear.isdebtfree !=0)]\n",
      "datadebt = lastyeardebt[cols_to_keep]\n",
      "datadebtfree = lastyeardebtfree[cols_to_keep]\n",
      "datanotreport = lastyearnotreport[cols_to_keep]\n",
      "datadebt = datadebt.dropna()\n",
      "datanotreport = datanotreport.dropna()\n",
      "datadebtfree = datadebtfree.dropna()\n",
      "ydebt = datadebt.fractionlost\n",
      "ydebtfree = datadebtfree.fractionlost\n",
      "ynotreport = datanotreport.fractionlost\n",
      "\n",
      "datadebt = datadebt.drop('fractionlost',axis = 1)\n",
      "datadebtfree = datadebtfree.drop('fractionlost',axis = 1)\n",
      "datanotreport = datanotreport.drop('fractionlost', axis = 1)\n",
      "\n",
      "datadebt['intercept'] = 1\n",
      "datadebtfree['intercept'] = 1\n",
      "datanotreport['intercept']  = 1\n",
      "#y, X = dmatrices('fractionlost ~ interest + trueexpected + sift_score + Country + period + loan_category_id + AnnualIncome',lastyear, return_type = 'dataframe')\n",
      "#y, X = dmatrices('fractionlost ~ interest',lastyeargrouped, retuyrn_type = 'dataframe')"
     ],
     "language": "python",
     "metadata": {},
     "outputs": [],
     "prompt_number": 162
    },
    {
     "cell_type": "code",
     "collapsed": false,
     "input": [
      "debtnotfreedf = lastyear[lastyear.isdebtfree == 1]\n",
      "debtfreedf = lastyear[lastyear.isdebtfree == 0]\n",
      "pdebt = float(len(debtnotfreedf))/(float(len(debtfreedf))+float(len(debtnotfreedf)))\n",
      "pdebt"
     ],
     "language": "python",
     "metadata": {},
     "outputs": [
      {
       "metadata": {},
       "output_type": "pyout",
       "prompt_number": 163,
       "text": [
        "0.6505073280721533"
       ]
      }
     ],
     "prompt_number": 163
    },
    {
     "cell_type": "code",
     "collapsed": false,
     "input": [
      "svmiterdf = currentdf[['loanid','finalrate','interest','fractionlost']]"
     ],
     "language": "python",
     "metadata": {},
     "outputs": [],
     "prompt_number": 228
    },
    {
     "cell_type": "code",
     "collapsed": false,
     "input": [
      "currentdf = lastyearnotfraud\n",
      "lci = currentdf.loan_category_id\n",
      "lci[isnan(lci)] = pdebt\n",
      "currentdf = currentdf.drop('loan_category_id', axis = 1)\n",
      "currentdf['loan_category_id'] = lci\n",
      "Xsvm = currentdf[['interest','trueexpected','currency','loan_category_id']]\n",
      "ysvm = currentdf['fractionlost']\n",
      "ysvm = np.ravel(ysvm)\n",
      "for i in range(0,100):\n",
      "    lin_clf = svm.LinearSVC()\n",
      "    lin_clf.fit(Xsvm, ysvm)\n",
      "    predict = lin_clf.predict(Xsvm)\n",
      "    svmiterdf['predict'] = predict\n",
      "    groupsvmiterdf = svmiterdf.sort('predict')\n",
      "    groupsvmiterdf = svmiterdf.groupby('predict')\n",
      "    meansvmiterdf = groupsvmiterdf['fractionlost'].apply(np.mean)\n",
      "    meansvmiterdf = meansvmiterdf.reset_index()\n",
      "    newname = 'fraclost'+str(i)\n",
      "    meansvmiterdf = meansvmiterdf.rename(columns = {0:newname})\n",
      "    svmiterdf = pd.merge(svmiterdf, meansvmiterdf, on = 'predict', how = 'left')\n",
      "    #predicted = 1/(1+np.exp(-(-4.4342+2.9260*sift_score)))\n",
      "    predictedint = 1/(1-svmiterdf[newname]) - 1\n",
      "    svmiterdf['predictedint'+str(i)] = predictedint\n",
      "    print(i)\n",
      "    "
     ],
     "language": "python",
     "metadata": {},
     "outputs": [
      {
       "output_type": "stream",
       "stream": "stdout",
       "text": [
        "0\n",
        "1"
       ]
      },
      {
       "output_type": "stream",
       "stream": "stdout",
       "text": [
        "\n",
        "2"
       ]
      },
      {
       "output_type": "stream",
       "stream": "stdout",
       "text": [
        "\n",
        "3"
       ]
      },
      {
       "output_type": "stream",
       "stream": "stdout",
       "text": [
        "\n",
        "4"
       ]
      },
      {
       "output_type": "stream",
       "stream": "stdout",
       "text": [
        "\n",
        "5"
       ]
      },
      {
       "output_type": "stream",
       "stream": "stdout",
       "text": [
        "\n",
        "6"
       ]
      },
      {
       "output_type": "stream",
       "stream": "stdout",
       "text": [
        "\n",
        "7"
       ]
      },
      {
       "output_type": "stream",
       "stream": "stdout",
       "text": [
        "\n",
        "8"
       ]
      },
      {
       "output_type": "stream",
       "stream": "stdout",
       "text": [
        "\n",
        "9"
       ]
      },
      {
       "output_type": "stream",
       "stream": "stdout",
       "text": [
        "\n",
        "10"
       ]
      },
      {
       "output_type": "stream",
       "stream": "stdout",
       "text": [
        "\n",
        "11"
       ]
      },
      {
       "output_type": "stream",
       "stream": "stdout",
       "text": [
        "\n",
        "12"
       ]
      },
      {
       "output_type": "stream",
       "stream": "stdout",
       "text": [
        "\n",
        "13"
       ]
      },
      {
       "output_type": "stream",
       "stream": "stdout",
       "text": [
        "\n",
        "14"
       ]
      },
      {
       "output_type": "stream",
       "stream": "stdout",
       "text": [
        "\n",
        "15"
       ]
      },
      {
       "output_type": "stream",
       "stream": "stdout",
       "text": [
        "\n",
        "16"
       ]
      },
      {
       "output_type": "stream",
       "stream": "stdout",
       "text": [
        "\n",
        "17"
       ]
      },
      {
       "output_type": "stream",
       "stream": "stdout",
       "text": [
        "\n",
        "18"
       ]
      },
      {
       "output_type": "stream",
       "stream": "stdout",
       "text": [
        "\n",
        "19"
       ]
      },
      {
       "output_type": "stream",
       "stream": "stdout",
       "text": [
        "\n",
        "20"
       ]
      },
      {
       "output_type": "stream",
       "stream": "stdout",
       "text": [
        "\n",
        "21"
       ]
      },
      {
       "output_type": "stream",
       "stream": "stdout",
       "text": [
        "\n",
        "22"
       ]
      },
      {
       "output_type": "stream",
       "stream": "stdout",
       "text": [
        "\n",
        "23"
       ]
      },
      {
       "output_type": "stream",
       "stream": "stdout",
       "text": [
        "\n",
        "24"
       ]
      },
      {
       "output_type": "stream",
       "stream": "stdout",
       "text": [
        "\n",
        "25"
       ]
      },
      {
       "output_type": "stream",
       "stream": "stdout",
       "text": [
        "\n",
        "26"
       ]
      },
      {
       "output_type": "stream",
       "stream": "stdout",
       "text": [
        "\n",
        "27"
       ]
      },
      {
       "output_type": "stream",
       "stream": "stdout",
       "text": [
        "\n",
        "28"
       ]
      },
      {
       "output_type": "stream",
       "stream": "stdout",
       "text": [
        "\n",
        "29"
       ]
      },
      {
       "output_type": "stream",
       "stream": "stdout",
       "text": [
        "\n",
        "30"
       ]
      },
      {
       "output_type": "stream",
       "stream": "stdout",
       "text": [
        "\n",
        "31"
       ]
      },
      {
       "output_type": "stream",
       "stream": "stdout",
       "text": [
        "\n",
        "32"
       ]
      },
      {
       "output_type": "stream",
       "stream": "stdout",
       "text": [
        "\n",
        "33"
       ]
      },
      {
       "output_type": "stream",
       "stream": "stdout",
       "text": [
        "\n",
        "34"
       ]
      },
      {
       "output_type": "stream",
       "stream": "stdout",
       "text": [
        "\n",
        "35"
       ]
      },
      {
       "output_type": "stream",
       "stream": "stdout",
       "text": [
        "\n",
        "36"
       ]
      },
      {
       "output_type": "stream",
       "stream": "stdout",
       "text": [
        "\n",
        "37"
       ]
      },
      {
       "output_type": "stream",
       "stream": "stdout",
       "text": [
        "\n",
        "38"
       ]
      },
      {
       "output_type": "stream",
       "stream": "stdout",
       "text": [
        "\n",
        "39"
       ]
      },
      {
       "output_type": "stream",
       "stream": "stdout",
       "text": [
        "\n",
        "40"
       ]
      },
      {
       "output_type": "stream",
       "stream": "stdout",
       "text": [
        "\n",
        "41"
       ]
      },
      {
       "output_type": "stream",
       "stream": "stdout",
       "text": [
        "\n",
        "42"
       ]
      },
      {
       "output_type": "stream",
       "stream": "stdout",
       "text": [
        "\n",
        "43"
       ]
      },
      {
       "output_type": "stream",
       "stream": "stdout",
       "text": [
        "\n",
        "44"
       ]
      },
      {
       "output_type": "stream",
       "stream": "stdout",
       "text": [
        "\n",
        "45"
       ]
      },
      {
       "output_type": "stream",
       "stream": "stdout",
       "text": [
        "\n",
        "46"
       ]
      },
      {
       "output_type": "stream",
       "stream": "stdout",
       "text": [
        "\n",
        "47"
       ]
      },
      {
       "output_type": "stream",
       "stream": "stdout",
       "text": [
        "\n",
        "48"
       ]
      },
      {
       "output_type": "stream",
       "stream": "stdout",
       "text": [
        "\n",
        "49"
       ]
      },
      {
       "output_type": "stream",
       "stream": "stdout",
       "text": [
        "\n",
        "50"
       ]
      },
      {
       "output_type": "stream",
       "stream": "stdout",
       "text": [
        "\n",
        "51"
       ]
      },
      {
       "output_type": "stream",
       "stream": "stdout",
       "text": [
        "\n",
        "52"
       ]
      },
      {
       "output_type": "stream",
       "stream": "stdout",
       "text": [
        "\n",
        "53"
       ]
      },
      {
       "output_type": "stream",
       "stream": "stdout",
       "text": [
        "\n",
        "54"
       ]
      },
      {
       "output_type": "stream",
       "stream": "stdout",
       "text": [
        "\n",
        "55"
       ]
      },
      {
       "output_type": "stream",
       "stream": "stdout",
       "text": [
        "\n",
        "56"
       ]
      },
      {
       "output_type": "stream",
       "stream": "stdout",
       "text": [
        "\n",
        "57"
       ]
      },
      {
       "output_type": "stream",
       "stream": "stdout",
       "text": [
        "\n",
        "58"
       ]
      },
      {
       "output_type": "stream",
       "stream": "stdout",
       "text": [
        "\n",
        "59"
       ]
      },
      {
       "output_type": "stream",
       "stream": "stdout",
       "text": [
        "\n",
        "60"
       ]
      },
      {
       "output_type": "stream",
       "stream": "stdout",
       "text": [
        "\n",
        "61"
       ]
      },
      {
       "output_type": "stream",
       "stream": "stdout",
       "text": [
        "\n",
        "62"
       ]
      },
      {
       "output_type": "stream",
       "stream": "stdout",
       "text": [
        "\n",
        "63"
       ]
      },
      {
       "output_type": "stream",
       "stream": "stdout",
       "text": [
        "\n",
        "64"
       ]
      },
      {
       "output_type": "stream",
       "stream": "stdout",
       "text": [
        "\n",
        "65"
       ]
      },
      {
       "output_type": "stream",
       "stream": "stdout",
       "text": [
        "\n",
        "66"
       ]
      },
      {
       "output_type": "stream",
       "stream": "stdout",
       "text": [
        "\n",
        "67"
       ]
      },
      {
       "output_type": "stream",
       "stream": "stdout",
       "text": [
        "\n",
        "68"
       ]
      },
      {
       "output_type": "stream",
       "stream": "stdout",
       "text": [
        "\n",
        "69"
       ]
      },
      {
       "output_type": "stream",
       "stream": "stdout",
       "text": [
        "\n",
        "70"
       ]
      },
      {
       "output_type": "stream",
       "stream": "stdout",
       "text": [
        "\n",
        "71"
       ]
      },
      {
       "output_type": "stream",
       "stream": "stdout",
       "text": [
        "\n",
        "72"
       ]
      },
      {
       "output_type": "stream",
       "stream": "stdout",
       "text": [
        "\n",
        "73"
       ]
      },
      {
       "output_type": "stream",
       "stream": "stdout",
       "text": [
        "\n",
        "74"
       ]
      },
      {
       "output_type": "stream",
       "stream": "stdout",
       "text": [
        "\n",
        "75"
       ]
      },
      {
       "output_type": "stream",
       "stream": "stdout",
       "text": [
        "\n",
        "76"
       ]
      },
      {
       "output_type": "stream",
       "stream": "stdout",
       "text": [
        "\n",
        "77"
       ]
      },
      {
       "output_type": "stream",
       "stream": "stdout",
       "text": [
        "\n",
        "78"
       ]
      },
      {
       "output_type": "stream",
       "stream": "stdout",
       "text": [
        "\n",
        "79"
       ]
      },
      {
       "output_type": "stream",
       "stream": "stdout",
       "text": [
        "\n",
        "80"
       ]
      },
      {
       "output_type": "stream",
       "stream": "stdout",
       "text": [
        "\n",
        "81"
       ]
      },
      {
       "output_type": "stream",
       "stream": "stdout",
       "text": [
        "\n",
        "82"
       ]
      },
      {
       "output_type": "stream",
       "stream": "stdout",
       "text": [
        "\n",
        "83"
       ]
      },
      {
       "output_type": "stream",
       "stream": "stdout",
       "text": [
        "\n",
        "84"
       ]
      },
      {
       "output_type": "stream",
       "stream": "stdout",
       "text": [
        "\n",
        "85"
       ]
      },
      {
       "output_type": "stream",
       "stream": "stdout",
       "text": [
        "\n",
        "86"
       ]
      },
      {
       "output_type": "stream",
       "stream": "stdout",
       "text": [
        "\n",
        "87"
       ]
      },
      {
       "output_type": "stream",
       "stream": "stdout",
       "text": [
        "\n",
        "88"
       ]
      },
      {
       "output_type": "stream",
       "stream": "stdout",
       "text": [
        "\n",
        "89"
       ]
      },
      {
       "output_type": "stream",
       "stream": "stdout",
       "text": [
        "\n",
        "90"
       ]
      },
      {
       "output_type": "stream",
       "stream": "stdout",
       "text": [
        "\n",
        "91"
       ]
      },
      {
       "output_type": "stream",
       "stream": "stdout",
       "text": [
        "\n",
        "92"
       ]
      },
      {
       "output_type": "stream",
       "stream": "stdout",
       "text": [
        "\n",
        "93"
       ]
      },
      {
       "output_type": "stream",
       "stream": "stdout",
       "text": [
        "\n",
        "94"
       ]
      },
      {
       "output_type": "stream",
       "stream": "stdout",
       "text": [
        "\n",
        "95"
       ]
      },
      {
       "output_type": "stream",
       "stream": "stdout",
       "text": [
        "\n",
        "96"
       ]
      },
      {
       "output_type": "stream",
       "stream": "stdout",
       "text": [
        "\n",
        "97"
       ]
      },
      {
       "output_type": "stream",
       "stream": "stdout",
       "text": [
        "\n",
        "98"
       ]
      },
      {
       "output_type": "stream",
       "stream": "stdout",
       "text": [
        "\n",
        "99"
       ]
      },
      {
       "output_type": "stream",
       "stream": "stdout",
       "text": [
        "\n"
       ]
      }
     ],
     "prompt_number": 229
    },
    {
     "cell_type": "code",
     "collapsed": false,
     "input": [
      "predict = lin_clf.predict(Xsvm)\n",
      "len(predict)"
     ],
     "language": "python",
     "metadata": {},
     "outputs": [
      {
       "metadata": {},
       "output_type": "pyout",
       "prompt_number": 188,
       "text": [
        "2474"
       ]
      }
     ],
     "prompt_number": 188
    },
    {
     "cell_type": "code",
     "collapsed": false,
     "input": [
      "currentdf = lastyearnotfraud\n",
      "lci = currentdf.loan_category_id\n",
      "lci[isnan(lci)] = pdebt\n",
      "currentdf = currentdf.drop('loan_category_id', axis = 1)\n",
      "currentdf['loan_category_id'] = lci\n",
      "Xsvm = currentdf[['interest','trueexpected','currency','loan_category_id']]\n",
      "ysvm = currentdf['fractionlost']\n",
      "#ysvm, Xsvm = dmatrices('fractionlost ~ interest + trueexpected + currency + loan_category_id',lastyearnotfraud, return_type = 'dataframe')\n",
      "#y, X = dmatrices('fractionlost ~ interest',lastyearnotfraud, retuyrn_type = 'dataframe')"
     ],
     "language": "python",
     "metadata": {},
     "outputs": [],
     "prompt_number": 230
    },
    {
     "cell_type": "code",
     "collapsed": false,
     "input": [
      "# Testing out SVM because data sets seem to be very differentiated\n",
      "#print(data.sift_score)\n",
      "ysvm = np.ravel(ysvm)\n",
      "lin_clf = svm.LinearSVC()\n",
      "lin_clf.fit(Xsvm, ysvm)"
     ],
     "language": "python",
     "metadata": {},
     "outputs": [
      {
       "metadata": {},
       "output_type": "pyout",
       "prompt_number": 231,
       "text": [
        "LinearSVC(C=1.0, class_weight=None, dual=True, fit_intercept=True,\n",
        "     intercept_scaling=1, loss='l2', multi_class='ovr', penalty='l2',\n",
        "     random_state=None, tol=0.0001, verbose=0)"
       ]
      }
     ],
     "prompt_number": 231
    },
    {
     "cell_type": "code",
     "collapsed": false,
     "input": [
      "#joblib.dump(lin_clf,'linearfit1.pkl')\n",
      "#lin_clf = joblib.load('linearfit.pkl')"
     ],
     "language": "python",
     "metadata": {},
     "outputs": [],
     "prompt_number": 166
    },
    {
     "cell_type": "code",
     "collapsed": false,
     "input": [
      "svmdf= Xsvm\n",
      "predict = lin_clf.predict(Xsvm)\n",
      "svmdf['fraclost']  = ysvm\n",
      "svmdf['predict'] = predict\n",
      "plt.scatter(predict, ysvm)\n",
      "#plt.xlim(min(predict),max(predict))\n",
      "#predictedint = 1/(1-predictfracloss) - 1\n",
      "#np.mean(predictedint)\n",
      "\n",
      "#predictresults = pd.DataFrame(predict)\n",
      "#predictresults['fraclost'] = ysvm\n"
     ],
     "language": "python",
     "metadata": {},
     "outputs": [
      {
       "metadata": {},
       "output_type": "pyout",
       "prompt_number": 232,
       "text": [
        "<matplotlib.collections.PathCollection at 0x7f3d0adac3d0>"
       ]
      },
      {
       "metadata": {},
       "output_type": "display_data",
       "png": "[encoded data removed]",
       "text": [
        "<matplotlib.figure.Figure at 0x7f3d10363e10>"
       ]
      }
     ],
     "prompt_number": 232
    },
    {
     "cell_type": "code",
     "collapsed": false,
     "input": [
      "dftosql['roundpredictedint'] = np.round(dftosql.predictedint*100)\n",
      "dftosql['roundpredictedintsvm'] = np.round(dftosql.predictedintsvm*100)\n",
      "plt.scatter(np.linspace(1, len(dftosql), len(dftosql)), dftosql.roundpredictedintsvm)\n",
      "plt.figure()\n",
      "plt.scatter(np.linspace(1, len(dftosql), len(dftosql)) ,dftosql.roundpredictedint)\n",
      "print(np.mean(dftosql.roundpredictedintsvm))\n",
      "print(np.mean(dftosql.roundpredictedint))"
     ],
     "language": "python",
     "metadata": {},
     "outputs": [
      {
       "output_type": "stream",
       "stream": "stdout",
       "text": [
        "7.76596604689\n",
        "7.61641067098\n"
       ]
      },
      {
       "metadata": {},
       "output_type": "display_data",
       "png": "[encoded data removed]",
       "text": [
        "<matplotlib.figure.Figure at 0x7f3d0abb9fd0>"
       ]
      },
      {
       "metadata": {},
       "output_type": "display_data",
       "png": "[encoded data removed]",
       "text": [
        "<matplotlib.figure.Figure at 0x7f3d10994450>"
       ]
      }
     ],
     "prompt_number": 233
    },
    {
     "cell_type": "code",
     "collapsed": false,
     "input": [
      "groupsvmdf = svmdf.sort('predict')\n",
      "groupsvmdf = svmdf.groupby('predict')\n",
      "meansvmdf = groupsvmdf['fraclost'].apply(np.mean)\n",
      "meansvmdf = meansvmdf.reset_index()\n",
      "meansvmdf = meansvmdf.rename(columns = {0:'fraclost'})\n"
     ],
     "language": "python",
     "metadata": {},
     "outputs": [],
     "prompt_number": 117
    },
    {
     "cell_type": "code",
     "collapsed": false,
     "input": [
      "currentdf['predict'] = predict\n",
      "predictdf = pd.merge(currentdf, meansvmdf, on = 'predict')\n",
      "#predicted = 1/(1+np.exp(-(-4.4342+2.9260*sift_score)))\n",
      "predictedint = 1/(1-predictdf.fraclost) - 1\n",
      "#plt.scatter(predicted,lastyearnotreport.fractionlost)\n",
      "#predictedint[predictedint > 0.15] =0.15\n",
      "#predictedint = 0.15\n",
      "predictedincome = (predictdf.truepaidamt)*(1+predictedint)/(1+predictdf.finalrate/100)\n",
      "newloss = predictedincome - predictdf.trueexpected\n",
      "print(np.sum(predictdf.trueexpected))\n",
      "print(np.sum(predictedincome))\n",
      "print(np.sum(predictedincome) - np.sum(predictdf.trueexpected))\n",
      "print(np.sum(predictdf.truelossamt))\n",
      "print(np.mean(predictedint))\n",
      "print(np.mean(predictdf.finalrate))\n",
      "print(np.mean(predictdf.interest))\n",
      "predictdf['predictedintsvm'] = predictedint\n",
      "#plt.hist(predictdf.truelossamt, bins = 20)\n",
      "#plt.figure()\n",
      "#plt.hist(predictedincome - predictdf.trueexpected,color = 'red', bins = 20)\n",
      "#plt.figure()\n",
      "#plt.hist(predictedincome - predictdf.trueexpected - predictdf.truelossamt, bins = 20)\n",
      "#plt.show()\n",
      "print(np.sum(predictedincome - predictdf.trueexpected - predictdf.truelossamt))"
     ],
     "language": "python",
     "metadata": {},
     "outputs": [
      {
       "output_type": "stream",
       "stream": "stdout",
       "text": [
        "229490.39981\n",
        "214083.33146\n",
        "-15407.0683504\n",
        "-18163.1044377\n",
        "0.0749730517801\n",
        "6.03025343573\n",
        "15.5759902991\n",
        "2756.03608726\n"
       ]
      }
     ],
     "prompt_number": 120
    },
    {
     "cell_type": "code",
     "collapsed": false,
     "input": [
      "logitdebt = sm.Logit(ydebt, datadebt)\n",
      "resultdebt = logitdebt.fit()\n",
      "paramsdebt = resultdebt.params\n",
      "\n",
      "logitdebtfree = sm.Logit(ydebtfree,datadebtfree)\n",
      "resultdebtfree = logitdebtfree.fit()\n",
      "paramsdebtfree = resultdebtfree.params\n",
      "\n",
      "logitnotreport = sm.Logit(ynotreport, datanotreport)\n",
      "resultnotreport = logitnotreport.fit()\n",
      "paramsnotreport = resultnotreport.params\n",
      "#sift_score = pd.DataFrame(lastyear.sift_score)\n",
      "#sift_score['intercept'] = 1\n",
      "#logitsift = sm.Logit(lastyear.fractionlost, sift_score)\n",
      "#resultsift = logitsift.fit()\n",
      "#resultsift.summary()\n"
     ],
     "language": "python",
     "metadata": {},
     "outputs": [
      {
       "output_type": "stream",
       "stream": "stdout",
       "text": [
        "Optimization terminated successfully.\n",
        "         Current function value: 0.229091\n",
        "         Iterations 7\n",
        "Optimization terminated successfully.\n",
        "         Current function value: 0.157486\n",
        "         Iterations 7\n",
        "Optimization terminated successfully.\n",
        "         Current function value: 0.175614\n",
        "         Iterations 7\n"
       ]
      }
     ],
     "prompt_number": 121
    },
    {
     "cell_type": "code",
     "collapsed": false,
     "input": [
      "paramstocons = paramsnotreport\n",
      "dftocons = lastyearnotreport\n",
      "lcicoeff = paramstocons['loan_category_id']\n",
      "currcoeff = paramstocons['currency']\n",
      "intcoeff = paramstocons['interest']\n",
      "intercept = paramstocons['intercept']\n",
      "predicted = 1/(1+np.exp(-(intercept +currcoeff*dftocons.currency+lcicoeff*dftocons.loan_category_id+intcoeff*dftocons.interest)))\n",
      "#predicted = 1/(1+np.exp(-(-4.4342+2.9260*sift_score)))\n",
      "predictedint = 1/(1-predicted) - 1\n",
      "#plt.scatter(predicted,lastyearnotreport.fractionlost)\n",
      "#predictedint[predictedint > 0.15] =0.15\n",
      "#predictedint = 0.15\n",
      "predictedincome = (dftocons.truepaidamt)*(1+predictedint)/(1+dftocons.finalrate/100)\n",
      "newloss = predictedincome - dftocons.trueexpected\n",
      "print(np.sum(dftocons.trueexpected))\n",
      "print(np.sum(predictedincome))\n",
      "print(np.sum(predictedincome) - np.sum(dftocons.trueexpected))\n",
      "print(np.sum(dftocons.truelossamt))\n",
      "print(np.mean(predictedint))\n",
      "print(np.mean(dftocons.finalrate))\n",
      "print(np.mean(dftocons.interest))\n",
      "lynr = lastyearnotreport\n",
      "lynr['predictedint'] = predictedint"
     ],
     "language": "python",
     "metadata": {},
     "outputs": [
      {
       "output_type": "stream",
       "stream": "stdout",
       "text": [
        "126125.925573\n",
        "118442.234231\n",
        "-7683.69134143\n",
        "-8565.58915378\n",
        "0.0702057442825\n",
        "6.36667753846\n",
        "16.2775384615\n"
       ]
      }
     ],
     "prompt_number": 122
    },
    {
     "cell_type": "code",
     "collapsed": false,
     "input": [
      "paramstocons = paramsdebt\n",
      "dftocons = lastyeardebt\n",
      "lcicoeff = paramstocons['loan_category_id']\n",
      "currcoeff = paramstocons['currency']\n",
      "intcoeff = paramstocons['interest']\n",
      "intercept = paramstocons['intercept']\n",
      "predicted = 1/(1+np.exp(-(intercept +currcoeff*dftocons.currency+lcicoeff*dftocons.loan_category_id+intcoeff*dftocons.interest)))\n",
      "#predicted = 1/(1+np.exp(-(-4.4342+2.9260*sift_score)))\n",
      "predictedint = 1/(1-predicted) - 1\n",
      "#plt.scatter(predicted,lastyearnotreport.fractionlost)\n",
      "#predictedint[predictedint > 0.15] =0.15\n",
      "#predictedint = 0.15\n",
      "predictedincome = (dftocons.truepaidamt)*(1+predictedint)/(1+dftocons.finalrate/100)\n",
      "newloss = predictedincome - dftocons.trueexpected\n",
      "print(np.sum(dftocons.trueexpected))\n",
      "print(np.sum(predictedincome))\n",
      "print(np.sum(predictedincome) - np.sum(dftocons.trueexpected))\n",
      "print(np.sum(dftocons.truelossamt))\n",
      "print(np.mean(predictedint))\n",
      "print(np.mean(dftocons.finalrate))\n",
      "print(np.mean(dftocons.interest))\n",
      "lyd = lastyeardebt\n",
      "lyd['predictedint'] = predictedint"
     ],
     "language": "python",
     "metadata": {},
     "outputs": [
      {
       "output_type": "stream",
       "stream": "stdout",
       "text": [
        "69663.6449781\n",
        "66613.9984856\n",
        "-3049.64649244\n",
        "-6277.62159189\n",
        "0.103465221196\n",
        "5.08183695652\n",
        "13.2028985507\n"
       ]
      }
     ],
     "prompt_number": 123
    },
    {
     "cell_type": "code",
     "collapsed": false,
     "input": [
      "paramstocons = paramsdebtfree\n",
      "dftocons = lastyeardebtfree\n",
      "lcicoeff = paramstocons['loan_category_id']\n",
      "currcoeff = paramstocons['currency']\n",
      "intcoeff = paramstocons['interest']\n",
      "intercept = paramstocons['intercept']\n",
      "predicted = 1/(1+np.exp(-(intercept +currcoeff*dftocons.currency+lcicoeff*dftocons.loan_category_id+intcoeff*dftocons.interest)))\n",
      "#predicted = 1/(1+np.exp(-(-4.4342+2.9260*sift_score)))\n",
      "predictedint = 1/(1-predicted) - 1\n",
      "#plt.scatter(predicted,lastyearnotreport.fractionlost)\n",
      "#predictedint[predictedint > 0.15] =0.15\n",
      "#predictedint = 0.15\n",
      "predictedincome = (dftocons.truepaidamt)*(1+predictedint)/(1+dftocons.finalrate/100)\n",
      "newloss = predictedincome - dftocons.trueexpected\n",
      "print(np.sum(dftocons.trueexpected))\n",
      "print(np.sum(predictedincome))\n",
      "print(np.sum(predictedincome) - np.sum(dftocons.trueexpected))\n",
      "print(np.sum(dftocons.truelossamt))\n",
      "print(np.mean(predictedint))\n",
      "print(np.mean(dftocons.finalrate))\n",
      "print(np.mean(dftocons.interest))\n",
      "lydf = lastyeardebtfree\n",
      "lydf['predictedint'] = predictedint"
     ],
     "language": "python",
     "metadata": {},
     "outputs": [
      {
       "output_type": "stream",
       "stream": "stdout",
       "text": [
        "33700.8292596\n",
        "30456.5616968\n",
        "-3244.26756273\n",
        "-3319.89369198\n",
        "0.0634692723243\n",
        "5.95226262626\n",
        "16.1481481481\n"
       ]
      }
     ],
     "prompt_number": 124
    },
    {
     "cell_type": "code",
     "collapsed": false,
     "input": [
      "finaldf = pd.concat([lynr,lyd,lydf])\n",
      "predictdfuse = predictdf[['loanid','predictedintsvm']]\n",
      "finaldf = pd.merge(finaldf, predictdfuse,on = 'loanid')"
     ],
     "language": "python",
     "metadata": {},
     "outputs": [],
     "prompt_number": 125
    },
    {
     "cell_type": "code",
     "collapsed": false,
     "input": [
      "finaldfgroup = finaldf.groupby('interest')\n",
      "finalintsvm = finaldfgroup['predictedintsvm'].apply(np.mean)\n",
      "finalintsvm = finalintsvm.reset_index()\n",
      "finalint = finaldfgroup['predictedint'].apply(np.mean)\n",
      "finalint = finalint.reset_index()\n",
      "finalrate = finaldfgroup['finalrate'].apply(np.mean)\n",
      "finalrate = finalrate.reset_index()\n",
      "plt.plot(finalintsvm.interest, finalintsvm[0])\n",
      "plt.plot(finalint.interest,finalint[0],color = 'red')\n"
     ],
     "language": "python",
     "metadata": {},
     "outputs": [
      {
       "metadata": {},
       "output_type": "pyout",
       "prompt_number": 126,
       "text": [
        "[<matplotlib.lines.Line2D at 0x7f3d11357d10>]"
       ]
      },
      {
       "metadata": {},
       "output_type": "display_data",
       "png": "[encoded data removed]",
       "text": [
        "<matplotlib.figure.Figure at 0x7f3d11ffc790>"
       ]
      }
     ],
     "prompt_number": 126
    },
    {
     "cell_type": "code",
     "collapsed": false,
     "input": [
      "dftosql = finaldf[['loanid','borrowerid','predictedint','predictedintsvm','finalrate']]\n",
      "dftosql.to_sql('predictedinterest',con,if_exists = 'replace', flavor = 'mysql')"
     ],
     "language": "python",
     "metadata": {},
     "outputs": [],
     "prompt_number": 127
    },
    {
     "cell_type": "code",
     "collapsed": false,
     "input": [
      "sortcurrency = excratedf.sort('currency')"
     ],
     "language": "python",
     "metadata": {},
     "outputs": [],
     "prompt_number": 129
    },
    {
     "cell_type": "code",
     "collapsed": false,
     "input": [
      "trueexpectedamt = np.sum(lastyearnotfraud.trueexpected)\n",
      "truepaidamt = np.sum(lastyearnotfraud.truepaidamt*(1+(lastyearnotfraud.finalrate + 1.71)/100)/((1+lastyearnotfraud.finalrate/100)))\n",
      "finalrate = np.mean(lastyearnotfraud.finalrate + 1.71)\n",
      "loss = truepaidamt - trueexpectedamt\n",
      "\n",
      "\n",
      "plt.scatter(lastyearnotfraud.fractionlost,lastyearnotfraud.finalrate+1.71)\n",
      "plt.show()\n",
      "plt.scatter(lastyearnotfraud.truelossamt,lastyearnotfraud.finalrate+1.71)\n",
      "plt.show()\n",
      "plt.scatter(lastyearnotfraud.fractionlost,dftosql.predictedintsvm)\n",
      "plt.show()\n",
      "plt.scatter(lastyearnotfraud.truelossamt,dftosql.predictedintsvm)\n",
      "\n",
      "print(trueexpectedamt)\n",
      "print(loss)\n",
      "print(finalrate)\n",
      "print(np.mean(dftosql.roundpredictedintsvm))\n",
      "    \n",
      "print(len(lastyearnotfraud.trueexpected))\n"
     ],
     "language": "python",
     "metadata": {},
     "outputs": [
      {
       "metadata": {},
       "output_type": "display_data",
       "png": "[encoded data removed]",
       "text": [
        "<matplotlib.figure.Figure at 0x7f3d12331b90>"
       ]
      },
      {
       "metadata": {},
       "output_type": "display_data",
       "png": "[encoded data removed]",
       "text": [
        "<matplotlib.figure.Figure at 0x7f3d1266a390>"
       ]
      },
      {
       "metadata": {},
       "output_type": "display_data",
       "png": "[encoded data removed]",
       "text": [
        "<matplotlib.figure.Figure at 0x7f3d11144a90>"
       ]
      },
      {
       "output_type": "stream",
       "stream": "stdout",
       "text": [
        "229490.39981\n",
        "-14748.1600178\n",
        "7.74025343573\n",
        "7.76596604689\n",
        "2474\n"
       ]
      },
      {
       "metadata": {},
       "output_type": "display_data",
       "png": "[encoded data removed]",
       "text": [
        "<matplotlib.figure.Figure at 0x7f3d11a4a410>"
       ]
      }
     ],
     "prompt_number": 130
    },
    {
     "cell_type": "code",
     "collapsed": false,
     "input": [
      "uniquecurrency = sortcurrency.currency.unique()"
     ],
     "language": "python",
     "metadata": {},
     "outputs": [],
     "prompt_number": 131
    },
    {
     "cell_type": "code",
     "collapsed": false,
     "input": [
      "date = sortcurrency[sortcurrency.currency == uniquecurrency[0]].start\n",
      "rate = sortcurrency[sortcurrency.currency == uniquecurrency[0]].rate"
     ],
     "language": "python",
     "metadata": {},
     "outputs": [],
     "prompt_number": 78
    },
    {
     "cell_type": "code",
     "collapsed": false,
     "input": [
      "plt.scatter(date,rate)"
     ],
     "language": "python",
     "metadata": {},
     "outputs": [
      {
       "metadata": {},
       "output_type": "pyout",
       "prompt_number": 53,
       "text": [
        "<matplotlib.collections.PathCollection at 0x7f3d1115c410>"
       ]
      },
      {
       "metadata": {},
       "output_type": "display_data",
       "png": "[encoded data removed]",
       "text": [
        "<matplotlib.figure.Figure at 0x7f3d1199d8d0>"
       ]
      }
     ],
     "prompt_number": 53
    },
    {
     "cell_type": "code",
     "collapsed": false,
     "input": [
      "currencydf = pd.DataFrame\n",
      "date = sortcurrency[sortcurrency.currency == uniquecurrency[value]].start\n",
      "rate = sortcurrency[sortcurrency.currency == uniquecurrency[value]].rate\n",
      "lin_fit = sm.OLS(rate,date)\n",
      "result = lin_fit.fit()\n",
      "currencydf = pd.DataFrame(result.params)\n",
      "currencydf['e'] = Series(result.params, index=currency.index)\n",
      "#for value in uniquecurrency:\n",
      "#    date = sortcurrency[sortcurrency.currency == uniquecurrency[value]].start\n",
      "#    rate = sortcurrency[sortcurrency.currency == uniquecurrency[value]].rate\n",
      "#    lin_fit = sm.OLS(rate, date)\n",
      "#    result = lin_fit.fit()\n",
      "#    currencydf[str(value)] = result.params\n",
      "    \n",
      "    \n",
      "    "
     ],
     "language": "python",
     "metadata": {},
     "outputs": [
      {
       "ename": "NameError",
       "evalue": "name 'value' is not defined",
       "output_type": "pyerr",
       "traceback": [
        "\u001b[1;31m---------------------------------------------------------------------------\u001b[0m\n\u001b[1;31mNameError\u001b[0m                                 Traceback (most recent call last)",
        "\u001b[1;32m<ipython-input-52-d900d7d060a3>\u001b[0m in \u001b[0;36m<module>\u001b[1;34m()\u001b[0m\n\u001b[0;32m      1\u001b[0m \u001b[0mcurrencydf\u001b[0m \u001b[1;33m=\u001b[0m \u001b[0mpd\u001b[0m\u001b[1;33m.\u001b[0m\u001b[0mDataFrame\u001b[0m\u001b[1;33m\u001b[0m\u001b[0m\n\u001b[1;32m----> 2\u001b[1;33m \u001b[0mdate\u001b[0m \u001b[1;33m=\u001b[0m \u001b[0msortcurrency\u001b[0m\u001b[1;33m[\u001b[0m\u001b[0msortcurrency\u001b[0m\u001b[1;33m.\u001b[0m\u001b[0mcurrency\u001b[0m \u001b[1;33m==\u001b[0m \u001b[0muniquecurrency\u001b[0m\u001b[1;33m[\u001b[0m\u001b[0mvalue\u001b[0m\u001b[1;33m]\u001b[0m\u001b[1;33m]\u001b[0m\u001b[1;33m.\u001b[0m\u001b[0mstart\u001b[0m\u001b[1;33m\u001b[0m\u001b[0m\n\u001b[0m\u001b[0;32m      3\u001b[0m \u001b[0mrate\u001b[0m \u001b[1;33m=\u001b[0m \u001b[0msortcurrency\u001b[0m\u001b[1;33m[\u001b[0m\u001b[0msortcurrency\u001b[0m\u001b[1;33m.\u001b[0m\u001b[0mcurrency\u001b[0m \u001b[1;33m==\u001b[0m \u001b[0muniquecurrency\u001b[0m\u001b[1;33m[\u001b[0m\u001b[0mvalue\u001b[0m\u001b[1;33m]\u001b[0m\u001b[1;33m]\u001b[0m\u001b[1;33m.\u001b[0m\u001b[0mrate\u001b[0m\u001b[1;33m\u001b[0m\u001b[0m\n\u001b[0;32m      4\u001b[0m \u001b[0mlin_fit\u001b[0m \u001b[1;33m=\u001b[0m \u001b[0msm\u001b[0m\u001b[1;33m.\u001b[0m\u001b[0mOLS\u001b[0m\u001b[1;33m(\u001b[0m\u001b[0mrate\u001b[0m\u001b[1;33m,\u001b[0m\u001b[0mdate\u001b[0m\u001b[1;33m)\u001b[0m\u001b[1;33m\u001b[0m\u001b[0m\n\u001b[0;32m      5\u001b[0m \u001b[0mresult\u001b[0m \u001b[1;33m=\u001b[0m \u001b[0mlin_fit\u001b[0m\u001b[1;33m.\u001b[0m\u001b[0mfit\u001b[0m\u001b[1;33m(\u001b[0m\u001b[1;33m)\u001b[0m\u001b[1;33m\u001b[0m\u001b[0m\n",
        "\u001b[1;31mNameError\u001b[0m: name 'value' is not defined"
       ]
      }
     ],
     "prompt_number": 52
    },
    {
     "cell_type": "code",
     "collapsed": false,
     "input": [
      "pd.DataFrame(paramsdebtfree.transpose)"
     ],
     "language": "python",
     "metadata": {},
     "outputs": []
    },
    {
     "cell_type": "code",
     "collapsed": false,
     "input": [],
     "language": "python",
     "metadata": {},
     "outputs": []
    }
   ],
   "metadata": {}
  }
 ]
}