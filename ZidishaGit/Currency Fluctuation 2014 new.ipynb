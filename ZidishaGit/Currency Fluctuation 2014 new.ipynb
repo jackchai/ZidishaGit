{
 "metadata": {
  "name": "",
  "signature": "sha256:7ee343091c5c561c1bbfa8ff0aebb4cb39f9e299ad17cc2c600dd8a70acbbd9a"
 },
 "nbformat": 3,
 "nbformat_minor": 0,
 "worksheets": [
  {
   "cells": [
    {
     "cell_type": "code",
     "collapsed": false,
     "input": [
      "import pandas as pd\n",
      "import matplotlib.pyplot as plt\n",
      "import matplotlib.dates as mdates\n",
      "from datetime import datetime\n",
      "import numpy as np\n",
      "import time\n",
      "import pickle\n",
      "import statsmodels.api as sm"
     ],
     "language": "python",
     "metadata": {},
     "outputs": [],
     "prompt_number": 4
    },
    {
     "cell_type": "code",
     "collapsed": false,
     "input": [
      "excratedf = pd.read_csv('excrate.csv')\n",
      "borrowersdf = pd.read_csv('borrowers.csv')\n",
      "groupexcratedf = excratedf.groupby('currency')\n",
      "excratedf['currency'].unique()\n",
      "rsh = pd.read_csv('repaymentschedule.csv')\n",
      "#rsa = pd.read_csv('repaymentschedule_actual.csv')\n",
      "#rsh = pd.read_csv('repaymentschedule_history.csv')\n",
      "loanapplic = pd.read_csv('loanapplic.csv')\n",
      "borrowers = pd.read_csv('borrowers.csv')\n",
      "transactions = pd.read_csv('transactions.csv')"
     ],
     "language": "python",
     "metadata": {},
     "outputs": [],
     "prompt_number": 5
    },
    {
     "cell_type": "code",
     "collapsed": false,
     "input": [
      "rshamount = rsh.amount\n",
      "rshamount[np.isnan(rshamount)] = 0"
     ],
     "language": "python",
     "metadata": {},
     "outputs": [],
     "prompt_number": 6
    },
    {
     "cell_type": "code",
     "collapsed": false,
     "input": [
      "rshpaidamt = rsh.paidamt\n",
      "rshpaidamt[np.isnan(rshpaidamt)] = 0\n"
     ],
     "language": "python",
     "metadata": {},
     "outputs": [],
     "prompt_number": 7
    },
    {
     "cell_type": "code",
     "collapsed": false,
     "input": [
      "rsh['netloss'] = pd.Series(rshpaidamt - rshamount, index=rsh.index)"
     ],
     "language": "python",
     "metadata": {},
     "outputs": [],
     "prompt_number": 8
    },
    {
     "cell_type": "code",
     "collapsed": false,
     "input": [
      "currdate = datetime.now()\n",
      "twomonthtime = time.mktime(currdate.timetuple()) - 60*24*3600\n"
     ],
     "language": "python",
     "metadata": {},
     "outputs": [],
     "prompt_number": 9
    },
    {
     "cell_type": "code",
     "collapsed": false,
     "input": [
      "rshtrunc = rsh[rsh.duedate<twomonthtime]"
     ],
     "language": "python",
     "metadata": {},
     "outputs": [],
     "prompt_number": 10
    },
    {
     "cell_type": "code",
     "collapsed": false,
     "input": [
      "rshtruncgroup = rshtrunc.groupby('loanid')"
     ],
     "language": "python",
     "metadata": {},
     "outputs": [],
     "prompt_number": 11
    },
    {
     "cell_type": "code",
     "collapsed": false,
     "input": [
      "lossamt = rshtruncgroup['netloss'].apply(sum)\n",
      "lossamt = lossamt.reset_index()\n",
      "lossamt = lossamt.rename(columns = {0:'lossamt'})"
     ],
     "language": "python",
     "metadata": {},
     "outputs": [],
     "prompt_number": 12
    },
    {
     "cell_type": "code",
     "collapsed": false,
     "input": [
      "expectedamt = rshtruncgroup['amount'].apply(sum)\n",
      "expectedamt = expectedamt.reset_index()\n",
      "expectedamt = expectedamt.rename(columns = {0:'expectedamt'})\n"
     ],
     "language": "python",
     "metadata": {},
     "outputs": [],
     "prompt_number": 13
    },
    {
     "cell_type": "code",
     "collapsed": false,
     "input": [
      "fractionlost = np.abs(lossamt.lossamt)/np.abs(expectedamt.expectedamt)\n"
     ],
     "language": "python",
     "metadata": {},
     "outputs": [],
     "prompt_number": 14
    },
    {
     "cell_type": "code",
     "collapsed": false,
     "input": [
      "compinfo = expectedamt\n",
      "compinfo['lossamt'] = lossamt.lossamt\n",
      "compinfo['fractionlost'] = fractionlost\n",
      "compinfo = compinfo[compinfo.expectedamt != 0]\n"
     ],
     "language": "python",
     "metadata": {},
     "outputs": [],
     "prompt_number": 15
    },
    {
     "cell_type": "code",
     "collapsed": false,
     "input": [
      "compinfo2 = pd.merge(compinfo,loanapplic,on = 'loanid')\n",
      "compinfo2 = pd.merge(compinfo2, borrowers, left_on = 'borrowerid', right_on = 'userid')\n"
     ],
     "language": "python",
     "metadata": {},
     "outputs": [],
     "prompt_number": 16
    },
    {
     "cell_type": "code",
     "collapsed": false,
     "input": [
      "groupexcratedf = excratedf.groupby('currency')\n",
      "groupexcratedf = groupexcratedf['rate'].apply(np.mean)\n",
      "groupexcratedf = groupexcratedf.reset_index()\n",
      "groupexcratedf = groupexcratedf.rename(columns={0: 'rate'})\n"
     ],
     "language": "python",
     "metadata": {},
     "outputs": [],
     "prompt_number": 17
    },
    {
     "cell_type": "code",
     "collapsed": false,
     "input": [
      "compinfo2 = pd.merge(compinfo2, groupexcratedf, how = \"left\")"
     ],
     "language": "python",
     "metadata": {},
     "outputs": [],
     "prompt_number": 18
    },
    {
     "cell_type": "code",
     "collapsed": false,
     "input": [
      "trueexpected = compinfo2.expectedamt/compinfo2.rate"
     ],
     "language": "python",
     "metadata": {},
     "outputs": [],
     "prompt_number": 19
    },
    {
     "cell_type": "code",
     "collapsed": false,
     "input": [
      "truelossamt = compinfo2.lossamt/compinfo2.rate"
     ],
     "language": "python",
     "metadata": {},
     "outputs": [],
     "prompt_number": 20
    },
    {
     "cell_type": "code",
     "collapsed": false,
     "input": [
      "compinfo2['trueexpected'] = trueexpected"
     ],
     "language": "python",
     "metadata": {},
     "outputs": [],
     "prompt_number": 21
    },
    {
     "cell_type": "code",
     "collapsed": false,
     "input": [
      "compinfo2['truelossamt'] = truelossamt"
     ],
     "language": "python",
     "metadata": {},
     "outputs": [],
     "prompt_number": 22
    },
    {
     "cell_type": "code",
     "collapsed": false,
     "input": [
      "currdate = datetime(2014,1,1)\n",
      "oneyeartime = time.mktime(currdate.timetuple())"
     ],
     "language": "python",
     "metadata": {},
     "outputs": [],
     "prompt_number": 23
    },
    {
     "cell_type": "code",
     "collapsed": false,
     "input": [
      "lastyear = compinfo2[compinfo2.Acceptdate > oneyeartime]"
     ],
     "language": "python",
     "metadata": {},
     "outputs": [],
     "prompt_number": 24
    },
    {
     "cell_type": "code",
     "collapsed": false,
     "input": [],
     "language": "python",
     "metadata": {},
     "outputs": []
    },
    {
     "cell_type": "code",
     "collapsed": false,
     "input": [
      "independentvariable = lastyear.interest\n",
      "dependentvariable = np.exp(-0.1065*independentvariable)/np.power((1+np.exp(0.1065*independentvariable)),1)"
     ],
     "language": "python",
     "metadata": {},
     "outputs": [],
     "prompt_number": 67
    },
    {
     "cell_type": "code",
     "collapsed": false,
     "input": [
      "plt.scatter(independentvariable,dependentvariable)\n",
      "plt.show()"
     ],
     "language": "python",
     "metadata": {},
     "outputs": [],
     "prompt_number": 68
    },
    {
     "cell_type": "code",
     "collapsed": false,
     "input": [
      "plt.scatter(lastyear.interest,lastyear.fractionlost)\n",
      "plt.show()"
     ],
     "language": "python",
     "metadata": {},
     "outputs": [],
     "prompt_number": 61
    },
    {
     "cell_type": "code",
     "collapsed": false,
     "input": [
      "logit = sm.Logit(lastyear.fractionlost, lastyear.interest)"
     ],
     "language": "python",
     "metadata": {},
     "outputs": [],
     "prompt_number": 33
    },
    {
     "cell_type": "code",
     "collapsed": false,
     "input": [
      "result = logit.fit()\n",
      "print(result.summary())"
     ],
     "language": "python",
     "metadata": {},
     "outputs": [
      {
       "output_type": "stream",
       "stream": "stdout",
       "text": [
        "Optimization terminated successfully.\n",
        "         Current function value: 0.411561\n",
        "         Iterations 6\n",
        "                           Logit Regression Results                           \n",
        "==============================================================================\n",
        "Dep. Variable:           fractionlost   No. Observations:                 2539\n",
        "Model:                          Logit   Df Residuals:                     2538\n",
        "Method:                           MLE   Df Model:                            0\n",
        "Date:                Mon, 08 Sep 2014   Pseudo R-squ.:                 -0.2602\n",
        "Time:                        21:52:55   Log-Likelihood:                -1045.0\n",
        "converged:                       True   LL-Null:                       -829.18\n",
        "                                        LLR p-value:                     1.000\n",
        "==============================================================================\n",
        "                 coef    std err          z      P>|z|      [95.0% Conf. Int.]\n",
        "------------------------------------------------------------------------------\n",
        "interest      -0.1065      0.004    -27.625      0.000        -0.114    -0.099\n",
        "==============================================================================\n"
       ]
      }
     ],
     "prompt_number": 42
    },
    {
     "cell_type": "code",
     "collapsed": false,
     "input": [
      "def isolate_and_plot(variable):\n",
      "    grouped = pd.pivot_table()"
     ],
     "language": "python",
     "metadata": {},
     "outputs": []
    },
    {
     "cell_type": "code",
     "collapsed": false,
     "input": [
      "plt.scatter(lastyear.amount/lastyear.rate, lastyear.fractionlost)\n",
      "plt.xlabel('Capital Invested (USD)')\n",
      "plt.ylabel('Fraction Lost')\n",
      "plt.show()"
     ],
     "language": "python",
     "metadata": {},
     "outputs": [],
     "prompt_number": 25
    },
    {
     "cell_type": "code",
     "collapsed": false,
     "input": [
      "np.sum(lastyear.trueexpected)"
     ],
     "language": "python",
     "metadata": {},
     "outputs": [
      {
       "metadata": {},
       "output_type": "pyout",
       "prompt_number": 192,
       "text": [
        "47063190.331553124"
       ]
      }
     ],
     "prompt_number": 192
    },
    {
     "cell_type": "code",
     "collapsed": false,
     "input": [
      "np.sum(lastyear.trueexpected*lastyear.fractionlost)"
     ],
     "language": "python",
     "metadata": {},
     "outputs": [
      {
       "metadata": {},
       "output_type": "pyout",
       "prompt_number": 193,
       "text": [
        "5300520.0860669455"
       ]
      }
     ],
     "prompt_number": 193
    },
    {
     "cell_type": "code",
     "collapsed": false,
     "input": [],
     "language": "python",
     "metadata": {},
     "outputs": []
    },
    {
     "cell_type": "code",
     "collapsed": false,
     "input": [],
     "language": "python",
     "metadata": {},
     "outputs": []
    }
   ],
   "metadata": {}
  }
 ]
}