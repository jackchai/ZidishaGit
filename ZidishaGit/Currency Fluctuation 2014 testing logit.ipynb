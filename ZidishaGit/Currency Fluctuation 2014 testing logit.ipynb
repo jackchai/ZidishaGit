{
 "metadata": {
  "name": "",
  "signature": "sha256:63d55195e0f04083c11763243af1e373b88f37f768cd14596e9cf6be61f0689d"
 },
 "nbformat": 3,
 "nbformat_minor": 0,
 "worksheets": [
  {
   "cells": [
    {
     "cell_type": "code",
     "collapsed": false,
     "input": [
      "import pandas as pd\n",
      "import matplotlib.pyplot as plt\n",
      "import matplotlib.dates as mdates\n",
      "from datetime import datetime\n",
      "import numpy as np\n",
      "import time\n",
      "import pickle\n",
      "import statsmodels.api as sm\n",
      "from patsy import dmatrices\n",
      "from sklearn.linear_model import LogisticRegression\n",
      "from sklearn.cross_validation import train_test_split\n",
      "from sklearn import metrics\n",
      "from sklearn.cross_validation import cross_val_score"
     ],
     "language": "python",
     "metadata": {},
     "outputs": [],
     "prompt_number": 56
    },
    {
     "cell_type": "code",
     "collapsed": false,
     "input": [
      "excratedf = pd.read_csv('excrate.csv')\n",
      "borrowersdf = pd.read_csv('borrowers.csv')\n",
      "groupexcratedf = excratedf.groupby('currency')\n",
      "excratedf['currency'].unique()\n",
      "rsh = pd.read_csv('repaymentschedule.csv')\n",
      "#rsa = pd.read_csv('repaymentschedule_actual.csv')\n",
      "#rsh = pd.read_csv('repaymentschedule_history.csv')\n",
      "loanapplic = pd.read_csv('loanapplic.csv')\n",
      "borrowers = pd.read_csv('borrowers.csv')\n",
      "transactions = pd.read_csv('transactions.csv')"
     ],
     "language": "python",
     "metadata": {},
     "outputs": [],
     "prompt_number": 3
    },
    {
     "cell_type": "code",
     "collapsed": false,
     "input": [
      "rshamount = rsh.amount\n",
      "rshamount[np.isnan(rshamount)] = 0"
     ],
     "language": "python",
     "metadata": {},
     "outputs": [],
     "prompt_number": 4
    },
    {
     "cell_type": "code",
     "collapsed": false,
     "input": [
      "rshpaidamt = rsh.paidamt\n",
      "rshpaidamt[np.isnan(rshpaidamt)] = 0\n"
     ],
     "language": "python",
     "metadata": {},
     "outputs": [],
     "prompt_number": 5
    },
    {
     "cell_type": "code",
     "collapsed": false,
     "input": [
      "rsh['netloss'] = pd.Series(rshpaidamt - rshamount, index=rsh.index)"
     ],
     "language": "python",
     "metadata": {},
     "outputs": [],
     "prompt_number": 6
    },
    {
     "cell_type": "code",
     "collapsed": false,
     "input": [
      "currdate = datetime.now()\n",
      "twomonthtime = time.mktime(currdate.timetuple()) - 60*24*3600\n"
     ],
     "language": "python",
     "metadata": {},
     "outputs": [],
     "prompt_number": 7
    },
    {
     "cell_type": "code",
     "collapsed": false,
     "input": [
      "rshtrunc = rsh[rsh.duedate<twomonthtime]"
     ],
     "language": "python",
     "metadata": {},
     "outputs": [],
     "prompt_number": 8
    },
    {
     "cell_type": "code",
     "collapsed": false,
     "input": [
      "rshgroup = rsh.groupby('loanid')\n",
      "rshtruncgroup = rshtrunc.groupby('loanid')"
     ],
     "language": "python",
     "metadata": {},
     "outputs": [],
     "prompt_number": 9
    },
    {
     "cell_type": "code",
     "collapsed": false,
     "input": [
      "lossamt = rshtruncgroup['netloss'].apply(sum)\n",
      "lossamt = lossamt.reset_index()\n",
      "lossamt = lossamt.rename(columns = {0:'lossamt'})"
     ],
     "language": "python",
     "metadata": {},
     "outputs": [],
     "prompt_number": 175
    },
    {
     "cell_type": "code",
     "collapsed": false,
     "input": [
      "expectedamt = rshtruncgroup['amount'].apply(sum)\n",
      "expectedamt = expectedamt.reset_index()\n",
      "expectedamt = expectedamt.rename(columns = {0:'expectedamt'})\n"
     ],
     "language": "python",
     "metadata": {},
     "outputs": [],
     "prompt_number": 11
    },
    {
     "cell_type": "code",
     "collapsed": false,
     "input": [
      "fractionlost = np.abs(lossamt.lossamt)/np.abs(expectedamt.expectedamt)\n"
     ],
     "language": "python",
     "metadata": {},
     "outputs": [],
     "prompt_number": 12
    },
    {
     "cell_type": "code",
     "collapsed": false,
     "input": [
      "compinfo = expectedamt\n",
      "compinfo['lossamt'] = lossamt.lossamt\n",
      "compinfo['fractionlost'] = fractionlost\n",
      "compinfo = compinfo[compinfo.expectedamt != 0]\n"
     ],
     "language": "python",
     "metadata": {},
     "outputs": [],
     "prompt_number": 13
    },
    {
     "cell_type": "code",
     "collapsed": false,
     "input": [
      "compinfo2 = pd.merge(compinfo,loanapplic,on = 'loanid')\n",
      "compinfo2 = pd.merge(compinfo2, borrowers, left_on = 'borrowerid', right_on = 'userid')\n"
     ],
     "language": "python",
     "metadata": {},
     "outputs": [],
     "prompt_number": 14
    },
    {
     "cell_type": "code",
     "collapsed": false,
     "input": [
      "groupexcratedf = excratedf.groupby('currency')\n",
      "groupexcratedf = groupexcratedf['rate'].apply(np.mean)\n",
      "groupexcratedf = groupexcratedf.reset_index()\n",
      "groupexcratedf = groupexcratedf.rename(columns={0: 'rate'})\n"
     ],
     "language": "python",
     "metadata": {},
     "outputs": [],
     "prompt_number": 15
    },
    {
     "cell_type": "code",
     "collapsed": false,
     "input": [
      "compinfo2 = pd.merge(compinfo2, groupexcratedf, how = \"left\")"
     ],
     "language": "python",
     "metadata": {},
     "outputs": [],
     "prompt_number": 16
    },
    {
     "cell_type": "code",
     "collapsed": false,
     "input": [
      "trueexpected = compinfo2.expectedamt/compinfo2.rate"
     ],
     "language": "python",
     "metadata": {},
     "outputs": [],
     "prompt_number": 17
    },
    {
     "cell_type": "code",
     "collapsed": false,
     "input": [
      "truelossamt = compinfo2.lossamt/compinfo2.rate"
     ],
     "language": "python",
     "metadata": {},
     "outputs": [],
     "prompt_number": 18
    },
    {
     "cell_type": "code",
     "collapsed": false,
     "input": [
      "compinfo2['trueexpected'] = trueexpected"
     ],
     "language": "python",
     "metadata": {},
     "outputs": [],
     "prompt_number": 19
    },
    {
     "cell_type": "code",
     "collapsed": false,
     "input": [
      "compinfo2['truelossamt'] = truelossamt"
     ],
     "language": "python",
     "metadata": {},
     "outputs": [],
     "prompt_number": 20
    },
    {
     "cell_type": "code",
     "collapsed": false,
     "input": [
      "currdate = datetime(2014,1,1)\n",
      "oneyeartime = time.mktime(currdate.timetuple())"
     ],
     "language": "python",
     "metadata": {},
     "outputs": [],
     "prompt_number": 21
    },
    {
     "cell_type": "code",
     "collapsed": false,
     "input": [
      "lastyear = compinfo2[compinfo2.Acceptdate > oneyeartime]"
     ],
     "language": "python",
     "metadata": {},
     "outputs": [],
     "prompt_number": 147
    },
    {
     "cell_type": "code",
     "collapsed": false,
     "input": [
      "lastyear.columns"
     ],
     "language": "python",
     "metadata": {},
     "outputs": [
      {
       "metadata": {},
       "output_type": "pyout",
       "prompt_number": 144,
       "text": [
        "Index([u'loanid', u'expectedamt', u'lossamt', u'fractionlost', u'borrowerid', u'amount', u'interest', u'period', u'original_period', u'grace', u'summary', u'loanuse', u'tr_summary', u'tr_loanuse', u'tr_user', u'active', u'expires', u'finalrate', u'applydate', u'Acceptdate', u'Webfee', u'ActiveDate', u'RepaidDate', u'auth_date', u'p_amount', u'tnc', u'AmountGot', u'reqdamt', u'adminDelete', u'feedback_reminder', u'weekly_inst', u'installment_dat', u'installment_weekday', u'extra_days', u'expiry_mail', u'accept_bid_note', u'loan_category_id', u'secondary_loan_category_id', u'about_to_expire_notification', u'userid', u'FirstName', u'LastName', u'Paddress', u'City', u'Country', u'TelMobile', u'AltTelMobile', u'referred_by', u'email', u'AnnualIncome', u'About', u'tr_About', u'BizDesc', u'tr_BizDesc', u'Active', u'Photo', u'PartnerId', u'ActiveLoan', u'currency', u'activeLoanID', u'nationId', u'loanHist', u'Assigned_to', u'Assigned_date', u'Assigned_status', u'declined_reason', u'communityNameNo', u'frontNationalId', u'backNationalId', u'addressProof', u'legalDeclaration', u'legal_declaration2', u'islastrepaid', u'isdebtfree', u'iscomplete_later', u'lastVisited', u'admin_notes', u'borrower_behalf_id', u'share_update', u'Created', u'completed_on', u'LastModified', u'family_contact', u'neighbour_contact', u'grant_co', u'grant_co_date', u'grant_co_note', u'home_location', u'lending_inst_name', u'lending_inst_add', u'lending_inst_phone', u'lending_inst_officer', u'refer_member_name', u'endorder', u'introduction', u'sift_score', u'rate', u'trueexpected', u'truelossamt', u'trueannualincome'], dtype='object')"
       ]
      }
     ],
     "prompt_number": 144
    },
    {
     "cell_type": "code",
     "collapsed": false,
     "input": [
      "cols_to_keep = ['interest','trueexpected','sift_score','period','loan_category_id','currency']\n",
      "data = lastyear[cols_to_keep]\n",
      "data['intercept'] = 1\n",
      "#y, X = dmatrices('fractionlost ~ interest + trueexpected + sift_score + Country + period + loan_category_id + AnnualIncome',lastyear, return_type = 'dataframe')\n",
      "#y, X = dmatrices('fractionlost ~ interest',lastyeargrouped, retuyrn_type = 'dataframe')"
     ],
     "language": "python",
     "metadata": {},
     "outputs": [],
     "prompt_number": 148
    },
    {
     "cell_type": "code",
     "collapsed": false,
     "input": [
      "siftscore = lastyear.sift_score\n",
      "predictedint = 1/(1+np.exp(-(-4.8431+5.0721*siftscore - 2.9342 + 0.075 *lastyear.interest)))\n",
      "#print([1+predictedint])\n",
      "#print(lastyear.interest)\n",
      "predictedincome = (lastyear.trueexpected - lastyear.truelossamt)*(1+predictedint)/(1+lastyear.interest/100)\n",
      "print(np.sum(predictedincome))\n",
      "print(np.sum(lastyear.trueexpected))\n",
      "print(np.sum(predictedincome) - np.sum(lastyear.trueexpected))\n"
     ],
     "language": "python",
     "metadata": {},
     "outputs": [
      {
       "output_type": "stream",
       "stream": "stdout",
       "text": [
        "242444.231861\n",
        "236496.773631\n",
        "5947.45823006\n"
       ]
      }
     ],
     "prompt_number": 236
    },
    {
     "cell_type": "code",
     "collapsed": false,
     "input": [
      "logit = sm.Logit(lastyear.fractionlost, data)\n",
      "result = logit.fit()"
     ],
     "language": "python",
     "metadata": {},
     "outputs": [
      {
       "output_type": "stream",
       "stream": "stdout",
       "text": [
        "Optimization terminated successfully.\n",
        "         Current function value: 0.301392\n",
        "         Iterations 7\n"
       ]
      }
     ],
     "prompt_number": 150
    },
    {
     "cell_type": "code",
     "collapsed": false,
     "input": [
      "lygroupint = lastyear.sort('interest')\n",
      "lygroupint = lygroupint.groupby('interest')\n",
      "lygroupint = lygroupint.apply(np.mean)\n",
      "data2 = pd.DataFrame(lygroupint.interest)\n",
      "y2 = lygroupint.fractionlost\n",
      "data2['intercept'] = 1"
     ],
     "language": "python",
     "metadata": {},
     "outputs": [],
     "prompt_number": 233
    },
    {
     "cell_type": "code",
     "collapsed": false,
     "input": [
      "logit2 = sm.Logit(y2,data2)\n",
      "results2 = logit2.fit()"
     ],
     "language": "python",
     "metadata": {},
     "outputs": [
      {
       "output_type": "stream",
       "stream": "stdout",
       "text": [
        "Optimization terminated successfully.\n",
        "         Current function value: 0.342401\n",
        "         Iterations 6\n"
       ]
      }
     ],
     "prompt_number": 234
    },
    {
     "cell_type": "code",
     "collapsed": false,
     "input": [
      "print results2.summary()"
     ],
     "language": "python",
     "metadata": {},
     "outputs": [
      {
       "output_type": "stream",
       "stream": "stdout",
       "text": [
        "                           Logit Regression Results                           \n",
        "==============================================================================\n",
        "Dep. Variable:           fractionlost   No. Observations:                   26\n",
        "Model:                          Logit   Df Residuals:                       24\n",
        "Method:                           MLE   Df Model:                            1\n",
        "Date:                Tue, 09 Sep 2014   Pseudo R-squ.:                 0.05780\n",
        "Time:                        14:16:19   Log-Likelihood:                -8.9024\n",
        "converged:                       True   LL-Null:                       -9.4486\n",
        "                                        LLR p-value:                    0.2960\n",
        "==============================================================================\n",
        "                 coef    std err          z      P>|z|      [95.0% Conf. Int.]\n",
        "------------------------------------------------------------------------------\n",
        "interest       0.0795      0.072      1.100      0.271        -0.062     0.221\n",
        "intercept     -2.9342      1.542     -1.903      0.057        -5.957     0.088\n",
        "==============================================================================\n"
       ]
      }
     ],
     "prompt_number": 235
    },
    {
     "cell_type": "code",
     "collapsed": false,
     "input": [
      "bins = np.linspace(lastyear.sift_score.min(), lastyear.sift_score.max(),10)\n",
      "groups = lastyear.groupby(np.digitize(lastyear.sift_score,bins))\n",
      "meangroups = groups.apply(np.mean)\n"
     ],
     "language": "python",
     "metadata": {},
     "outputs": [],
     "prompt_number": 211
    },
    {
     "cell_type": "code",
     "collapsed": false,
     "input": [
      "data1 = pd.DataFrame(meangroups.sift_score)\n",
      "data1['intercept'] = 1\n",
      "y1 = meangroups.fractionlost"
     ],
     "language": "python",
     "metadata": {},
     "outputs": [],
     "prompt_number": 232
    },
    {
     "cell_type": "code",
     "collapsed": false,
     "input": [
      "logit1 = sm.Logit(y1, data1)\n",
      "results1 = logit1.fit()"
     ],
     "language": "python",
     "metadata": {},
     "outputs": [
      {
       "output_type": "stream",
       "stream": "stdout",
       "text": [
        "Optimization terminated successfully.\n",
        "         Current function value: 0.303708\n",
        "         Iterations 7\n"
       ]
      }
     ],
     "prompt_number": 215
    },
    {
     "cell_type": "code",
     "collapsed": false,
     "input": [
      "print results1.summary()"
     ],
     "language": "python",
     "metadata": {},
     "outputs": [
      {
       "output_type": "stream",
       "stream": "stdout",
       "text": [
        "                           Logit Regression Results                           \n",
        "==============================================================================\n",
        "Dep. Variable:           fractionlost   No. Observations:                   10\n",
        "Model:                          Logit   Df Residuals:                        8\n",
        "Method:                           MLE   Df Model:                            1\n",
        "Date:                Tue, 09 Sep 2014   Pseudo R-squ.:                  0.3328\n",
        "Time:                        13:18:32   Log-Likelihood:                -3.0371\n",
        "converged:                       True   LL-Null:                       -4.5517\n",
        "                                        LLR p-value:                   0.08177\n",
        "==============================================================================\n",
        "                 coef    std err          z      P>|z|      [95.0% Conf. Int.]\n",
        "------------------------------------------------------------------------------\n",
        "sift_score     5.0721      4.207      1.206      0.228        -3.173    13.317\n",
        "intercept     -4.8431      3.384     -1.431      0.152       -11.475     1.789\n",
        "==============================================================================\n"
       ]
      }
     ],
     "prompt_number": 216
    },
    {
     "cell_type": "code",
     "collapsed": false,
     "input": [
      "#groupedlastyear['fractionlost'].apply(np.var)"
     ],
     "language": "python",
     "metadata": {},
     "outputs": [],
     "prompt_number": 107
    },
    {
     "cell_type": "code",
     "collapsed": false,
     "input": [
      "plt.scatter(x1,predict)\n",
      "plt.scatter(meangroups.sift_score,meangroups.fractionlost)\n",
      "plt.show()\n"
     ],
     "language": "python",
     "metadata": {},
     "outputs": [
      {
       "metadata": {},
       "output_type": "display_data",
       "png": "[encoded data removed]",
       "text": [
        "<matplotlib.figure.Figure at 0x7f506b78b150>"
       ]
      }
     ],
     "prompt_number": 162
    },
    {
     "cell_type": "code",
     "collapsed": false,
     "input": [
      "interestgroup = lastyear.groupby('interest')\n",
      "interestmean = interestgroup['interest'].apply(np.mean)\n",
      "fraclostmean = interestgroup['fractionlost'].apply(np.mean)"
     ],
     "language": "python",
     "metadata": {},
     "outputs": [],
     "prompt_number": 23
    },
    {
     "cell_type": "code",
     "collapsed": false,
     "input": [
      "plt.scatter(interestmean,fraclostmean)\n",
      "plt.show()"
     ],
     "language": "python",
     "metadata": {},
     "outputs": [],
     "prompt_number": 24
    },
    {
     "cell_type": "code",
     "collapsed": false,
     "input": [
      "plt.scatter(np.linspace(0,1,20),np.linspace(0,1,20))\n",
      "plt.show()"
     ],
     "language": "python",
     "metadata": {},
     "outputs": [],
     "prompt_number": 32
    },
    {
     "cell_type": "code",
     "collapsed": false,
     "input": [
      "\n",
      "7\n",
      "0.39568\n",
      "8\n",
      "0.381308\n",
      "9\n",
      "0.367141\n",
      "10\n",
      "0.353201\n",
      "11\n",
      "0.339505\n",
      "12\n",
      "0.326073\n",
      "13\n",
      "0.312921\n",
      "14\n",
      "0.300063\n",
      "15\n",
      "0.287512\n",
      "16\n",
      "0.275279\n",
      "17\n",
      "0.263375\n",
      "18\n",
      "0.251807\n",
      "19\n",
      "0.24058\n",
      "20\n",
      "0.229701\n",
      "21\n",
      "0.219172\n",
      "22\n",
      "0.208994\n",
      "23\n",
      "0.199168\n",
      "24\n",
      "0.189694\n",
      "25\n",
      "0.180569\n",
      "26\n",
      "0.171789,\n"
     ],
     "language": "python",
     "metadata": {},
     "outputs": []
    },
    {
     "cell_type": "code",
     "collapsed": false,
     "input": [
      "y = pd.DataFrame({'values':[0.731059,0.768525,0.802184,0.832018,0.858149,0.880797,0.90025,0.916827,0.930862,0.942676,0.952574]})\n",
      "X = pd.DataFrame({'x':[0,0.1,0.2,0.3,0.4,0.5,0.6,0.7,0.8,0.9,1]})\n",
      "X['intercept'] = 1"
     ],
     "language": "python",
     "metadata": {},
     "outputs": [],
     "prompt_number": 140
    },
    {
     "cell_type": "code",
     "collapsed": false,
     "input": [
      "logit = sm.Logit(y,X)\n",
      "result = logit.fit()\n",
      "print(result.summary())"
     ],
     "language": "python",
     "metadata": {},
     "outputs": [
      {
       "output_type": "stream",
       "stream": "stdout",
       "text": [
        "Optimization terminated successfully.\n",
        "         Current function value: 0.230548\n",
        "         Iterations 7\n",
        "                           Logit Regression Results                           \n",
        "==============================================================================\n",
        "Dep. Variable:                 values   No. Observations:                   11\n",
        "Model:                          Logit   Df Residuals:                        9\n",
        "Method:                           MLE   Df Model:                            1\n",
        "Date:                Tue, 09 Sep 2014   Pseudo R-squ.:                 0.01828\n",
        "Time:                        00:18:30   Log-Likelihood:                -2.5360\n",
        "converged:                       True   LL-Null:                       -2.5832\n",
        "                                        LLR p-value:                    0.7586\n",
        "==============================================================================\n",
        "                 coef    std err          z      P>|z|      [95.0% Conf. Int.]\n",
        "------------------------------------------------------------------------------\n",
        "x              2.0000      3.086      0.648      0.517        -4.048     8.048\n",
        "intercept      1.0000      1.436      0.696      0.486        -1.815     3.815\n",
        "==============================================================================\n",
        "\n",
        "Complete Separation: The results show that there iscomplete separation.\n",
        "In this case the Maximum Likelihood Estimator does not exist and the parameters\n",
        "are not identified.\n"
       ]
      }
     ],
     "prompt_number": 141
    },
    {
     "cell_type": "code",
     "collapsed": false,
     "input": [
      "def isolate_and_plot(variable):\n",
      "    grouped = pd.pivot_table()"
     ],
     "language": "python",
     "metadata": {},
     "outputs": []
    },
    {
     "cell_type": "code",
     "collapsed": false,
     "input": [
      "plt.scatter(lastyear.amount/lastyear.rate, lastyear.fractionlost)\n",
      "plt.xlabel('Capital Invested (USD)')\n",
      "plt.ylabel('Fraction Lost')\n",
      "plt.show()"
     ],
     "language": "python",
     "metadata": {},
     "outputs": [],
     "prompt_number": 25
    },
    {
     "cell_type": "code",
     "collapsed": false,
     "input": [
      "np.sum(lastyear.trueexpected)"
     ],
     "language": "python",
     "metadata": {},
     "outputs": [
      {
       "metadata": {},
       "output_type": "pyout",
       "prompt_number": 192,
       "text": [
        "47063190.331553124"
       ]
      }
     ],
     "prompt_number": 192
    },
    {
     "cell_type": "code",
     "collapsed": false,
     "input": [
      "np.sum(lastyear.trueexpected*lastyear.fractionlost)"
     ],
     "language": "python",
     "metadata": {},
     "outputs": [
      {
       "metadata": {},
       "output_type": "pyout",
       "prompt_number": 193,
       "text": [
        "5300520.0860669455"
       ]
      }
     ],
     "prompt_number": 193
    },
    {
     "cell_type": "code",
     "collapsed": false,
     "input": [],
     "language": "python",
     "metadata": {},
     "outputs": []
    },
    {
     "cell_type": "code",
     "collapsed": false,
     "input": [],
     "language": "python",
     "metadata": {},
     "outputs": []
    }
   ],
   "metadata": {}
  }
 ]
}