{
 "metadata": {
  "name": "",
  "signature": "sha256:7f7fa31c00634f373368d044e52535d65059d4f9db2ea3e9ee045f3ff1fa7c8a"
 },
 "nbformat": 3,
 "nbformat_minor": 0,
 "worksheets": [
  {
   "cells": [
    {
     "cell_type": "code",
     "collapsed": false,
     "input": [
      "import pandas as pd\n",
      "import matplotlib.pyplot as plt\n",
      "import matplotlib.dates as mdates\n",
      "from datetime import datetime\n",
      "import numpy as np\n",
      "import time\n",
      "import pickle"
     ],
     "language": "python",
     "metadata": {},
     "outputs": [],
     "prompt_number": 4
    },
    {
     "cell_type": "code",
     "collapsed": false,
     "input": [
      "excratedf = pd.read_csv('excrate.csv')\n",
      "borrowersdf = pd.read_csv('borrowers.csv')\n",
      "groupexcratedf = excratedf.groupby('currency')\n",
      "excratedf['currency'].unique()\n",
      "rs = pd.read_csv('repaymentschedule.csv')\n",
      "rsa = pd.read_csv('repaymentschedule_actual.csv')\n",
      "rsh = pd.read_csv('repaymentschedule_history.csv')\n",
      "loanapplic = pd.read_csv('loanapplic.csv')\n",
      "borrowers = pd.read_csv('borrowers.csv')"
     ],
     "language": "python",
     "metadata": {},
     "outputs": [],
     "prompt_number": 5
    },
    {
     "cell_type": "code",
     "collapsed": false,
     "input": [],
     "language": "python",
     "metadata": {},
     "outputs": [],
     "prompt_number": 5
    },
    {
     "cell_type": "code",
     "collapsed": false,
     "input": [],
     "language": "python",
     "metadata": {},
     "outputs": [],
     "prompt_number": 5
    },
    {
     "cell_type": "code",
     "collapsed": false,
     "input": [
      "rshamount = rsh.amount\n",
      "rshamount[np.isnan(rshamount)] = 0"
     ],
     "language": "python",
     "metadata": {},
     "outputs": [],
     "prompt_number": 6
    },
    {
     "cell_type": "code",
     "collapsed": false,
     "input": [
      "rshpaidamt = rsh.paidamt\n",
      "rshpaidamt[np.isnan(rshpaidamt)] = 0\n",
      "rshpaidamt.head()\n"
     ],
     "language": "python",
     "metadata": {},
     "outputs": [
      {
       "metadata": {},
       "output_type": "pyout",
       "prompt_number": 7,
       "text": [
        "0      0.000000\n",
        "1      0.000000\n",
        "2    958.786778\n",
        "3    958.786778\n",
        "4    958.786778\n",
        "Name: paidamt, dtype: float64"
       ]
      }
     ],
     "prompt_number": 7
    },
    {
     "cell_type": "code",
     "collapsed": false,
     "input": [],
     "language": "python",
     "metadata": {},
     "outputs": [],
     "prompt_number": 7
    },
    {
     "cell_type": "code",
     "collapsed": false,
     "input": [
      "rsh['netloss'] = pd.Series(rshpaidamt - rshamount, index=rsh.index)"
     ],
     "language": "python",
     "metadata": {},
     "outputs": [],
     "prompt_number": 8
    },
    {
     "cell_type": "code",
     "collapsed": false,
     "input": [],
     "language": "python",
     "metadata": {},
     "outputs": [],
     "prompt_number": 8
    },
    {
     "cell_type": "code",
     "collapsed": false,
     "input": [
      "currdate = datetime.now()\n",
      "twomonthtime = time.mktime(currdate.timetuple()) - 60*24*3600\n"
     ],
     "language": "python",
     "metadata": {},
     "outputs": [],
     "prompt_number": 9
    },
    {
     "cell_type": "code",
     "collapsed": false,
     "input": [
      "rshtrunc = rsh[rsh.duedate<twomonthtime]"
     ],
     "language": "python",
     "metadata": {},
     "outputs": [
      {
       "ename": "NameError",
       "evalue": "name 'rsh' is not defined",
       "output_type": "pyerr",
       "traceback": [
        "\u001b[1;31m---------------------------------------------------------------------------\u001b[0m\n\u001b[1;31mNameError\u001b[0m                                 Traceback (most recent call last)",
        "\u001b[1;32m<ipython-input-2-1c733b82af9a>\u001b[0m in \u001b[0;36m<module>\u001b[1;34m()\u001b[0m\n\u001b[1;32m----> 1\u001b[1;33m \u001b[0mrshtrunc\u001b[0m \u001b[1;33m=\u001b[0m \u001b[0mrsh\u001b[0m\u001b[1;33m[\u001b[0m\u001b[0mrsh\u001b[0m\u001b[1;33m.\u001b[0m\u001b[0mduedate\u001b[0m\u001b[1;33m<\u001b[0m\u001b[0mtwomonthtime\u001b[0m\u001b[1;33m]\u001b[0m\u001b[1;33m\u001b[0m\u001b[0m\n\u001b[0m",
        "\u001b[1;31mNameError\u001b[0m: name 'rsh' is not defined"
       ]
      }
     ],
     "prompt_number": 2
    },
    {
     "cell_type": "code",
     "collapsed": false,
     "input": [
      "rshtruncgroup = rshtrunc.groupby('loanid')"
     ],
     "language": "python",
     "metadata": {},
     "outputs": [
      {
       "ename": "NameError",
       "evalue": "name 'rshtrunc' is not defined",
       "output_type": "pyerr",
       "traceback": [
        "\u001b[1;31m---------------------------------------------------------------------------\u001b[0m\n\u001b[1;31mNameError\u001b[0m                                 Traceback (most recent call last)",
        "\u001b[1;32m<ipython-input-3-ada8f2b25cb9>\u001b[0m in \u001b[0;36m<module>\u001b[1;34m()\u001b[0m\n\u001b[1;32m----> 1\u001b[1;33m \u001b[0mrshtruncgroup\u001b[0m \u001b[1;33m=\u001b[0m \u001b[0mrshtrunc\u001b[0m\u001b[1;33m.\u001b[0m\u001b[0mgroupby\u001b[0m\u001b[1;33m(\u001b[0m\u001b[1;34m'loanid'\u001b[0m\u001b[1;33m)\u001b[0m\u001b[1;33m\u001b[0m\u001b[0m\n\u001b[0m",
        "\u001b[1;31mNameError\u001b[0m: name 'rshtrunc' is not defined"
       ]
      }
     ],
     "prompt_number": 3
    },
    {
     "cell_type": "code",
     "collapsed": false,
     "input": [
      "lossamt = rshtruncgroup['netloss'].apply(sum)\n",
      "lossamt = lossamt.reset_index()\n",
      "lossamt = lossamt.rename(columns = {0:'lossamt'})"
     ],
     "language": "python",
     "metadata": {},
     "outputs": [],
     "prompt_number": 155
    },
    {
     "cell_type": "code",
     "collapsed": false,
     "input": [
      "expectedamt = rshtruncgroup['amount'].apply(sum)\n",
      "expectedamt = expectedamt.reset_index()\n",
      "expectedamt = expectedamt.rename(columns = {0:'expectedamt'})\n"
     ],
     "language": "python",
     "metadata": {},
     "outputs": [],
     "prompt_number": 156
    },
    {
     "cell_type": "code",
     "collapsed": false,
     "input": [
      "fractionlost = np.abs(lossamt.lossamt)/np.abs(expectedamt.expectedamt)\n"
     ],
     "language": "python",
     "metadata": {},
     "outputs": [],
     "prompt_number": 157
    },
    {
     "cell_type": "code",
     "collapsed": false,
     "input": [
      "compinfo = expectedamt\n",
      "compinfo['lossamt'] = lossamt.lossamt\n",
      "compinfo['fractionlost'] = fractionlost\n",
      "compinfo = compinfo[compinfo.expectedamt != 0]\n",
      "compinfo.head()\n"
     ],
     "language": "python",
     "metadata": {},
     "outputs": [
      {
       "html": [
        "<div style=\"max-height:1000px;max-width:1500px;overflow:auto;\">\n",
        "<table border=\"1\" class=\"dataframe\">\n",
        "  <thead>\n",
        "    <tr style=\"text-align: right;\">\n",
        "      <th></th>\n",
        "      <th>loanid</th>\n",
        "      <th>expectedamt</th>\n",
        "      <th>lossamt</th>\n",
        "      <th>fractionlost</th>\n",
        "    </tr>\n",
        "  </thead>\n",
        "  <tbody>\n",
        "    <tr>\n",
        "      <th>0</th>\n",
        "      <td> 10</td>\n",
        "      <td>   23527.163325</td>\n",
        "      <td>   -7727.163325</td>\n",
        "      <td> 0.328436</td>\n",
        "    </tr>\n",
        "    <tr>\n",
        "      <th>1</th>\n",
        "      <td> 17</td>\n",
        "      <td> 5193985.383895</td>\n",
        "      <td>-2979813.383895</td>\n",
        "      <td> 0.573705</td>\n",
        "    </tr>\n",
        "    <tr>\n",
        "      <th>2</th>\n",
        "      <td> 20</td>\n",
        "      <td> 2001760.609084</td>\n",
        "      <td> -328260.609084</td>\n",
        "      <td> 0.163986</td>\n",
        "    </tr>\n",
        "    <tr>\n",
        "      <th>3</th>\n",
        "      <td> 21</td>\n",
        "      <td> 4489205.227101</td>\n",
        "      <td>-2189205.227101</td>\n",
        "      <td> 0.487660</td>\n",
        "    </tr>\n",
        "    <tr>\n",
        "      <th>4</th>\n",
        "      <td> 22</td>\n",
        "      <td>  457832.145900</td>\n",
        "      <td>  -89032.145900</td>\n",
        "      <td> 0.194465</td>\n",
        "    </tr>\n",
        "  </tbody>\n",
        "</table>\n",
        "<p>5 rows \u00d7 4 columns</p>\n",
        "</div>"
       ],
       "metadata": {},
       "output_type": "pyout",
       "prompt_number": 195,
       "text": [
        "   loanid     expectedamt         lossamt  fractionlost\n",
        "0      10    23527.163325    -7727.163325      0.328436\n",
        "1      17  5193985.383895 -2979813.383895      0.573705\n",
        "2      20  2001760.609084  -328260.609084      0.163986\n",
        "3      21  4489205.227101 -2189205.227101      0.487660\n",
        "4      22   457832.145900   -89032.145900      0.194465\n",
        "\n",
        "[5 rows x 4 columns]"
       ]
      }
     ],
     "prompt_number": 195
    },
    {
     "cell_type": "code",
     "collapsed": false,
     "input": [
      "borrowers.head()"
     ],
     "language": "python",
     "metadata": {},
     "outputs": [
      {
       "html": [
        "<div style=\"max-height:1000px;max-width:1500px;overflow:auto;\">\n",
        "<table border=\"1\" class=\"dataframe\">\n",
        "  <thead>\n",
        "    <tr style=\"text-align: right;\">\n",
        "      <th></th>\n",
        "      <th>userid</th>\n",
        "      <th>FirstName</th>\n",
        "      <th>LastName</th>\n",
        "      <th>Paddress</th>\n",
        "      <th>City</th>\n",
        "      <th>Country</th>\n",
        "      <th>TelMobile</th>\n",
        "      <th>AltTelMobile</th>\n",
        "      <th>referred_by</th>\n",
        "      <th>email</th>\n",
        "      <th>AnnualIncome</th>\n",
        "      <th>About</th>\n",
        "      <th>tr_About</th>\n",
        "      <th>BizDesc</th>\n",
        "      <th>tr_BizDesc</th>\n",
        "      <th>Active</th>\n",
        "      <th>Photo</th>\n",
        "      <th>PartnerId</th>\n",
        "      <th>ActiveLoan</th>\n",
        "      <th>currency</th>\n",
        "      <th></th>\n",
        "    </tr>\n",
        "  </thead>\n",
        "  <tbody>\n",
        "    <tr>\n",
        "      <th>0</th>\n",
        "      <td> 129</td>\n",
        "      <td>   John Mopel</td>\n",
        "      <td>  Napais</td>\n",
        "      <td>                             Oloolaimuitia Centre</td>\n",
        "      <td>             Oloolaimuitia,</td>\n",
        "      <td> KE</td>\n",
        "      <td>   721979126</td>\n",
        "      <td> NaN</td>\n",
        "      <td> NaN</td>\n",
        "      <td>        jnapais@yahoo.com</td>\n",
        "      <td>  360000</td>\n",
        "      <td> He is married with one wife and five children,...</td>\n",
        "      <td>                                               NaN</td>\n",
        "      <td> Businessman at Oloolaimutia Centre running a p...</td>\n",
        "      <td>                                               NaN</td>\n",
        "      <td> 1</td>\n",
        "      <td>NaN</td>\n",
        "      <td> 92</td>\n",
        "      <td> 4</td>\n",
        "      <td>   0</td>\n",
        "      <td>...</td>\n",
        "    </tr>\n",
        "    <tr>\n",
        "      <th>1</th>\n",
        "      <td> 130</td>\n",
        "      <td>  Nkuyata ole</td>\n",
        "      <td> Lionyio</td>\n",
        "      <td>                             Oloolaimuitia Centre</td>\n",
        "      <td> Oloolaimuitia, Maasai Mara</td>\n",
        "      <td> KE</td>\n",
        "      <td>   726091454</td>\n",
        "      <td> NaN</td>\n",
        "      <td> NaN</td>\n",
        "      <td>    erickmuntet@yahoo.com</td>\n",
        "      <td>  432000</td>\n",
        "      <td> Businessman at Oloolaimutia Centre who buys sm...</td>\n",
        "      <td>                                               NaN</td>\n",
        "      <td> He started business in the year 2003 with 3 ca...</td>\n",
        "      <td>                                               NaN</td>\n",
        "      <td> 1</td>\n",
        "      <td>NaN</td>\n",
        "      <td> 92</td>\n",
        "      <td> 4</td>\n",
        "      <td>   0</td>\n",
        "      <td>...</td>\n",
        "    </tr>\n",
        "    <tr>\n",
        "      <th>2</th>\n",
        "      <td> 131</td>\n",
        "      <td>   Pashar ole</td>\n",
        "      <td>    Mpoe</td>\n",
        "      <td>                             Oloolaimuitia Centre</td>\n",
        "      <td> Oloolaimuitia, Maasai Mara</td>\n",
        "      <td> KE</td>\n",
        "      <td>   718330039</td>\n",
        "      <td> NaN</td>\n",
        "      <td> NaN</td>\n",
        "      <td> johnsonkuyioni@yahoo.com</td>\n",
        "      <td>  480000</td>\n",
        "      <td> Businessman at Oloolaimutia Centre but also pr...</td>\n",
        "      <td>                                               NaN</td>\n",
        "      <td> He started business in the year 2005 with a ca...</td>\n",
        "      <td>                                               NaN</td>\n",
        "      <td> 1</td>\n",
        "      <td>NaN</td>\n",
        "      <td> 92</td>\n",
        "      <td> 4</td>\n",
        "      <td>   0</td>\n",
        "      <td>...</td>\n",
        "    </tr>\n",
        "    <tr>\n",
        "      <th>3</th>\n",
        "      <td> 146</td>\n",
        "      <td> Ndeye Bineta</td>\n",
        "      <td>    Sarr</td>\n",
        "      <td> Unit\u00e9 2, n\u00b0 172, Parcelles Assainies, Gu\u00e9diawaye</td>\n",
        "      <td>                      Dakar</td>\n",
        "      <td> SN</td>\n",
        "      <td> 22177792610</td>\n",
        "      <td> NaN</td>\n",
        "      <td> NaN</td>\n",
        "      <td>  binetacarabane@yahoo.fr</td>\n",
        "      <td>  200000</td>\n",
        "      <td> Je suis une \u00e9pouse et m\u00e8re de trois enfants (d...</td>\n",
        "      <td> I am a wife and mother of 3 children (2 boys a...</td>\n",
        "      <td> Je suis une \u00e9pouse et m\u00e8re de trois enfants (d...</td>\n",
        "      <td> I am a wife and mother of 3 children (2 boys a...</td>\n",
        "      <td> 1</td>\n",
        "      <td>NaN</td>\n",
        "      <td> 92</td>\n",
        "      <td> 2</td>\n",
        "      <td> 193</td>\n",
        "      <td>...</td>\n",
        "    </tr>\n",
        "    <tr>\n",
        "      <th>4</th>\n",
        "      <td> 147</td>\n",
        "      <td>          Awa</td>\n",
        "      <td>    Seck</td>\n",
        "      <td>                                  Yoff Ndeungagne</td>\n",
        "      <td>                      Dakar</td>\n",
        "      <td> SN</td>\n",
        "      <td> 22176485939</td>\n",
        "      <td> NaN</td>\n",
        "      <td> NaN</td>\n",
        "      <td>      awaevaseck@yahoo.fr</td>\n",
        "      <td> 1000000</td>\n",
        "      <td> I attended school up until the sixth grade, th...</td>\n",
        "      <td>                                               NaN</td>\n",
        "      <td> I attended school up until the sixth grade, th...</td>\n",
        "      <td>                                               NaN</td>\n",
        "      <td> 1</td>\n",
        "      <td>NaN</td>\n",
        "      <td> 92</td>\n",
        "      <td> 4</td>\n",
        "      <td> 193</td>\n",
        "      <td>...</td>\n",
        "    </tr>\n",
        "  </tbody>\n",
        "</table>\n",
        "<p>5 rows \u00d7 57 columns</p>\n",
        "</div>"
       ],
       "metadata": {},
       "output_type": "pyout",
       "prompt_number": 164,
       "text": [
        "   userid     FirstName LastName  \\\n",
        "0     129    John Mopel   Napais   \n",
        "1     130   Nkuyata ole  Lionyio   \n",
        "2     131    Pashar ole     Mpoe   \n",
        "3     146  Ndeye Bineta     Sarr   \n",
        "4     147           Awa     Seck   \n",
        "\n",
        "                                           Paddress  \\\n",
        "0                              Oloolaimuitia Centre   \n",
        "1                              Oloolaimuitia Centre   \n",
        "2                              Oloolaimuitia Centre   \n",
        "3  Unit\u00e9 2, n\u00b0 172, Parcelles Assainies, Gu\u00e9diawaye   \n",
        "4                                   Yoff Ndeungagne   \n",
        "\n",
        "                         City Country    TelMobile AltTelMobile referred_by  \\\n",
        "0              Oloolaimuitia,      KE    721979126          NaN         NaN   \n",
        "1  Oloolaimuitia, Maasai Mara      KE    726091454          NaN         NaN   \n",
        "2  Oloolaimuitia, Maasai Mara      KE    718330039          NaN         NaN   \n",
        "3                       Dakar      SN  22177792610          NaN         NaN   \n",
        "4                       Dakar      SN  22176485939          NaN         NaN   \n",
        "\n",
        "                      email  AnnualIncome  \\\n",
        "0         jnapais@yahoo.com        360000   \n",
        "1     erickmuntet@yahoo.com        432000   \n",
        "2  johnsonkuyioni@yahoo.com        480000   \n",
        "3   binetacarabane@yahoo.fr        200000   \n",
        "4       awaevaseck@yahoo.fr       1000000   \n",
        "\n",
        "                                               About  \\\n",
        "0  He is married with one wife and five children,...   \n",
        "1  Businessman at Oloolaimutia Centre who buys sm...   \n",
        "2  Businessman at Oloolaimutia Centre but also pr...   \n",
        "3  Je suis une \u00e9pouse et m\u00e8re de trois enfants (d...   \n",
        "4  I attended school up until the sixth grade, th...   \n",
        "\n",
        "                                            tr_About  \\\n",
        "0                                                NaN   \n",
        "1                                                NaN   \n",
        "2                                                NaN   \n",
        "3  I am a wife and mother of 3 children (2 boys a...   \n",
        "4                                                NaN   \n",
        "\n",
        "                                             BizDesc  \\\n",
        "0  Businessman at Oloolaimutia Centre running a p...   \n",
        "1  He started business in the year 2003 with 3 ca...   \n",
        "2  He started business in the year 2005 with a ca...   \n",
        "3  Je suis une \u00e9pouse et m\u00e8re de trois enfants (d...   \n",
        "4  I attended school up until the sixth grade, th...   \n",
        "\n",
        "                                          tr_BizDesc  Active  Photo  \\\n",
        "0                                                NaN       1    NaN   \n",
        "1                                                NaN       1    NaN   \n",
        "2                                                NaN       1    NaN   \n",
        "3  I am a wife and mother of 3 children (2 boys a...       1    NaN   \n",
        "4                                                NaN       1    NaN   \n",
        "\n",
        "   PartnerId  ActiveLoan  currency      \n",
        "0         92           4         0 ...  \n",
        "1         92           4         0 ...  \n",
        "2         92           4         0 ...  \n",
        "3         92           2       193 ...  \n",
        "4         92           4       193 ...  \n",
        "\n",
        "[5 rows x 57 columns]"
       ]
      }
     ],
     "prompt_number": 164
    },
    {
     "cell_type": "code",
     "collapsed": false,
     "input": [
      "compinfo2 = pd.merge(compinfo,loanapplic,on = 'loanid')\n",
      "compinfo2 = pd.merge(compinfo2, borrowers, left_on = 'borrowerid', right_on = 'userid')\n"
     ],
     "language": "python",
     "metadata": {},
     "outputs": [],
     "prompt_number": 165
    },
    {
     "cell_type": "code",
     "collapsed": false,
     "input": [
      "compinfo2.columns"
     ],
     "language": "python",
     "metadata": {},
     "outputs": [
      {
       "metadata": {},
       "output_type": "pyout",
       "prompt_number": 168,
       "text": [
        "Index([u'loanid', u'expectedamt', u'lossamt', u'fractionlost', u'borrowerid', u'amount', u'interest', u'period', u'original_period', u'grace', u'summary', u'loanuse', u'tr_summary', u'tr_loanuse', u'tr_user', u'active', u'expires', u'finalrate', u'applydate', u'Acceptdate', u'Webfee', u'ActiveDate', u'RepaidDate', u'auth_date', u'p_amount', u'tnc', u'AmountGot', u'reqdamt', u'adminDelete', u'feedback_reminder', u'weekly_inst', u'installment_dat', u'installment_weekday', u'extra_days', u'expiry_mail', u'accept_bid_note', u'loan_category_id', u'secondary_loan_category_id', u'about_to_expire_notification', u'userid', u'FirstName', u'LastName', u'Paddress', u'City', u'Country', u'TelMobile', u'AltTelMobile', u'referred_by', u'email', u'AnnualIncome', u'About', u'tr_About', u'BizDesc', u'tr_BizDesc', u'Active', u'Photo', u'PartnerId', u'ActiveLoan', u'currency', u'activeLoanID', u'nationId', u'loanHist', u'Assigned_to', u'Assigned_date', u'Assigned_status', u'declined_reason', u'communityNameNo', u'frontNationalId', u'backNationalId', u'addressProof', u'legalDeclaration', u'legal_declaration2', u'islastrepaid', u'isdebtfree', u'iscomplete_later', u'lastVisited', u'admin_notes', u'borrower_behalf_id', u'share_update', u'Created', u'completed_on', u'LastModified', u'family_contact', u'neighbour_contact', u'grant_co', u'grant_co_date', u'grant_co_note', u'home_location', u'lending_inst_name', u'lending_inst_add', u'lending_inst_phone', u'lending_inst_officer', u'refer_member_name', u'endorder', u'introduction', u'sift_score'], dtype='object')"
       ]
      }
     ],
     "prompt_number": 168
    },
    {
     "cell_type": "code",
     "collapsed": false,
     "input": [
      "np.max(compinfo2.Acceptdate)"
     ],
     "language": "python",
     "metadata": {},
     "outputs": [
      {
       "metadata": {},
       "output_type": "pyout",
       "prompt_number": 174,
       "text": [
        "1404065453"
       ]
      }
     ],
     "prompt_number": 174
    },
    {
     "cell_type": "code",
     "collapsed": false,
     "input": [
      "datetime.fromtimestamp(1404065453)"
     ],
     "language": "python",
     "metadata": {},
     "outputs": [
      {
       "metadata": {},
       "output_type": "pyout",
       "prompt_number": 175,
       "text": [
        "datetime.datetime(2014, 6, 29, 11, 10, 53)"
       ]
      }
     ],
     "prompt_number": 175
    },
    {
     "cell_type": "code",
     "collapsed": false,
     "input": [
      "cuminterest = compinfo2.groupby('interest')\n",
      "cumloss = cuminterest['fractionlost'].apply(np.mean)\n",
      "cumint = cuminterest['interest'].apply(np.mean)"
     ],
     "language": "python",
     "metadata": {},
     "outputs": [],
     "prompt_number": 189
    },
    {
     "cell_type": "code",
     "collapsed": false,
     "input": [
      "plt.plot(cumint,cumloss)"
     ],
     "language": "python",
     "metadata": {},
     "outputs": [
      {
       "metadata": {},
       "output_type": "pyout",
       "prompt_number": 191,
       "text": [
        "[<matplotlib.lines.Line2D at 0x7f4836fc5190>]"
       ]
      }
     ],
     "prompt_number": 191
    },
    {
     "cell_type": "code",
     "collapsed": false,
     "input": [
      "plt.show()"
     ],
     "language": "python",
     "metadata": {},
     "outputs": [],
     "prompt_number": 192
    },
    {
     "cell_type": "code",
     "collapsed": false,
     "input": [
      "currdate = datetime.now()\n",
      "oneyeartime = time.mktime(currdate.timetuple()) - 365*24*3600\n",
      "oneyeartime"
     ],
     "language": "python",
     "metadata": {},
     "outputs": [
      {
       "metadata": {},
       "output_type": "pyout",
       "prompt_number": 214,
       "text": [
        "1378665279.0"
       ]
      }
     ],
     "prompt_number": 214
    },
    {
     "cell_type": "code",
     "collapsed": false,
     "input": [
      "np.max(compinfo2.Acceptdate)"
     ],
     "language": "python",
     "metadata": {},
     "outputs": [
      {
       "metadata": {},
       "output_type": "pyout",
       "prompt_number": 213,
       "text": [
        "1404065453"
       ]
      }
     ],
     "prompt_number": 213
    },
    {
     "cell_type": "code",
     "collapsed": false,
     "input": [
      "lastyear = compinfo2[compinfo2.Acceptdate > oneyeartime]"
     ],
     "language": "python",
     "metadata": {},
     "outputs": [],
     "prompt_number": 223
    },
    {
     "cell_type": "code",
     "collapsed": false,
     "input": [
      "lastyear[lastyear.fractionlost < 0.1].head()"
     ],
     "language": "python",
     "metadata": {},
     "outputs": [
      {
       "ename": "NameError",
       "evalue": "name 'lastyear' is not defined",
       "output_type": "pyerr",
       "traceback": [
        "\u001b[1;31m---------------------------------------------------------------------------\u001b[0m\n\u001b[1;31mNameError\u001b[0m                                 Traceback (most recent call last)",
        "\u001b[1;32m<ipython-input-1-d530be9a8822>\u001b[0m in \u001b[0;36m<module>\u001b[1;34m()\u001b[0m\n\u001b[1;32m----> 1\u001b[1;33m \u001b[0mlastyear\u001b[0m\u001b[1;33m[\u001b[0m\u001b[0mlastyear\u001b[0m\u001b[1;33m.\u001b[0m\u001b[0mfractionlost\u001b[0m \u001b[1;33m<\u001b[0m \u001b[1;36m0.1\u001b[0m\u001b[1;33m]\u001b[0m\u001b[1;33m.\u001b[0m\u001b[0mhead\u001b[0m\u001b[1;33m(\u001b[0m\u001b[1;33m)\u001b[0m\u001b[1;33m\u001b[0m\u001b[0m\n\u001b[0m",
        "\u001b[1;31mNameError\u001b[0m: name 'lastyear' is not defined"
       ]
      }
     ],
     "prompt_number": 1
    },
    {
     "cell_type": "code",
     "collapsed": false,
     "input": [
      "rsh[rsh.loanid == 3999]"
     ],
     "language": "python",
     "metadata": {},
     "outputs": [
      {
       "html": [
        "<div style=\"max-height:1000px;max-width:1500px;overflow:auto;\">\n",
        "<table border=\"1\" class=\"dataframe\">\n",
        "  <thead>\n",
        "    <tr style=\"text-align: right;\">\n",
        "      <th></th>\n",
        "      <th>id</th>\n",
        "      <th>repaymentschedule_id</th>\n",
        "      <th>forgiven_loans_id</th>\n",
        "      <th>reschedule_id</th>\n",
        "      <th>userid</th>\n",
        "      <th>loanid</th>\n",
        "      <th>duedate</th>\n",
        "      <th>amount</th>\n",
        "      <th>paiddate</th>\n",
        "      <th>paidamt</th>\n",
        "    </tr>\n",
        "  </thead>\n",
        "  <tbody>\n",
        "    <tr>\n",
        "      <th>29546</th>\n",
        "      <td> 30180</td>\n",
        "      <td> 56221</td>\n",
        "      <td>NaN</td>\n",
        "      <td> 1486</td>\n",
        "      <td> 369</td>\n",
        "      <td> 3999</td>\n",
        "      <td> 1382245200</td>\n",
        "      <td>    0.00000</td>\n",
        "      <td>NaN</td>\n",
        "      <td> 0</td>\n",
        "    </tr>\n",
        "    <tr>\n",
        "      <th>29547</th>\n",
        "      <td> 30181</td>\n",
        "      <td> 56222</td>\n",
        "      <td>NaN</td>\n",
        "      <td> 1486</td>\n",
        "      <td> 369</td>\n",
        "      <td> 3999</td>\n",
        "      <td> 1384923600</td>\n",
        "      <td> 8689.51029</td>\n",
        "      <td>NaN</td>\n",
        "      <td> 0</td>\n",
        "    </tr>\n",
        "    <tr>\n",
        "      <th>29548</th>\n",
        "      <td> 30182</td>\n",
        "      <td> 56223</td>\n",
        "      <td>NaN</td>\n",
        "      <td> 1486</td>\n",
        "      <td> 369</td>\n",
        "      <td> 3999</td>\n",
        "      <td> 1387515600</td>\n",
        "      <td> 8689.51029</td>\n",
        "      <td>NaN</td>\n",
        "      <td> 0</td>\n",
        "    </tr>\n",
        "    <tr>\n",
        "      <th>29549</th>\n",
        "      <td> 30183</td>\n",
        "      <td> 56224</td>\n",
        "      <td>NaN</td>\n",
        "      <td> 1486</td>\n",
        "      <td> 369</td>\n",
        "      <td> 3999</td>\n",
        "      <td> 1390194000</td>\n",
        "      <td> 8689.51029</td>\n",
        "      <td>NaN</td>\n",
        "      <td> 0</td>\n",
        "    </tr>\n",
        "    <tr>\n",
        "      <th>29550</th>\n",
        "      <td> 30184</td>\n",
        "      <td> 56225</td>\n",
        "      <td>NaN</td>\n",
        "      <td> 1486</td>\n",
        "      <td> 369</td>\n",
        "      <td> 3999</td>\n",
        "      <td> 1392872400</td>\n",
        "      <td> 8689.51029</td>\n",
        "      <td>NaN</td>\n",
        "      <td> 0</td>\n",
        "    </tr>\n",
        "    <tr>\n",
        "      <th>29551</th>\n",
        "      <td> 30185</td>\n",
        "      <td> 56226</td>\n",
        "      <td>NaN</td>\n",
        "      <td> 1486</td>\n",
        "      <td> 369</td>\n",
        "      <td> 3999</td>\n",
        "      <td> 1395291600</td>\n",
        "      <td> 8689.51029</td>\n",
        "      <td>NaN</td>\n",
        "      <td> 0</td>\n",
        "    </tr>\n",
        "    <tr>\n",
        "      <th>29552</th>\n",
        "      <td> 30186</td>\n",
        "      <td> 56227</td>\n",
        "      <td>NaN</td>\n",
        "      <td> 1486</td>\n",
        "      <td> 369</td>\n",
        "      <td> 3999</td>\n",
        "      <td> 1397970000</td>\n",
        "      <td> 8689.51029</td>\n",
        "      <td>NaN</td>\n",
        "      <td> 0</td>\n",
        "    </tr>\n",
        "    <tr>\n",
        "      <th>29553</th>\n",
        "      <td> 30187</td>\n",
        "      <td> 56228</td>\n",
        "      <td>NaN</td>\n",
        "      <td> 1486</td>\n",
        "      <td> 369</td>\n",
        "      <td> 3999</td>\n",
        "      <td> 1400562000</td>\n",
        "      <td> 8689.51029</td>\n",
        "      <td>NaN</td>\n",
        "      <td> 0</td>\n",
        "    </tr>\n",
        "    <tr>\n",
        "      <th>29554</th>\n",
        "      <td> 30188</td>\n",
        "      <td> 56229</td>\n",
        "      <td>NaN</td>\n",
        "      <td> 1486</td>\n",
        "      <td> 369</td>\n",
        "      <td> 3999</td>\n",
        "      <td> 1403240400</td>\n",
        "      <td> 8689.51029</td>\n",
        "      <td>NaN</td>\n",
        "      <td> 0</td>\n",
        "    </tr>\n",
        "    <tr>\n",
        "      <th>29555</th>\n",
        "      <td> 30189</td>\n",
        "      <td> 56230</td>\n",
        "      <td>NaN</td>\n",
        "      <td> 1486</td>\n",
        "      <td> 369</td>\n",
        "      <td> 3999</td>\n",
        "      <td> 1405832400</td>\n",
        "      <td> 8689.51029</td>\n",
        "      <td>NaN</td>\n",
        "      <td> 0</td>\n",
        "    </tr>\n",
        "    <tr>\n",
        "      <th>29556</th>\n",
        "      <td> 30190</td>\n",
        "      <td> 56231</td>\n",
        "      <td>NaN</td>\n",
        "      <td> 1486</td>\n",
        "      <td> 369</td>\n",
        "      <td> 3999</td>\n",
        "      <td> 1408510800</td>\n",
        "      <td> 8689.51029</td>\n",
        "      <td>NaN</td>\n",
        "      <td> 0</td>\n",
        "    </tr>\n",
        "    <tr>\n",
        "      <th>29557</th>\n",
        "      <td> 30191</td>\n",
        "      <td> 56232</td>\n",
        "      <td>NaN</td>\n",
        "      <td> 1486</td>\n",
        "      <td> 369</td>\n",
        "      <td> 3999</td>\n",
        "      <td> 1411189200</td>\n",
        "      <td> 8689.51029</td>\n",
        "      <td>NaN</td>\n",
        "      <td> 0</td>\n",
        "    </tr>\n",
        "  </tbody>\n",
        "</table>\n",
        "<p>12 rows \u00d7 10 columns</p>\n",
        "</div>"
       ],
       "metadata": {},
       "output_type": "pyout",
       "prompt_number": 225,
       "text": [
        "          id  repaymentschedule_id  forgiven_loans_id  reschedule_id  userid  \\\n",
        "29546  30180                 56221                NaN           1486     369   \n",
        "29547  30181                 56222                NaN           1486     369   \n",
        "29548  30182                 56223                NaN           1486     369   \n",
        "29549  30183                 56224                NaN           1486     369   \n",
        "29550  30184                 56225                NaN           1486     369   \n",
        "29551  30185                 56226                NaN           1486     369   \n",
        "29552  30186                 56227                NaN           1486     369   \n",
        "29553  30187                 56228                NaN           1486     369   \n",
        "29554  30188                 56229                NaN           1486     369   \n",
        "29555  30189                 56230                NaN           1486     369   \n",
        "29556  30190                 56231                NaN           1486     369   \n",
        "29557  30191                 56232                NaN           1486     369   \n",
        "\n",
        "       loanid     duedate      amount  paiddate  paidamt  \n",
        "29546    3999  1382245200     0.00000       NaN        0  \n",
        "29547    3999  1384923600  8689.51029       NaN        0  \n",
        "29548    3999  1387515600  8689.51029       NaN        0  \n",
        "29549    3999  1390194000  8689.51029       NaN        0  \n",
        "29550    3999  1392872400  8689.51029       NaN        0  \n",
        "29551    3999  1395291600  8689.51029       NaN        0  \n",
        "29552    3999  1397970000  8689.51029       NaN        0  \n",
        "29553    3999  1400562000  8689.51029       NaN        0  \n",
        "29554    3999  1403240400  8689.51029       NaN        0  \n",
        "29555    3999  1405832400  8689.51029       NaN        0  \n",
        "29556    3999  1408510800  8689.51029       NaN        0  \n",
        "29557    3999  1411189200  8689.51029       NaN        0  \n",
        "\n",
        "[12 rows x 10 columns]"
       ]
      }
     ],
     "prompt_number": 225
    },
    {
     "cell_type": "code",
     "collapsed": false,
     "input": [
      "accdate = lastyear.Acceptdate.reset_index()\n",
      "accdate = accdate.Acceptdate.apply(datetime.fromtimestamp)\n",
      "fraclost = lastyear.fractionlost.reset_index()"
     ],
     "language": "python",
     "metadata": {},
     "outputs": [],
     "prompt_number": 264
    },
    {
     "cell_type": "code",
     "collapsed": false,
     "input": [
      "accdate"
     ],
     "language": "python",
     "metadata": {},
     "outputs": [
      {
       "metadata": {},
       "output_type": "pyout",
       "prompt_number": 270,
       "text": [
        "0    2013-10-11 01:45:03\n",
        "1    2013-12-06 03:06:36\n",
        "2    2014-03-23 06:00:52\n",
        "3    2014-02-20 16:19:51\n",
        "4    2013-10-14 23:11:46\n",
        "5    2014-06-16 22:55:16\n",
        "6    2013-12-26 07:15:23\n",
        "7    2013-12-14 07:31:34\n",
        "8    2013-09-19 13:27:43\n",
        "9    2014-03-24 22:13:40\n",
        "10   2014-01-01 22:28:54\n",
        "11   2014-03-02 05:21:26\n",
        "12   2013-10-24 03:46:25\n",
        "13   2013-10-08 12:35:55\n",
        "14   2013-10-23 05:58:06\n",
        "...\n",
        "1317   2014-06-18 21:13:36\n",
        "1318   2014-06-20 10:28:54\n",
        "1319   2014-06-18 21:17:29\n",
        "1320   2014-06-20 12:14:41\n",
        "1321   2014-06-29 11:10:53\n",
        "1322   2014-06-24 02:22:45\n",
        "1323   2014-06-27 01:59:44\n",
        "1324   2014-06-22 07:38:21\n",
        "1325   2014-06-22 22:53:57\n",
        "1326   2014-06-23 01:21:05\n",
        "1327   2014-06-22 06:28:02\n",
        "1328   2014-06-23 06:02:16\n",
        "1329   2014-06-25 08:05:47\n",
        "1330   2014-06-24 20:36:17\n",
        "1331   2014-06-27 19:02:46\n",
        "Name: Acceptdate, Length: 1332, dtype: datetime64[ns]"
       ]
      }
     ],
     "prompt_number": 270
    },
    {
     "cell_type": "code",
     "collapsed": false,
     "input": [
      "fraclost = lastyear.fractionlost.tolist()"
     ],
     "language": "python",
     "metadata": {},
     "outputs": [],
     "prompt_number": 311
    },
    {
     "cell_type": "code",
     "collapsed": false,
     "input": [
      "plt.hist(fraclost, bins = np.linspace(0,1,20))\n",
      "plt.xlabel('Percentage of Investment Lost')\n",
      "plt.ylabel('Counts')"
     ],
     "language": "python",
     "metadata": {},
     "outputs": [
      {
       "metadata": {},
       "output_type": "pyout",
       "prompt_number": 316,
       "text": [
        "<matplotlib.text.Text at 0x7f4834fb8610>"
       ]
      }
     ],
     "prompt_number": 316
    },
    {
     "cell_type": "code",
     "collapsed": false,
     "input": [
      "plt.show()"
     ],
     "language": "python",
     "metadata": {},
     "outputs": [],
     "prompt_number": 317
    },
    {
     "cell_type": "code",
     "collapsed": false,
     "input": [
      "plt.show()"
     ],
     "language": "python",
     "metadata": {},
     "outputs": [],
     "prompt_number": 303
    },
    {
     "cell_type": "code",
     "collapsed": false,
     "input": [
      "np.var(lastyear.fractionlost)"
     ],
     "language": "python",
     "metadata": {},
     "outputs": [
      {
       "metadata": {},
       "output_type": "pyout",
       "prompt_number": 231,
       "text": [
        "0.1132009975802004"
       ]
      }
     ],
     "prompt_number": 231
    },
    {
     "cell_type": "code",
     "collapsed": false,
     "input": [
      "rshtotime = rsh.duedate.apply(datetime.fromtimestamp)"
     ],
     "language": "python",
     "metadata": {},
     "outputs": [],
     "prompt_number": 25
    },
    {
     "cell_type": "code",
     "collapsed": false,
     "input": [
      "s = '01/01/2014'\n",
      "time.mktime(datetime.strptime(s, \"%d/%m/%Y\").timetuple())"
     ],
     "language": "python",
     "metadata": {},
     "outputs": [
      {
       "metadata": {},
       "output_type": "pyout",
       "prompt_number": 30,
       "text": [
        "1388563200.0"
       ]
      }
     ],
     "prompt_number": 30
    },
    {
     "cell_type": "code",
     "collapsed": false,
     "input": [
      "rsa.head()"
     ],
     "language": "python",
     "metadata": {},
     "outputs": [
      {
       "html": [
        "<div style=\"max-height:1000px;max-width:1500px;overflow:auto;\">\n",
        "<table border=\"1\" class=\"dataframe\">\n",
        "  <thead>\n",
        "    <tr style=\"text-align: right;\">\n",
        "      <th></th>\n",
        "      <th>id</th>\n",
        "      <th>rid</th>\n",
        "      <th>userid</th>\n",
        "      <th>loanid</th>\n",
        "      <th>paiddate</th>\n",
        "      <th>paidamt</th>\n",
        "    </tr>\n",
        "  </thead>\n",
        "  <tbody>\n",
        "    <tr>\n",
        "      <th>0</th>\n",
        "      <td> 1</td>\n",
        "      <td> 2</td>\n",
        "      <td> 129</td>\n",
        "      <td> 1</td>\n",
        "      <td> 1258268400</td>\n",
        "      <td> 5270</td>\n",
        "    </tr>\n",
        "    <tr>\n",
        "      <th>1</th>\n",
        "      <td> 2</td>\n",
        "      <td> 3</td>\n",
        "      <td> 129</td>\n",
        "      <td> 1</td>\n",
        "      <td> 1260860400</td>\n",
        "      <td> 5270</td>\n",
        "    </tr>\n",
        "    <tr>\n",
        "      <th>2</th>\n",
        "      <td> 3</td>\n",
        "      <td> 4</td>\n",
        "      <td> 129</td>\n",
        "      <td> 1</td>\n",
        "      <td> 1263711600</td>\n",
        "      <td> 5270</td>\n",
        "    </tr>\n",
        "    <tr>\n",
        "      <th>3</th>\n",
        "      <td> 4</td>\n",
        "      <td> 5</td>\n",
        "      <td> 129</td>\n",
        "      <td> 1</td>\n",
        "      <td> 1267772400</td>\n",
        "      <td> 5270</td>\n",
        "    </tr>\n",
        "    <tr>\n",
        "      <th>4</th>\n",
        "      <td> 5</td>\n",
        "      <td> 6</td>\n",
        "      <td> 129</td>\n",
        "      <td> 1</td>\n",
        "      <td> 1270620000</td>\n",
        "      <td> 5270</td>\n",
        "    </tr>\n",
        "  </tbody>\n",
        "</table>\n",
        "<p>5 rows \u00d7 6 columns</p>\n",
        "</div>"
       ],
       "metadata": {},
       "output_type": "pyout",
       "prompt_number": 7,
       "text": [
        "   id  rid  userid  loanid    paiddate  paidamt\n",
        "0   1    2     129       1  1258268400     5270\n",
        "1   2    3     129       1  1260860400     5270\n",
        "2   3    4     129       1  1263711600     5270\n",
        "3   4    5     129       1  1267772400     5270\n",
        "4   5    6     129       1  1270620000     5270\n",
        "\n",
        "[5 rows x 6 columns]"
       ]
      }
     ],
     "prompt_number": 7
    },
    {
     "cell_type": "code",
     "collapsed": false,
     "input": [
      "countrycurrency = excratedf[excratedf['currency']==24]"
     ],
     "language": "python",
     "metadata": {},
     "outputs": [],
     "prompt_number": 223
    },
    {
     "cell_type": "code",
     "collapsed": false,
     "input": [],
     "language": "python",
     "metadata": {},
     "outputs": []
    },
    {
     "cell_type": "code",
     "collapsed": false,
     "input": [
      "sortcc = countrycurrency.sort('start').reset_index()\n"
     ],
     "language": "python",
     "metadata": {},
     "outputs": [],
     "prompt_number": 228
    },
    {
     "cell_type": "code",
     "collapsed": false,
     "input": [
      "sortcc"
     ],
     "language": "python",
     "metadata": {},
     "outputs": [
      {
       "html": [
        "<div style=\"max-height:1000px;max-width:1500px;overflow:auto;\">\n",
        "<table border=\"1\" class=\"dataframe\">\n",
        "  <thead>\n",
        "    <tr style=\"text-align: right;\">\n",
        "      <th></th>\n",
        "      <th>index</th>\n",
        "      <th>rate</th>\n",
        "      <th>start</th>\n",
        "      <th>stop</th>\n",
        "      <th>id</th>\n",
        "      <th>currency</th>\n",
        "    </tr>\n",
        "  </thead>\n",
        "  <tbody>\n",
        "    <tr>\n",
        "      <th>0 </th>\n",
        "      <td> 66</td>\n",
        "      <td> 524.029</td>\n",
        "      <td> 1345835755</td>\n",
        "      <td> 1346498354</td>\n",
        "      <td> 101</td>\n",
        "      <td> 24</td>\n",
        "    </tr>\n",
        "    <tr>\n",
        "      <th>1 </th>\n",
        "      <td> 87</td>\n",
        "      <td> 512.640</td>\n",
        "      <td> 1346498354</td>\n",
        "      <td> 1349088270</td>\n",
        "      <td> 105</td>\n",
        "      <td> 24</td>\n",
        "    </tr>\n",
        "    <tr>\n",
        "      <th>2 </th>\n",
        "      <td> 70</td>\n",
        "      <td> 500.010</td>\n",
        "      <td> 1349088270</td>\n",
        "      <td> 1351821198</td>\n",
        "      <td> 113</td>\n",
        "      <td> 24</td>\n",
        "    </tr>\n",
        "    <tr>\n",
        "      <th>3 </th>\n",
        "      <td> 79</td>\n",
        "      <td> 505.409</td>\n",
        "      <td> 1351821198</td>\n",
        "      <td> 1354363314</td>\n",
        "      <td> 122</td>\n",
        "      <td> 24</td>\n",
        "    </tr>\n",
        "    <tr>\n",
        "      <th>4 </th>\n",
        "      <td> 83</td>\n",
        "      <td> 505.788</td>\n",
        "      <td> 1354363314</td>\n",
        "      <td> 1357060624</td>\n",
        "      <td> 131</td>\n",
        "      <td> 24</td>\n",
        "    </tr>\n",
        "    <tr>\n",
        "      <th>5 </th>\n",
        "      <td> 68</td>\n",
        "      <td> 496.803</td>\n",
        "      <td> 1357060624</td>\n",
        "      <td> 1359717664</td>\n",
        "      <td> 140</td>\n",
        "      <td> 24</td>\n",
        "    </tr>\n",
        "    <tr>\n",
        "      <th>6 </th>\n",
        "      <td> 64</td>\n",
        "      <td> 483.672</td>\n",
        "      <td> 1359717664</td>\n",
        "      <td> 1362146210</td>\n",
        "      <td> 149</td>\n",
        "      <td> 24</td>\n",
        "    </tr>\n",
        "    <tr>\n",
        "      <th>7 </th>\n",
        "      <td> 72</td>\n",
        "      <td> 499.855</td>\n",
        "      <td> 1362146210</td>\n",
        "      <td> 1364811329</td>\n",
        "      <td> 158</td>\n",
        "      <td> 24</td>\n",
        "    </tr>\n",
        "    <tr>\n",
        "      <th>8 </th>\n",
        "      <td> 73</td>\n",
        "      <td> 511.570</td>\n",
        "      <td> 1364811329</td>\n",
        "      <td> 1367405639</td>\n",
        "      <td> 167</td>\n",
        "      <td> 24</td>\n",
        "    </tr>\n",
        "    <tr>\n",
        "      <th>9 </th>\n",
        "      <td> 69</td>\n",
        "      <td> 501.249</td>\n",
        "      <td> 1367405639</td>\n",
        "      <td> 1370094884</td>\n",
        "      <td> 176</td>\n",
        "      <td> 24</td>\n",
        "    </tr>\n",
        "    <tr>\n",
        "      <th>10</th>\n",
        "      <td> 67</td>\n",
        "      <td> 503.676</td>\n",
        "      <td> 1370094884</td>\n",
        "      <td> 1372679067</td>\n",
        "      <td> 187</td>\n",
        "      <td> 24</td>\n",
        "    </tr>\n",
        "    <tr>\n",
        "      <th>11</th>\n",
        "      <td> 65</td>\n",
        "      <td> 501.450</td>\n",
        "      <td> 1372679067</td>\n",
        "      <td> 1375346882</td>\n",
        "      <td> 194</td>\n",
        "      <td> 24</td>\n",
        "    </tr>\n",
        "    <tr>\n",
        "      <th>12</th>\n",
        "      <td> 85</td>\n",
        "      <td> 494.751</td>\n",
        "      <td> 1375346882</td>\n",
        "      <td> 1378077347</td>\n",
        "      <td> 203</td>\n",
        "      <td> 24</td>\n",
        "    </tr>\n",
        "    <tr>\n",
        "      <th>13</th>\n",
        "      <td> 88</td>\n",
        "      <td> 496.150</td>\n",
        "      <td> 1378077347</td>\n",
        "      <td> 1380626724</td>\n",
        "      <td> 214</td>\n",
        "      <td> 24</td>\n",
        "    </tr>\n",
        "    <tr>\n",
        "      <th>14</th>\n",
        "      <td> 84</td>\n",
        "      <td> 486.037</td>\n",
        "      <td> 1380626724</td>\n",
        "      <td> 1383307288</td>\n",
        "      <td> 226</td>\n",
        "      <td> 24</td>\n",
        "    </tr>\n",
        "    <tr>\n",
        "      <th>15</th>\n",
        "      <td> 82</td>\n",
        "      <td> 478.948</td>\n",
        "      <td> 1383307288</td>\n",
        "      <td> 1385904890</td>\n",
        "      <td> 235</td>\n",
        "      <td> 24</td>\n",
        "    </tr>\n",
        "    <tr>\n",
        "      <th>16</th>\n",
        "      <td> 81</td>\n",
        "      <td> 482.570</td>\n",
        "      <td> 1385904890</td>\n",
        "      <td> 1388585789</td>\n",
        "      <td> 244</td>\n",
        "      <td> 24</td>\n",
        "    </tr>\n",
        "    <tr>\n",
        "      <th>17</th>\n",
        "      <td> 78</td>\n",
        "      <td> 475.695</td>\n",
        "      <td> 1388585789</td>\n",
        "      <td> 1391262412</td>\n",
        "      <td> 254</td>\n",
        "      <td> 24</td>\n",
        "    </tr>\n",
        "    <tr>\n",
        "      <th>18</th>\n",
        "      <td> 77</td>\n",
        "      <td> 484.852</td>\n",
        "      <td> 1391262412</td>\n",
        "      <td> 1393688110</td>\n",
        "      <td> 265</td>\n",
        "      <td> 24</td>\n",
        "    </tr>\n",
        "    <tr>\n",
        "      <th>19</th>\n",
        "      <td> 75</td>\n",
        "      <td> 476.992</td>\n",
        "      <td> 1393688110</td>\n",
        "      <td> 1396366717</td>\n",
        "      <td> 275</td>\n",
        "      <td> 24</td>\n",
        "    </tr>\n",
        "    <tr>\n",
        "      <th>20</th>\n",
        "      <td> 74</td>\n",
        "      <td> 476.193</td>\n",
        "      <td> 1396366717</td>\n",
        "      <td> 1398943798</td>\n",
        "      <td> 284</td>\n",
        "      <td> 24</td>\n",
        "    </tr>\n",
        "    <tr>\n",
        "      <th>21</th>\n",
        "      <td> 76</td>\n",
        "      <td> 474.644</td>\n",
        "      <td> 1398943798</td>\n",
        "      <td> 1401738872</td>\n",
        "      <td> 295</td>\n",
        "      <td> 24</td>\n",
        "    </tr>\n",
        "    <tr>\n",
        "      <th>22</th>\n",
        "      <td> 80</td>\n",
        "      <td> 482.121</td>\n",
        "      <td> 1401738872</td>\n",
        "      <td> 1404210948</td>\n",
        "      <td> 304</td>\n",
        "      <td> 24</td>\n",
        "    </tr>\n",
        "    <tr>\n",
        "      <th>23</th>\n",
        "      <td> 86</td>\n",
        "      <td> 480.645</td>\n",
        "      <td> 1404210948</td>\n",
        "      <td> 1406886214</td>\n",
        "      <td> 313</td>\n",
        "      <td> 24</td>\n",
        "    </tr>\n",
        "    <tr>\n",
        "      <th>24</th>\n",
        "      <td> 63</td>\n",
        "      <td> 489.866</td>\n",
        "      <td> 1406886214</td>\n",
        "      <td> 1409575435</td>\n",
        "      <td> 322</td>\n",
        "      <td> 24</td>\n",
        "    </tr>\n",
        "    <tr>\n",
        "      <th>25</th>\n",
        "      <td> 71</td>\n",
        "      <td> 499.440</td>\n",
        "      <td> 1409575435</td>\n",
        "      <td>        NaN</td>\n",
        "      <td> 331</td>\n",
        "      <td> 24</td>\n",
        "    </tr>\n",
        "  </tbody>\n",
        "</table>\n",
        "<p>26 rows \u00d7 6 columns</p>\n",
        "</div>"
       ],
       "metadata": {},
       "output_type": "pyout",
       "prompt_number": 229,
       "text": [
        "    index     rate       start        stop   id  currency\n",
        "0      66  524.029  1345835755  1346498354  101        24\n",
        "1      87  512.640  1346498354  1349088270  105        24\n",
        "2      70  500.010  1349088270  1351821198  113        24\n",
        "3      79  505.409  1351821198  1354363314  122        24\n",
        "4      83  505.788  1354363314  1357060624  131        24\n",
        "5      68  496.803  1357060624  1359717664  140        24\n",
        "6      64  483.672  1359717664  1362146210  149        24\n",
        "7      72  499.855  1362146210  1364811329  158        24\n",
        "8      73  511.570  1364811329  1367405639  167        24\n",
        "9      69  501.249  1367405639  1370094884  176        24\n",
        "10     67  503.676  1370094884  1372679067  187        24\n",
        "11     65  501.450  1372679067  1375346882  194        24\n",
        "12     85  494.751  1375346882  1378077347  203        24\n",
        "13     88  496.150  1378077347  1380626724  214        24\n",
        "14     84  486.037  1380626724  1383307288  226        24\n",
        "15     82  478.948  1383307288  1385904890  235        24\n",
        "16     81  482.570  1385904890  1388585789  244        24\n",
        "17     78  475.695  1388585789  1391262412  254        24\n",
        "18     77  484.852  1391262412  1393688110  265        24\n",
        "19     75  476.992  1393688110  1396366717  275        24\n",
        "20     74  476.193  1396366717  1398943798  284        24\n",
        "21     76  474.644  1398943798  1401738872  295        24\n",
        "22     80  482.121  1401738872  1404210948  304        24\n",
        "23     86  480.645  1404210948  1406886214  313        24\n",
        "24     63  489.866  1406886214  1409575435  322        24\n",
        "25     71  499.440  1409575435         NaN  331        24\n",
        "\n",
        "[26 rows x 6 columns]"
       ]
      }
     ],
     "prompt_number": 229
    },
    {
     "cell_type": "code",
     "collapsed": false,
     "input": [
      "relexcrate = []\n",
      "i = 0\n",
      "for date in sortcc['start']:\n",
      "    enddate = date + 6*30*24*3600\n",
      "    if enddate <= np.max(sortcc['stop']):\n",
      "        beginrate = sortcc.ix[(sortcc.start-date).abs().argsort()[:1]]\n",
      "        endrate = sortcc.ix[(sortcc.stop-enddate).abs().argsort()[:1]]\n",
      "    \n",
      "    relexcrate.append(endrate.iloc[0]['rate']/beginrate.iloc[0]['rate'])\n",
      "\n",
      "        \n",
      "        \n",
      "        \n",
      "    "
     ],
     "language": "python",
     "metadata": {},
     "outputs": [],
     "prompt_number": 234
    },
    {
     "cell_type": "code",
     "collapsed": false,
     "input": [
      "date = 1345835755\n",
      "date"
     ],
     "language": "python",
     "metadata": {},
     "outputs": [
      {
       "metadata": {},
       "output_type": "pyout",
       "prompt_number": 235,
       "text": [
        "1345835755"
       ]
      }
     ],
     "prompt_number": 235
    },
    {
     "cell_type": "code",
     "collapsed": false,
     "input": [
      "enddate = date + 6*30*24*3600\n",
      "enddate"
     ],
     "language": "python",
     "metadata": {},
     "outputs": [
      {
       "metadata": {},
       "output_type": "pyout",
       "prompt_number": 236,
       "text": [
        "1361387755"
       ]
      }
     ],
     "prompt_number": 236
    },
    {
     "cell_type": "code",
     "collapsed": false,
     "input": [
      "endrate = sortcc.ix[(sortcc.stop-enddate).abs().argsort()[:1]]\n",
      "endrate"
     ],
     "language": "python",
     "metadata": {},
     "outputs": [
      {
       "html": [
        "<div style=\"max-height:1000px;max-width:1500px;overflow:auto;\">\n",
        "<table border=\"1\" class=\"dataframe\">\n",
        "  <thead>\n",
        "    <tr style=\"text-align: right;\">\n",
        "      <th></th>\n",
        "      <th>index</th>\n",
        "      <th>rate</th>\n",
        "      <th>start</th>\n",
        "      <th>stop</th>\n",
        "      <th>id</th>\n",
        "      <th>currency</th>\n",
        "    </tr>\n",
        "  </thead>\n",
        "  <tbody>\n",
        "    <tr>\n",
        "      <th>6</th>\n",
        "      <td> 64</td>\n",
        "      <td> 483.672</td>\n",
        "      <td> 1359717664</td>\n",
        "      <td> 1362146210</td>\n",
        "      <td> 149</td>\n",
        "      <td> 24</td>\n",
        "    </tr>\n",
        "  </tbody>\n",
        "</table>\n",
        "<p>1 rows \u00d7 6 columns</p>\n",
        "</div>"
       ],
       "metadata": {},
       "output_type": "pyout",
       "prompt_number": 237,
       "text": [
        "   index     rate       start        stop   id  currency\n",
        "6     64  483.672  1359717664  1362146210  149        24\n",
        "\n",
        "[1 rows x 6 columns]"
       ]
      }
     ],
     "prompt_number": 237
    },
    {
     "cell_type": "code",
     "collapsed": false,
     "input": [
      "relexcrate"
     ],
     "language": "python",
     "metadata": {},
     "outputs": [
      {
       "metadata": {},
       "output_type": "pyout",
       "prompt_number": 239,
       "text": [
        "[0.92298708659253581,\n",
        " 0.94349250936329587,\n",
        " 0.99969000619987602,\n",
        " 1.0121901272039082,\n",
        " 0.9910258843626184,\n",
        " 1.0138344575213916,\n",
        " 1.0367563141963976,\n",
        " 0.98978903882125813,\n",
        " 0.96985749750767247,\n",
        " 0.96965180977917154,\n",
        " 0.95090494683089932,\n",
        " 0.96234918735666564,\n",
        " 0.96148365541454184,\n",
        " 0.97722866068729219,\n",
        " 0.9813903056763168,\n",
        " 0.99424780978310801,\n",
        " 0.98357543983256313,\n",
        " 1.0135086557563144,\n",
        " 0.9913231254073408,\n",
        " 1.0269899704816854,\n",
        " 1.0269899704816854,\n",
        " 1.0269899704816854,\n",
        " 1.0269899704816854,\n",
        " 1.0269899704816854,\n",
        " 1.0269899704816854,\n",
        " 1.0269899704816854]"
       ]
      }
     ],
     "prompt_number": 239
    },
    {
     "cell_type": "code",
     "collapsed": false,
     "input": [
      "np.mean(relexcrate)"
     ],
     "language": "python",
     "metadata": {},
     "outputs": [
      {
       "metadata": {},
       "output_type": "pyout",
       "prompt_number": 238,
       "text": [
        "0.99439293506403736"
       ]
      }
     ],
     "prompt_number": 238
    },
    {
     "cell_type": "code",
     "collapsed": false,
     "input": [],
     "language": "python",
     "metadata": {},
     "outputs": []
    },
    {
     "cell_type": "code",
     "collapsed": false,
     "input": [
      "np.var(relexcrate)"
     ],
     "language": "python",
     "metadata": {},
     "outputs": [
      {
       "metadata": {},
       "output_type": "pyout",
       "prompt_number": 240,
       "text": [
        "0.0009172411214496591"
       ]
      }
     ],
     "prompt_number": 240
    },
    {
     "cell_type": "code",
     "collapsed": false,
     "input": [
      "datetime.fromtimestamp(3600)"
     ],
     "language": "python",
     "metadata": {},
     "outputs": [
      {
       "metadata": {},
       "output_type": "pyout",
       "prompt_number": 109,
       "text": [
        "datetime.datetime(1969, 12, 31, 17, 0)"
       ]
      }
     ],
     "prompt_number": 109
    },
    {
     "cell_type": "code",
     "collapsed": false,
     "input": [
      "3600*24"
     ],
     "language": "python",
     "metadata": {},
     "outputs": [
      {
       "metadata": {},
       "output_type": "pyout",
       "prompt_number": 110,
       "text": [
        "86400"
       ]
      }
     ],
     "prompt_number": 110
    },
    {
     "cell_type": "code",
     "collapsed": false,
     "input": [],
     "language": "python",
     "metadata": {},
     "outputs": []
    }
   ],
   "metadata": {}
  }
 ]
}